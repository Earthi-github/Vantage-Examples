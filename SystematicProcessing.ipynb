{
 "cells": [
  {
   "cell_type": "markdown",
   "metadata": {},
   "source": [
    "# HOWTO - Use the Vantage APIs to create a systematic processing"
   ]
  },
  {
   "cell_type": "markdown",
   "metadata": {},
   "source": [
    "## Overview\n",
    "This example notebook will show how to launch a service in systematic mode giving an area of interest (AOI) and a time range.\n",
    "\n",
    "Steps:\n",
    "\n",
    "1. Retrieve service's details\n",
    "2. Prepare the range and the AOI\n",
    "3. Create the systematic processing and retrieve the jobs information\n",
    "\n",
    "\n",
    "More information about the available APIs can be found in the [Hal Browser](https://vantage.earthi.world/secure/api/v2.0/)."
   ]
  },
  {
   "cell_type": "markdown",
   "metadata": {},
   "source": [
    "## Prepare the environment"
   ]
  },
  {
   "cell_type": "code",
   "execution_count": null,
   "metadata": {},
   "outputs": [],
   "source": [
    "import requests\n",
    "import json"
   ]
  },
  {
   "cell_type": "code",
   "execution_count": null,
   "metadata": {},
   "outputs": [],
   "source": [
    "import getpass\n",
    "\n",
    "user = getpass.getpass('Username: ')"
   ]
  },
  {
   "cell_type": "markdown",
   "metadata": {},
   "source": [
    "### The API key can be retrieved from \"MyAccount\" tab on the platform: https://vantage.earthi.world/app/#/account"
   ]
  },
  {
   "cell_type": "code",
   "execution_count": null,
   "metadata": {},
   "outputs": [],
   "source": [
    "api = getpass.getpass('API Key: ')"
   ]
  },
  {
   "cell_type": "code",
   "execution_count": null,
   "metadata": {},
   "outputs": [],
   "source": [
    "endpoint = 'https://vantage.earthi.world/secure/api/v2.0'"
   ]
  },
  {
   "cell_type": "markdown",
   "metadata": {},
   "source": [
    "## 1. Retrieve service's details\n",
    "In this example we'll pick the service StabiliseVideo filtering the services by \"stabilise\""
   ]
  },
  {
   "cell_type": "code",
   "execution_count": null,
   "metadata": {},
   "outputs": [],
   "source": [
    "query = { 'sort':'type,name','filter':'stabilise'}\n",
    "response = requests.get(endpoint + '/services/search/findByFilterOnly', auth=(user,api), params=(query))\n",
    "response.status_code"
   ]
  },
  {
   "cell_type": "code",
   "execution_count": null,
   "metadata": {},
   "outputs": [],
   "source": [
    "json_data = json.loads(response.text)\n",
    "for service in json_data['_embedded']['services']:\n",
    "    print(\"Name: {0}\\nDescription: {1}\\nID: {2}\\n\".format(service['name'], service['description'], service['id']))"
   ]
  },
  {
   "cell_type": "code",
   "execution_count": null,
   "metadata": {},
   "outputs": [],
   "source": [
    "service_id = '11'\n",
    "response = requests.get(endpoint + '/services/' + service_id, auth=(user,api))\n",
    "response.status_code"
   ]
  },
  {
   "cell_type": "code",
   "execution_count": null,
   "metadata": {},
   "outputs": [],
   "source": [
    "response.json()"
   ]
  },
  {
   "cell_type": "markdown",
   "metadata": {},
   "source": [
    "## 2. Prepare the range and the AOI\n",
    "The platform takes in input WKT AOI.\n",
    "It's possible to convert LatLong coordinates with the private endpoint /utils/coords2wkt (PUT)"
   ]
  },
  {
   "cell_type": "code",
   "execution_count": null,
   "metadata": {},
   "outputs": [],
   "source": [
    "headers={'Accept':'application/hal+json', 'Content-Type':'application/hal+json'}\n",
    "raw_data='{\"latitude\":\"-0.118092\",\"longitude\":\"51.509865\",\"distance\":\"10000\"}'\n",
    "response = requests.put(endpoint + '/utils/coords2wkt', auth=(user,api), data=raw_data,headers=headers)\n",
    "response.status_code"
   ]
  },
  {
   "cell_type": "code",
   "execution_count": null,
   "metadata": {},
   "outputs": [],
   "source": [
    "response.text"
   ]
  },
  {
   "cell_type": "markdown",
   "metadata": {},
   "source": [
    "### Coordinates example (London) : \n",
    "POLYGON((-0.1180920000000053 51.599696528411954, -0.2079231556571279 51.509865, -0.1180920000000053 51.42003347158804, -0.0282605540535424 51.509865, -0.1180920000000053 51.599696528411954))"
   ]
  },
  {
   "cell_type": "markdown",
   "metadata": {},
   "source": [
    "### Select a time range, in the following example (1week):\n",
    "'productDateStart': '2021-09-08T00:00:00Z'\n",
    "'productDateEnd': '2021-09-15T23:59:59Z'"
   ]
  },
  {
   "cell_type": "markdown",
   "metadata": {},
   "source": [
    "## 3. Create the systematic processing and retrieve the jobs information"
   ]
  },
  {
   "cell_type": "code",
   "execution_count": null,
   "metadata": {},
   "outputs": [],
   "source": [
    "headers={'accept':'application/hal+json', 'Content-Type':'application/hal+json'}\n",
    "raw_data='{\"service\":{\"id\":11,\"name\":\"StabiliseVideo\",\"owner\":{\"role\":\"ADMIN\",\"name\":\"sunitha.vallabhaneni\",\"id\":10,\"_links\":{\"self\":{\"href\":\"https://vantage.earthi.world/secure/api/v2.0/users/10{?projection}\",\"templated\":true}}},\"type\":\"PROCESSOR\",\"_links\":{\"self\":{\"href\":\"https://vantage.earthi.world/secure/api/v2.0/services/11\"},\"service\":{\"href\":\"https://vantage.earthi.world/secure/api/v2.0/services/11{?projection}\",\"templated\":true},\"owner\":{\"href\":\"https://vantage.earthi.world/secure/api/v2.0/services/11/owner\"},\"contextFiles\":{\"href\":\"https://vantage.earthi.world/secure/api/v2.0/services/11/contextFiles\"}},\"access\":{\"published\":true,\"publishRequested\":false,\"currentLevel\":\"SUPERUSER\"},\"description\":\"Performs video stabilisation by aligning each video frame to a central reference frame\",\"dockerTag\":\"eovep/videoframesalignment\",\"status\":\"AVAILABLE\",\"licence\":\"OPEN\"},\"inputs\":{},\"systematicParameter\":\"InputVideo\"}'\n",
    "payload = {'productDateStart': '2021-09-08T00:00:00Z', 'mission': 'sentinel2', 's2ProcessingLevel': 'L1C', 'maxCloudCover': '10', 'aoi': 'POLYGON((-0.1180920000000053 51.599696528411954, -0.2079231556571279 51.509865, -0.1180920000000053 51.42003347158804, -0.0282605540535424 51.509865, -0.1180920000000053 51.599696528411954))', 'productDateEnd': '2021-09-15T23:59:59Z', 'catalogue': 'SATELLITE'}\n",
    "\n",
    "#activeFire\n",
    "#headers={'accept':'application/hal+json', 'Content-Type':'application/hal+json'}\n",
    "#raw_data='{\"service\":{\"id\":2,\"name\":\"ActiveFire\",\"owner\":{\"role\":\"ADMIN\",\"name\":\"alexandre.fournot\",\"id\":2,\"_links\":{\"self\":{\"href\":\"https://vantage.earthi.world/secure/api/v2.0/users/2{?projection}\",\"templated\":true}}},\"type\":\"PARALLEL_PROCESSOR\",\"_links\":{\"self\":{\"href\":\"https://vantage.earthi.world/secure/api/v2.0/services/2\"},\"service\":{\"href\":\"https://vantage.earthi.world/secure/api/v2.0/services/2{?projection}\",\"templated\":true},\"owner\":{\"href\":\"https://vantage.earthi.world/secure/api/v2.0/services/2/owner\"},\"contextFiles\":{\"href\":\"https://vantage.earthi.world/secure/api/v2.0/services/2/contextFiles\"}},\"access\":{\"published\":false,\"publishRequested\":false,\"currentLevel\":\"SUPERUSER\"},\"description\":\"This service creates a false colour composite from a combination of Sentinel-2 visible, NIR and SWIR bands to visualise regions of active fire.\",\"dockerTag\":\"eovep/activefire\",\"status\":\"AVAILABLE\",\"licence\":\"OPEN\"},\"inputs\":{},\"systematicParameter\":\"parallelInputs\"}'\n",
    "#payload = {'productDateStart': '2021-09-08T00:00:00Z', 'mission': 'sentinel2', 's2ProcessingLevel': 'L1C', 'maxCloudCover': '10', 'aoi': 'POLYGON((-0.1180920000000053 51.599696528411954, -0.2079231556571279 51.509865, -0.1180920000000053 51.42003347158804, -0.0282605540535424 51.509865, -0.1180920000000053 51.599696528411954))', 'productDateEnd': '2021-09-15T23:59:59Z', 'catalogue': 'SATELLITE'}\n",
    "# Comment the following to avoid launching a job \n",
    "response = requests.post(endpoint + '/jobConfigs/launchSystematic', auth=(user,api), data=raw_data,headers=headers,params=payload)\n",
    "response.status_code"
   ]
  },
  {
   "cell_type": "markdown",
   "metadata": {},
   "source": [
    "### Get the current user's ID"
   ]
  },
  {
   "cell_type": "code",
   "execution_count": null,
   "metadata": {},
   "outputs": [],
   "source": [
    "response = requests.get(endpoint + '/users/current', auth=(user,api))\n",
    "response.status_code"
   ]
  },
  {
   "cell_type": "code",
   "execution_count": null,
   "metadata": {},
   "outputs": [],
   "source": [
    "response.json()"
   ]
  },
  {
   "cell_type": "markdown",
   "metadata": {},
   "source": [
    "### Filter the user's systematicProcessings"
   ]
  },
  {
   "cell_type": "code",
   "execution_count": null,
   "metadata": {},
   "outputs": [],
   "source": [
    "userID = '50'\n",
    "query = { 'sort,filter':'name','owner':'https://vantage.earthi.world/secure/api/v2.0/users/50'}\n",
    "#response = requests.get(endpoint + '/services/search/findByFilterOnly', auth=(user,api), params=(query))\n",
    "#search/findByOwner?sort=name&filter=&owner=https://vantage.earthi.world/secure/api/v2.0/users/50\n",
    "response = requests.get(endpoint + '/systematicProcessings/search/findByOwner', auth=(user,api), params=(query))\n",
    "response.status_code"
   ]
  },
  {
   "cell_type": "code",
   "execution_count": null,
   "metadata": {},
   "outputs": [],
   "source": [
    "json_data = json.loads(response.text)\n",
    "for systematicProcessings in json_data['_embedded']['systematicProcessings']:\n",
    "    print(\"ID: {0}\\nSTATUS: {1}\\n\".format(systematicProcessings['id'], systematicProcessings['status']))"
   ]
  },
  {
   "cell_type": "markdown",
   "metadata": {},
   "source": [
    "### Display the systematicProcessing's jobs"
   ]
  },
  {
   "cell_type": "code",
   "execution_count": null,
   "metadata": {},
   "outputs": [],
   "source": [
    "sysID = '5'\n",
    "response = requests.get(endpoint + '/systematicProcessings/' + sysID, auth=(user,api))\n",
    "response.status_code"
   ]
  },
  {
   "cell_type": "code",
   "execution_count": null,
   "metadata": {},
   "outputs": [],
   "source": [
    "response.json()"
   ]
  },
  {
   "cell_type": "markdown",
   "metadata": {},
   "source": [
    "### Parent job"
   ]
  },
  {
   "cell_type": "code",
   "execution_count": null,
   "metadata": {},
   "outputs": [],
   "source": [
    "sysID = '5'\n",
    "response = requests.get(endpoint + '/systematicProcessings/' + sysID + '/parentJob', auth=(user,api))\n",
    "response.status_code"
   ]
  },
  {
   "cell_type": "code",
   "execution_count": null,
   "metadata": {},
   "outputs": [],
   "source": [
    "response.json()"
   ]
  },
  {
   "cell_type": "markdown",
   "metadata": {},
   "source": [
    "### Subjobs"
   ]
  },
  {
   "cell_type": "code",
   "execution_count": null,
   "metadata": {},
   "outputs": [],
   "source": [
    "parentID = '1185'\n",
    "response = requests.get(endpoint + '/jobs/' + parentID + '/subJobs', auth=(user,api))\n",
    "response.status_code"
   ]
  },
  {
   "cell_type": "code",
   "execution_count": null,
   "metadata": {},
   "outputs": [],
   "source": [
    "response.json()"
   ]
  },
  {
   "cell_type": "markdown",
   "metadata": {},
   "source": [
    "### Job details"
   ]
  },
  {
   "cell_type": "code",
   "execution_count": null,
   "metadata": {},
   "outputs": [],
   "source": [
    "jobID = '1186'\n",
    "response = requests.get(endpoint + '/jobs/' + jobID, auth=(user,api))\n",
    "response.status_code"
   ]
  },
  {
   "cell_type": "code",
   "execution_count": null,
   "metadata": {},
   "outputs": [],
   "source": [
    "response.json()"
   ]
  },
  {
   "cell_type": "markdown",
   "metadata": {},
   "source": [
    "### Retrieve the logs"
   ]
  },
  {
   "cell_type": "code",
   "execution_count": null,
   "metadata": {},
   "outputs": [],
   "source": [
    "jobID = '1185'\n",
    "response = requests.get(endpoint + '/jobs/' + jobID + '/logs', auth=(user,api))\n",
    "response.status_code"
   ]
  },
  {
   "cell_type": "code",
   "execution_count": null,
   "metadata": {},
   "outputs": [],
   "source": [
    "response.json()"
   ]
  },
  {
   "cell_type": "code",
   "execution_count": null,
   "metadata": {},
   "outputs": [],
   "source": []
  }
 ],
 "metadata": {
  "kernelspec": {
   "display_name": "Python 3",
   "language": "python",
   "name": "python3"
  },
  "language_info": {
   "codemirror_mode": {
    "name": "ipython",
    "version": 3
   },
   "file_extension": ".py",
   "mimetype": "text/x-python",
   "name": "python",
   "nbconvert_exporter": "python",
   "pygments_lexer": "ipython3",
   "version": "3.7.1"
  }
 },
 "nbformat": 4,
 "nbformat_minor": 2
}
