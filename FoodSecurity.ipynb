{
 "cells": [
  {
   "cell_type": "code",
   "execution_count": null,
   "metadata": {},
   "outputs": [],
   "source": [
    "# pip install python-dateutil requests\n",
    "\n",
    "import requests\n",
    "import base64\n",
    "import json\n",
    "import tempfile\n",
    "import zipfile\n",
    "from pathlib import Path\n",
    "from datetime import datetime  \n",
    "from datetime import timedelta "
   ]
  },
  {
   "cell_type": "code",
   "execution_count": null,
   "metadata": {},
   "outputs": [],
   "source": [
    "def download_file(url, local_filename, custonHeader, checkCert=True):\n",
    "    print(f'{url} started')\n",
    "    with requests.get(url,headers=custonHeader, stream=True, verify=checkCert ) as r:\n",
    "        r.raise_for_status()\n",
    "        with open(local_filename, 'wb') as f:\n",
    "            for chunk in r.iter_content(chunk_size=8192):  \n",
    "                f.write(chunk)\n",
    "\n",
    "    print(f'download {url} done')\n",
    "    return local_filename"
   ]
  },
  {
   "cell_type": "markdown",
   "metadata": {},
   "source": [
    "![sc1](http:///www.plantuml.com/plantuml/png/TO_DQiCm48Jl-nHBxhdq6708j5Mf-qF9Ztifb6syf097KgML8NtwUXE5EfJwOCJEDyFC8Wb5oViEQ2i-ukdR93u_AU46mi3OhGta1EiSh71yf0_LQhWGc-57Eox6vaARcDLqVVioAQ81sE1qhWbLXSP7JdBjUuvOLL1FvyqCxtX8j2rxV6AXbeIWA2jjFJPfVTkJC3O0dVT1pOf9Jj0SFSliz7WoGKaQO-nQQ7aKD4AMd78dwNYgPvZTjmqOor47hAxUds-QUoslZ1awCiNj9tvbZWVCoRfT6METSEofGtBjctjzM6FmtM7dNN6MTIKHVgUPFykCyhhiJ9U4_rSPACXurMA0yhxx0G00)"
   ]
  },
  {
   "cell_type": "code",
   "execution_count": null,
   "metadata": {},
   "outputs": [],
   "source": [
    "INPUTs={}\n",
    "INPUTs['NumFrames']=1\n",
    "INPUTs['identifier']='VX0200013a'\n",
    "INPUTs['ForestCoverServiceId']='https://vantage.earthi.world/secure/api/v2.0/services/20'\n",
    "INPUTs['wkt']=None"
   ]
  },
  {
   "cell_type": "markdown",
   "metadata": {},
   "source": [
    "# Vantage\n",
    "\n",
    "## Set Vantage User configurations"
   ]
  },
  {
   "cell_type": "code",
   "execution_count": null,
   "metadata": {},
   "outputs": [],
   "source": [
    "USERNAME=input(\"Insert Vantage username: \")\n",
    "TOKEN=input(\"Insert Vantage token:\")\n",
    "basic=USERNAME+':'+TOKEN\n",
    "AUTHORIZATION=\"Basic \" + base64.b64encode(bytes(basic, 'utf-8')).decode('utf-8')\n",
    "HEADERS={'Authorization':AUTHORIZATION,'Content-Type':'application/hal+json;charset=UTF-8'}"
   ]
  },
  {
   "cell_type": "markdown",
   "metadata": {},
   "source": [
    "# Retrieve the video info"
   ]
  },
  {
   "cell_type": "markdown",
   "metadata": {},
   "source": [
    "We need:\n",
    "1. File **URI** for Vantage \n",
    "1. Video **startDate** for FoodSecurity Tep\n",
    "1. Video **completionDate**  for FoodSecurity Tep"
   ]
  },
  {
   "cell_type": "markdown",
   "metadata": {},
   "source": [
    "## Get video metadata /secure/api/v2.0/search\n",
    "\n",
    "We use the video **identifier(VX0200013a)** to retrieve the metadata"
   ]
  },
  {
   "cell_type": "code",
   "execution_count": null,
   "metadata": {},
   "outputs": [],
   "source": [
    "url_search_metadata='https://vantage.earthi.world/secure/api/v2.0/search?catalogue=REMOTE_DATA_commercialData&geometry=&identifier='+INPUTs['identifier']+'&remoteDataCollection_commercialData=eovep2e8134bcdaf74f528b23b6dba883bcde'\n",
    "search_result = requests.get(url_search_metadata,headers=HEADERS)"
   ]
  },
  {
   "cell_type": "code",
   "execution_count": null,
   "metadata": {},
   "outputs": [],
   "source": [
    "search_result_dict = json.loads(search_result.text)\n",
    "found=False\n",
    "for i in search_result_dict['features']:\n",
    "    productIdentifier = i['properties']['productIdentifier']\n",
    "    if productIdentifier == INPUTs['identifier']:\n",
    "        INPUTs['startDate']=i['properties']['startDate'].split('.')[0]\n",
    "        INPUTs['completionDate']=i['properties']['completionDate'].split('.')[0]\n",
    "        INPUTs['VideoFile']=i['properties']['platformUrl']\n",
    "        found=True\n",
    "        break\n",
    "    \n",
    "if found is False:\n",
    "    print(\"Video identifier NOT FOUND\")\n",
    "    quit()\n",
    "else:\n",
    "    print(f'Start Date: {INPUTs[\"startDate\"]}')\n",
    "    print(f'CompletionDate: {INPUTs[\"completionDate\"]}')\n",
    "    print(f'Video Uri: {INPUTs[\"VideoFile\"]}')"
   ]
  },
  {
   "cell_type": "markdown",
   "metadata": {},
   "source": [
    "**Adds 7 days before and after the video date properties. These dates will be use in FS-TEP**"
   ]
  },
  {
   "cell_type": "code",
   "execution_count": null,
   "metadata": {},
   "outputs": [],
   "source": [
    "INPUTs['startDate']=datetime.fromisoformat(INPUTs[\"startDate\"])-timedelta(days=7)\n",
    "INPUTs['completionDate']=datetime.fromisoformat(INPUTs[\"completionDate\"])+timedelta(days=7)\n",
    "INPUTs"
   ]
  },
  {
   "cell_type": "markdown",
   "metadata": {},
   "source": [
    "# Start the service"
   ]
  },
  {
   "cell_type": "markdown",
   "metadata": {},
   "source": [
    "1. **Creating the configuration**;\n",
    "1. **Start**;"
   ]
  },
  {
   "cell_type": "markdown",
   "metadata": {},
   "source": [
    "## Creating the configuration(POST /secure/api/v2.0/jobConfigs)"
   ]
  },
  {
   "cell_type": "code",
   "execution_count": null,
   "metadata": {},
   "outputs": [],
   "source": [
    "payload=f'{{\"service\": \"{INPUTs[\"ForestCoverServiceId\"]}\", \"inputs\":{{\"VideoFile\":[ \"{INPUTs[\"VideoFile\"]}\" ],\"NumFrames\":[{INPUTs[\"NumFrames\"]}]}}, \"parent\":null}}'\n",
    "payload"
   ]
  },
  {
   "cell_type": "code",
   "execution_count": null,
   "metadata": {},
   "outputs": [],
   "source": [
    "url='https://vantage.earthi.world/secure/api/v2.0/jobConfigs'\n",
    "r = requests.post(url,data=str(payload),headers=HEADERS)"
   ]
  },
  {
   "cell_type": "code",
   "execution_count": null,
   "metadata": {},
   "outputs": [],
   "source": [
    "if r.status_code != 201:\n",
    "    print(\"Request preparation failed!!\")\n",
    "    quit()"
   ]
  },
  {
   "cell_type": "code",
   "execution_count": null,
   "metadata": {},
   "outputs": [],
   "source": [
    "r.json()"
   ]
  },
  {
   "cell_type": "code",
   "execution_count": null,
   "metadata": {},
   "outputs": [],
   "source": [
    "resp_dict = json.loads(r.text)\n",
    "IDCONFIG=resp_dict[\"id\"]\n",
    "print(f'Responce ID: {IDCONFIG}')"
   ]
  },
  {
   "cell_type": "markdown",
   "metadata": {},
   "source": [
    "## Start(/secure/api/v2.0/jobConfigs/{IDCONFIG}/launch)"
   ]
  },
  {
   "cell_type": "code",
   "execution_count": null,
   "metadata": {},
   "outputs": [],
   "source": [
    "url=f'https://vantage.earthi.world/secure/api/v2.0/jobConfigs/{IDCONFIG}/launch'\n",
    "run_request = requests.post(url,headers=HEADERS)"
   ]
  },
  {
   "cell_type": "markdown",
   "metadata": {},
   "source": [
    "**Checks return code**"
   ]
  },
  {
   "cell_type": "code",
   "execution_count": null,
   "metadata": {},
   "outputs": [],
   "source": [
    "run_request_dict = json.loads(run_request.text)\n",
    "JOB_REQUEST=run_request.status_code\n",
    "JOB_STATUS=run_request_dict[\"content\"][\"status\"]\n",
    "JOB_ID=run_request_dict[\"content\"][\"id\"]\n",
    "\n",
    "if JOB_REQUEST != 202:\n",
    "    print(\"Run error!\")\n",
    "    quit()\n",
    "\n",
    "print(f'Request Status code: {JOB_REQUEST} Job status: {JOB_STATUS} JobId: {JOB_ID}')"
   ]
  },
  {
   "cell_type": "markdown",
   "metadata": {},
   "source": [
    "## GET STATUS(/secure/api/v2.0/jobs/{JOB_ID})"
   ]
  },
  {
   "cell_type": "code",
   "execution_count": null,
   "metadata": {},
   "outputs": [],
   "source": [
    "url_status=f'https://vantage.earthi.world/secure/api/v2.0/jobs/{JOB_ID}'\n",
    "status = requests.get(url_status,headers=HEADERS)\n",
    "\n",
    "url_status_dict=json.loads(status.text)\n",
    "STATUS_REQUEST=status.status_code\n",
    "\n",
    "if STATUS_REQUEST != 200:\n",
    "    print(\"Request status error!\")\n",
    "    quit()\n",
    "\n",
    "JOB_STATUS=url_status_dict[\"status\"]\n",
    "JOB_PHASE=url_status_dict[\"phase\"]\n",
    "JOB_STAGE=url_status_dict[\"stage\"]\n",
    "\n",
    "print(f'Request Status code: {STATUS_REQUEST} Job status: {JOB_STATUS} Job phase: {JOB_PHASE} Job stage: {JOB_STAGE}')"
   ]
  },
  {
   "cell_type": "markdown",
   "metadata": {},
   "source": [
    "**Repeat the last step until the service is complete or fails**"
   ]
  },
  {
   "cell_type": "markdown",
   "metadata": {},
   "source": [
    "# GET RESULTS"
   ]
  },
  {
   "cell_type": "code",
   "execution_count": null,
   "metadata": {},
   "outputs": [],
   "source": [
    "output_dict = json.loads(status.text)\n",
    "url=str(output_dict['_links']['outputFiles']['href'])\n",
    "print(f'Get download files info: {url}')"
   ]
  },
  {
   "cell_type": "code",
   "execution_count": null,
   "metadata": {},
   "outputs": [],
   "source": [
    "output_files = requests.get(url,headers=HEADERS)\n",
    "resp_dict = json.loads(output_files.text)\n",
    "resp_dict"
   ]
  },
  {
   "cell_type": "code",
   "execution_count": null,
   "metadata": {},
   "outputs": [],
   "source": [
    "ZIP_FILE=None\n",
    "for down in resp_dict['_embedded']['platformFiles']:\n",
    "    local_filename = down['filename'].split('/')[-1]\n",
    "    file_to_download = \"https://vantage.earthi.world/secure/api/v2.0/platformFiles/\" + str(down['id'])+\"/dl\"\n",
    "    print(f'File path: {file_to_download} filename: {local_filename}')\n",
    "    download_file(file_to_download,local_filename,HEADERS)\n",
    "    ZIP_FILE=local_filename\n",
    "    \n",
    "print('Files downloaded')"
   ]
  },
  {
   "cell_type": "markdown",
   "metadata": {},
   "source": [
    "## Unzip result, Retrieve WKT info"
   ]
  },
  {
   "cell_type": "code",
   "execution_count": null,
   "metadata": {},
   "outputs": [],
   "source": [
    "print(f'Unzip result file {ZIP_FILE}')\n",
    "tmpf = tempfile.TemporaryDirectory(suffix='_unzip', prefix='unzip_')\n",
    "\n",
    "print(f'extract wkt from {ZIP_FILE}' )\n",
    "with zipfile.ZipFile(ZIP_FILE, 'r') as zipObject:\n",
    "    listOfFileNames = zipObject.namelist()\n",
    "    for fileName in listOfFileNames:\n",
    "        if fileName.endswith('.wkt'):\n",
    "            print(f'extract file: {fileName}')\n",
    "            zipObject.extract(fileName, tmpf.name)\n",
    "            INPUTs['wkt'] = Path(f'{tmpf.name}/{fileName}').read_text().rstrip()\n",
    "            print(f'>{INPUTs[\"wkt\"]}<')        \n",
    "tmpf.cleanup()   \n",
    "if INPUTs['wkt'] is None:\n",
    "    print(\"wkt not found \")\n",
    "    quit()"
   ]
  },
  {
   "cell_type": "markdown",
   "metadata": {},
   "source": [
    "## Inputs updated"
   ]
  },
  {
   "cell_type": "code",
   "execution_count": null,
   "metadata": {},
   "outputs": [],
   "source": [
    "INPUTs"
   ]
  },
  {
   "cell_type": "markdown",
   "metadata": {},
   "source": [
    "# FS-TEP\n",
    "\n",
    "## Set FSTEP USER configurations"
   ]
  },
  {
   "cell_type": "code",
   "execution_count": null,
   "metadata": {},
   "outputs": [],
   "source": [
    "USERNAME_FSTEP=input(\"Insert FS-TEP username: \")\n",
    "TOKEN_FSTEP=input(\"Insert FS-TEP token:\")\n",
    "basic=f'{USERNAME_FSTEP}:{TOKEN_FSTEP}'\n",
    "AUTHORIZATION=\"Basic \" + base64.b64encode(bytes(basic, 'utf-8')).decode('utf-8')\n",
    "HEADERS={'Authorization':AUTHORIZATION,'Content-Type':'application/hal+json;charset=UTF-8'}\n",
    "HEADERS"
   ]
  },
  {
   "cell_type": "markdown",
   "metadata": {},
   "source": [
    "## S2_NDVI parameter\n",
    "\n",
    "The NDVI service requires a **Sentinel-2 tile**, we can retrieve tile using the FS-TEP search API: */secure/api/v2.0/search*\n",
    "\n",
    "1. WKT polygon\n",
    "1. Video Start date\n",
    "1. Video Completion date"
   ]
  },
  {
   "cell_type": "code",
   "execution_count": null,
   "metadata": {},
   "outputs": [],
   "source": [
    "PROCESSING_LEVEL='L1C'\n",
    "MISSION='sentinel2'\n",
    "CATALOG_TYPE='SATELLITE'\n",
    "MAX_CLOUD_COVER='10'\n",
    "PRODUCT_END=str(INPUTs['completionDate'].strftime('%Y-%m-%dT%H:%M:%SZ'))\n",
    "PRODUCT_START=str(INPUTs['startDate'].strftime('%Y-%m-%dT%H:%M:%SZ'))\n",
    "WKT=INPUTs[\"wkt\"]\n",
    "\n",
    "url=f'https://foodsecurity-tep.net/secure/api/v2.0/search?aoi={WKT}&catalogue={CATALOG_TYPE}&maxCloudCover={MAX_CLOUD_COVER}&mission={MISSION}&productDateEnd={PRODUCT_END}&productDateStart={PRODUCT_START}&s2ProcessingLevel={PROCESSING_LEVEL}'\n",
    "url"
   ]
  },
  {
   "cell_type": "markdown",
   "metadata": {},
   "source": [
    "**Get results info**"
   ]
  },
  {
   "cell_type": "code",
   "execution_count": null,
   "metadata": {},
   "outputs": [],
   "source": [
    "search_request = requests.get(url,headers=HEADERS, verify=False)"
   ]
  },
  {
   "cell_type": "code",
   "execution_count": null,
   "metadata": {},
   "outputs": [],
   "source": [
    "results_dict = json.loads(search_request.text)\n",
    "TOTAL_RESULT = results_dict['page']['totalElements']\n",
    "print(f'Results: {TOTAL_RESULT}')"
   ]
  },
  {
   "cell_type": "markdown",
   "metadata": {},
   "source": [
    "**Get product identifier from results**"
   ]
  },
  {
   "cell_type": "code",
   "execution_count": null,
   "metadata": {},
   "outputs": [],
   "source": [
    "INPUTs['sentinel2Input']=None\n",
    "for i in results_dict['features']:\n",
    "    print(f'ProductIdentifier: {i[\"properties\"][\"productIdentifier\"]} platformUrl: {i[\"properties\"][\"platformUrl\"]}')\n",
    "    if INPUTs['sentinel2Input'] is None:\n",
    "          INPUTs['sentinel2Input']=i[\"properties\"][\"platformUrl\"]        "
   ]
  },
  {
   "cell_type": "code",
   "execution_count": null,
   "metadata": {},
   "outputs": [],
   "source": [
    "INPUTs['sentinel2Input']='sentinel2:///S2A_MSIL1C_20220225T111051_N0400_R137_T31VEH_20220225T113038.SAFE'"
   ]
  },
  {
   "cell_type": "markdown",
   "metadata": {},
   "source": [
    "## RUN S2_NDVI on FSTEP"
   ]
  },
  {
   "cell_type": "markdown",
   "metadata": {},
   "source": [
    "## Creating the configuration..."
   ]
  },
  {
   "cell_type": "code",
   "execution_count": null,
   "metadata": {},
   "outputs": [],
   "source": [
    "payload=f'{{\"service\":\"https://foodsecurity-tep.net/secure/api/v2.0/services/20\",\"inputs\":{{\"parallelInputs\":[\"{INPUTs[\"sentinel2Input\"]}\"],\"collection\":[\"\"]}},\"parent\":null}}'\n",
    "url='https://foodsecurity-tep.net/secure/api/v2.0/jobConfigs'\n",
    "request_config_fstep = requests.post(url,data=str(payload),headers=HEADERS, verify=False)"
   ]
  },
  {
   "cell_type": "markdown",
   "metadata": {},
   "source": [
    "**Remember to check the http_status_cod**"
   ]
  },
  {
   "cell_type": "code",
   "execution_count": null,
   "metadata": {},
   "outputs": [],
   "source": [
    "request_config_fstep_dict=json.loads(request_config_fstep.text)\n",
    "IDCONFIG=request_config_fstep_dict['id']\n",
    "print(f'Config id: {IDCONFIG}')"
   ]
  },
  {
   "cell_type": "markdown",
   "metadata": {},
   "source": [
    "## Start..."
   ]
  },
  {
   "cell_type": "code",
   "execution_count": null,
   "metadata": {},
   "outputs": [],
   "source": [
    "url=f'https://foodsecurity-tep.net/secure/api/v2.0/jobConfigs/{IDCONFIG}/launch'\n",
    "run_request_fstep = requests.post(url,headers=HEADERS, verify=False)"
   ]
  },
  {
   "cell_type": "markdown",
   "metadata": {},
   "source": [
    "**Remember to check the http_status_code**"
   ]
  },
  {
   "cell_type": "code",
   "execution_count": null,
   "metadata": {},
   "outputs": [],
   "source": [
    "run_dict=json.loads(run_request_fstep.text)\n",
    "\n",
    "JOB_STATUS=run_dict[\"content\"][\"status\"]\n",
    "JOB_ID=run_dict[\"content\"][\"id\"]\n",
    "\n",
    "print(f'Job status: {JOB_STATUS} JobId: {JOB_ID}')"
   ]
  },
  {
   "cell_type": "markdown",
   "metadata": {},
   "source": [
    "## Get status(/secure/api/v2.0/jobs/{JOB_ID})"
   ]
  },
  {
   "cell_type": "code",
   "execution_count": null,
   "metadata": {},
   "outputs": [],
   "source": [
    "url_status=f'https://foodsecurity-tep.net/secure/api/v2.0/jobs/{JOB_ID}'\n",
    "status = requests.get(url_status,headers=HEADERS,verify=False)\n",
    "\n",
    "url_status_dict=json.loads(status.text)\n",
    "STATUS_REQUEST=status.status_code\n",
    "\n",
    "JOB_STATUS=url_status_dict[\"status\"]\n",
    "JOB_PHASE=url_status_dict[\"phase\"]\n",
    "JOB_STAGE=url_status_dict[\"stage\"]\n",
    "JOB_ID_CONFIRM=url_status_dict[\"id\"]\n",
    "\n",
    "status.text\n",
    "\n",
    "#print(f'Request Status code: {STATUS_REQUEST} JobId: {JOB_ID_CONFIRM} Job status: {JOB_STATUS} Job phase: {JOB_PHASE} Job stage: {JOB_STAGE}')"
   ]
  },
  {
   "cell_type": "markdown",
   "metadata": {},
   "source": [
    "**Repeat the last tep until the service is complete or fails**"
   ]
  },
  {
   "cell_type": "markdown",
   "metadata": {},
   "source": [
    "## Get final result"
   ]
  },
  {
   "cell_type": "code",
   "execution_count": null,
   "metadata": {},
   "outputs": [],
   "source": [
    "output_dict = json.loads(status.text)\n",
    "url=str(output_dict['_links']['outputFiles']['href'])\n",
    "print(f'Get download files info: {url}')\n",
    "#request\n",
    "output_files = requests.get(url,headers=HEADERS,verify=False)\n",
    "resp_dict = json.loads(output_files.text)\n",
    "\n",
    "for down in resp_dict['_embedded']['platformFiles']:\n",
    "    local_filename = down['filename'].split('/')[-1]\n",
    "    file_to_download = \"https://foodsecurity-tep.net/secure/api/v2.0/platformFiles/\" + str(down['id'])+\"/dl\"\n",
    "    print(f'File path: {file_to_download} filename: {local_filename}')\n",
    "    download_file(file_to_download,local_filename,HEADERS,False)"
   ]
  },
  {
   "cell_type": "code",
   "execution_count": null,
   "metadata": {},
   "outputs": [],
   "source": []
  }
 ],
 "metadata": {
  "kernelspec": {
   "display_name": "Python 3",
   "language": "python",
   "name": "python3"
  },
  "language_info": {
   "codemirror_mode": {
    "name": "ipython",
    "version": 3
   },
   "file_extension": ".py",
   "mimetype": "text/x-python",
   "name": "python",
   "nbconvert_exporter": "python",
   "pygments_lexer": "ipython3",
   "version": "3.7.1"
  }
 },
 "nbformat": 4,
 "nbformat_minor": 2
}
