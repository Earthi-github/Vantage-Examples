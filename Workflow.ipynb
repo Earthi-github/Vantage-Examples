{
 "cells": [
  {
   "cell_type": "markdown",
   "metadata": {},
   "source": [
    "# HOWTO - Use the Vantage APIs to create a Workflow"
   ]
  },
  {
   "cell_type": "markdown",
   "metadata": {},
   "source": [
    "## Overview\n",
    "This example notebook will show how to use the output product of one service as the input of another one on Vantage using the platform's APIs.\n",
    "\n",
    "Steps:\n",
    "\n",
    "1. Retrieve service's details\n",
    "2. Retrieve collection's details\n",
    "3. Run the jobs and get the output products\n",
    "4. Run the second service using the output files of the previous jobs\n",
    "5. Download the final product\n",
    "\n",
    "More information about the available APIs can be found in the [Hal Browser](https://vantage.earthi.world/secure/api/v2.0/)."
   ]
  },
  {
   "cell_type": "markdown",
   "metadata": {},
   "source": [
    "## 0. Preparation steps"
   ]
  },
  {
   "cell_type": "code",
   "execution_count": 1,
   "metadata": {},
   "outputs": [],
   "source": [
    "import requests\n",
    "import json"
   ]
  },
  {
   "cell_type": "code",
   "execution_count": 2,
   "metadata": {},
   "outputs": [
    {
     "name": "stdin",
     "output_type": "stream",
     "text": [
      "Username:  ·········\n"
     ]
    }
   ],
   "source": [
    "import getpass\n",
    "\n",
    "user = getpass.getpass('Username: ')"
   ]
  },
  {
   "cell_type": "code",
   "execution_count": 3,
   "metadata": {},
   "outputs": [
    {
     "name": "stdin",
     "output_type": "stream",
     "text": [
      "API Key:  ································································\n"
     ]
    }
   ],
   "source": [
    "api = getpass.getpass('API Key: ')"
   ]
  },
  {
   "cell_type": "code",
   "execution_count": 4,
   "metadata": {},
   "outputs": [],
   "source": [
    "endpoint = 'https://vantage.earthi.world/secure/api/v2.0'"
   ]
  },
  {
   "cell_type": "markdown",
   "metadata": {},
   "source": [
    "## 1. Retrieve service's details"
   ]
  },
  {
   "cell_type": "markdown",
   "metadata": {},
   "source": [
    "#### 1.1 Filter the services"
   ]
  },
  {
   "cell_type": "code",
   "execution_count": 86,
   "metadata": {},
   "outputs": [
    {
     "data": {
      "text/plain": [
       "200"
      ]
     },
     "execution_count": 86,
     "metadata": {},
     "output_type": "execute_result"
    }
   ],
   "source": [
    "query = { 'sort':'type,name','filter':'forest'}\n",
    "response = requests.get(endpoint + '/services/search/findByFilterOnly', auth=(user,api), params=(query))\n",
    "response.status_code"
   ]
  },
  {
   "cell_type": "code",
   "execution_count": 87,
   "metadata": {},
   "outputs": [
    {
     "name": "stdout",
     "output_type": "stream",
     "text": [
      "Name: ForestCover\n",
      "Description: Produces a forest cover map for the first video frame.\n",
      "ID: 20\n",
      "\n"
     ]
    }
   ],
   "source": [
    "json_data = json.loads(response.text)\n",
    "for service in json_data['_embedded']['services']:\n",
    "    print(\"Name: {0}\\nDescription: {1}\\nID: {2}\\n\".format(service['name'], service['description'], service['id']))"
   ]
  },
  {
   "cell_type": "markdown",
   "metadata": {},
   "source": [
    "#### 1.2 Show service detailed information"
   ]
  },
  {
   "cell_type": "code",
   "execution_count": 88,
   "metadata": {},
   "outputs": [],
   "source": [
    "service_id = '20'"
   ]
  },
  {
   "cell_type": "code",
   "execution_count": 89,
   "metadata": {},
   "outputs": [
    {
     "data": {
      "text/plain": [
       "200"
      ]
     },
     "execution_count": 89,
     "metadata": {},
     "output_type": "execute_result"
    }
   ],
   "source": [
    "response = requests.get(endpoint + '/services/' + service_id, auth=(user,api))\n",
    "response.status_code"
   ]
  },
  {
   "cell_type": "code",
   "execution_count": 90,
   "metadata": {},
   "outputs": [
    {
     "data": {
      "text/plain": [
       "{'id': 20,\n",
       " 'name': 'ForestCover',\n",
       " 'description': 'Produces a forest cover map for the first video frame.',\n",
       " 'type': 'PROCESSOR',\n",
       " 'dockerTag': 'eovep/forestcover',\n",
       " 'stripProxyPath': True,\n",
       " 'licence': 'OPEN',\n",
       " 'status': 'AVAILABLE',\n",
       " 'serviceDescriptor': {'id': 'ForestCover',\n",
       "  'title': 'ForestCover',\n",
       "  'description': 'Produces a forest cover map for the first video frame.',\n",
       "  'version': '0.1',\n",
       "  'storeSupported': False,\n",
       "  'statusSupported': False,\n",
       "  'serviceType': 'Java',\n",
       "  'serviceProvider': 'ForestCover',\n",
       "  'dataInputs': [{'id': 'VideoFile',\n",
       "    'title': 'Video File',\n",
       "    'description': 'Input video file to process',\n",
       "    'minOccurs': 0,\n",
       "    'maxOccurs': 0,\n",
       "    'data': 'LITERAL',\n",
       "    'defaultAttrs': {'dataType': 'string'},\n",
       "    'supportedAttrs': None}],\n",
       "  'dataOutputs': [{'id': 'output',\n",
       "    'title': 'output',\n",
       "    'description': 'Output cloud mask',\n",
       "    'minOccurs': 0,\n",
       "    'maxOccurs': 0,\n",
       "    'data': 'LITERAL',\n",
       "    'defaultAttrs': {'dataType': 'string'},\n",
       "    'supportedAttrs': None,\n",
       "    'platformMetadata': {'format': 'OTHER'}}],\n",
       "  'metadata': None},\n",
       " 'serviceFilesUri': None,\n",
       " 'additionalMounts': {},\n",
       " 'dockerBuildInfo': {'lastBuiltFingerprint': '9f313c36904e5f45a2b5ba77b4ec81b6',\n",
       "  'errorMessage': '',\n",
       "  'dockerBuildStatus': 'COMPLETED'},\n",
       " 'requiredResources': None,\n",
       " 'externalServiceUri': None,\n",
       " 'port': '8080/tcp',\n",
       " 'dataSourceName': 'PLATFORM_SERVICE_ForestCover',\n",
       " '_embedded': {'owner': {'role': 'ADMIN',\n",
       "   'name': 'xenofon.karagiannis',\n",
       "   'id': 24,\n",
       "   '_links': {'self': {'href': 'https://vantage.earthi.world/secure/api/v2.0/users/24{?projection}',\n",
       "     'templated': True}}},\n",
       "  'contextFiles': [{'service': {'owner': {'role': 'ADMIN',\n",
       "      'name': 'xenofon.karagiannis',\n",
       "      'id': 24,\n",
       "      '_links': {'self': {'href': 'https://vantage.earthi.world/secure/api/v2.0/users/24{?projection}',\n",
       "        'templated': True}}},\n",
       "     'description': 'Produces a forest cover map for the first video frame.',\n",
       "     'status': 'AVAILABLE',\n",
       "     'costingExpression': {'type': None,\n",
       "      'associatedId': None,\n",
       "      'costExpression': '1',\n",
       "      'estimatedCostExpression': None},\n",
       "     'dockerTag': 'eovep/forestcover',\n",
       "     'access': {'published': True,\n",
       "      'publishRequested': False,\n",
       "      'currentLevel': 'SUPERUSER'},\n",
       "     'licence': 'OPEN',\n",
       "     'name': 'ForestCover',\n",
       "     'type': 'PROCESSOR',\n",
       "     'id': 20,\n",
       "     '_links': {'self': {'href': 'https://vantage.earthi.world/secure/api/v2.0/services/20{?projection}',\n",
       "       'templated': True},\n",
       "      'owner': {'href': 'https://vantage.earthi.world/secure/api/v2.0/services/20/owner'},\n",
       "      'contextFiles': {'href': 'https://vantage.earthi.world/secure/api/v2.0/services/20/contextFiles'}}},\n",
       "    'filename': 'workflow.sh',\n",
       "    'executable': True,\n",
       "    'id': 84,\n",
       "    '_links': {'self': {'href': 'https://vantage.earthi.world/secure/api/v2.0/serviceFiles/84{?projection}',\n",
       "      'templated': True},\n",
       "     'service': {'href': 'https://vantage.earthi.world/secure/api/v2.0/serviceFiles/84/service'}}},\n",
       "   {'service': {'owner': {'role': 'ADMIN',\n",
       "      'name': 'xenofon.karagiannis',\n",
       "      'id': 24,\n",
       "      '_links': {'self': {'href': 'https://vantage.earthi.world/secure/api/v2.0/users/24{?projection}',\n",
       "        'templated': True}}},\n",
       "     'description': 'Produces a forest cover map for the first video frame.',\n",
       "     'status': 'AVAILABLE',\n",
       "     'costingExpression': {'type': None,\n",
       "      'associatedId': None,\n",
       "      'costExpression': '1',\n",
       "      'estimatedCostExpression': None},\n",
       "     'dockerTag': 'eovep/forestcover',\n",
       "     'access': {'published': True,\n",
       "      'publishRequested': False,\n",
       "      'currentLevel': 'SUPERUSER'},\n",
       "     'licence': 'OPEN',\n",
       "     'name': 'ForestCover',\n",
       "     'type': 'PROCESSOR',\n",
       "     'id': 20,\n",
       "     '_links': {'self': {'href': 'https://vantage.earthi.world/secure/api/v2.0/services/20{?projection}',\n",
       "       'templated': True},\n",
       "      'owner': {'href': 'https://vantage.earthi.world/secure/api/v2.0/services/20/owner'},\n",
       "      'contextFiles': {'href': 'https://vantage.earthi.world/secure/api/v2.0/services/20/contextFiles'}}},\n",
       "    'filename': 'Dockerfile',\n",
       "    'executable': False,\n",
       "    'id': 83,\n",
       "    '_links': {'self': {'href': 'https://vantage.earthi.world/secure/api/v2.0/serviceFiles/83{?projection}',\n",
       "      'templated': True},\n",
       "     'service': {'href': 'https://vantage.earthi.world/secure/api/v2.0/serviceFiles/83/service'}}}]},\n",
       " '_links': {'self': {'href': 'https://vantage.earthi.world/secure/api/v2.0/services/20'},\n",
       "  'service': {'href': 'https://vantage.earthi.world/secure/api/v2.0/services/20{?projection}',\n",
       "   'templated': True},\n",
       "  'owner': {'href': 'https://vantage.earthi.world/secure/api/v2.0/services/20/owner'},\n",
       "  'contextFiles': {'href': 'https://vantage.earthi.world/secure/api/v2.0/services/20/contextFiles'}}}"
      ]
     },
     "execution_count": 90,
     "metadata": {},
     "output_type": "execute_result"
    }
   ],
   "source": [
    "response.json()"
   ]
  },
  {
   "cell_type": "markdown",
   "metadata": {},
   "source": [
    "## 2. Retrieve collection's details"
   ]
  },
  {
   "cell_type": "markdown",
   "metadata": {},
   "source": [
    "#### 2.1 Filtering the collections"
   ]
  },
  {
   "cell_type": "code",
   "execution_count": 91,
   "metadata": {},
   "outputs": [
    {
     "data": {
      "text/plain": [
       "200"
      ]
     },
     "execution_count": 91,
     "metadata": {},
     "output_type": "execute_result"
    }
   ],
   "source": [
    "query = { 'sort':'name', 'filter':'vivid'}\n",
    "response = requests.get(endpoint + '/collections/search/parametricFind', auth=(user,api), params=(query))\n",
    "response.status_code"
   ]
  },
  {
   "cell_type": "code",
   "execution_count": 92,
   "metadata": {},
   "outputs": [
    {
     "name": "stdout",
     "output_type": "stream",
     "text": [
      "Name: Vivid-X2\n",
      "Description: video collection\n",
      "ID: eovep2e8134bcdaf74f528b23b6dba883bcde\n"
     ]
    }
   ],
   "source": [
    "json_data = json.loads(response.text)\n",
    "\n",
    "for collection in json_data['_embedded']['collections']:\n",
    "    print(\"Name: {0}\\nDescription: {1}\\nID: {2}\".format(collection['name'], collection['description'], collection['identifier']))"
   ]
  },
  {
   "cell_type": "markdown",
   "metadata": {},
   "source": [
    "#### 2.2 Get the products of a specific collection"
   ]
  },
  {
   "cell_type": "code",
   "execution_count": 93,
   "metadata": {},
   "outputs": [],
   "source": [
    "collection_id = 'eovep2e8134bcdaf74f528b23b6dba883bcde'"
   ]
  },
  {
   "cell_type": "code",
   "execution_count": 94,
   "metadata": {},
   "outputs": [
    {
     "data": {
      "text/plain": [
       "200"
      ]
     },
     "execution_count": 94,
     "metadata": {},
     "output_type": "execute_result"
    }
   ],
   "source": [
    "response = requests.get(endpoint + '/search?catalogue=REMOTE_DATA_commercialData&geometry=&remoteDataCollection_commercialData=' + collection_id, auth=(user,api))\n",
    "response.status_code"
   ]
  },
  {
   "cell_type": "code",
   "execution_count": 95,
   "metadata": {},
   "outputs": [
    {
     "name": "stdout",
     "output_type": "stream",
     "text": [
      "VX020003b9 URL: https://esrin-data-input.s3.eu-west-2.amazonaws.com/Vivid-X2/VX020003b9.zip\n",
      "VX020003b7 URL: https://esrin-data-input.s3.eu-west-2.amazonaws.com/Vivid-X2/VX020003b7.zip\n",
      "VX020003b5 URL: https://esrin-data-input.s3.eu-west-2.amazonaws.com/Vivid-X2/VX020003b5.zip\n",
      "VX020003b4 URL: https://esrin-data-input.s3.eu-west-2.amazonaws.com/Vivid-X2/VX020003b4.zip\n",
      "VX020003b2 URL: https://esrin-data-input.s3.eu-west-2.amazonaws.com/Vivid-X2/VX020003b2.zip\n",
      "VX020003b6 URL: https://esrin-data-input.s3.eu-west-2.amazonaws.com/Vivid-X2/VX020003b6.zip\n",
      "VX020003b0 URL: https://esrin-data-input.s3.eu-west-2.amazonaws.com/Vivid-X2/VX020003b0.zip\n",
      "VX020003af URL: https://esrin-data-input.s3.eu-west-2.amazonaws.com/Vivid-X2/VX020003af.zip\n",
      "VX020003ae URL: https://esrin-data-input.s3.eu-west-2.amazonaws.com/Vivid-X2/VX020003ae.zip\n",
      "VX020003ad URL: https://esrin-data-input.s3.eu-west-2.amazonaws.com/Vivid-X2/VX020003ad.zip\n",
      "VX020003a8 URL: https://esrin-data-input.s3.eu-west-2.amazonaws.com/Vivid-X2/VX020003a8.zip\n",
      "VX020003a9 URL: https://esrin-data-input.s3.eu-west-2.amazonaws.com/Vivid-X2/VX020003a9.zip\n",
      "VX020003a5 URL: https://esrin-data-input.s3.eu-west-2.amazonaws.com/Vivid-X2/VX020003a5.zip\n",
      "VX020003a4 URL: https://esrin-data-input.s3.eu-west-2.amazonaws.com/Vivid-X2/VX020003a4.zip\n",
      "VX020003a3 URL: https://esrin-data-input.s3.eu-west-2.amazonaws.com/Vivid-X2/VX020003a3.zip\n",
      "VX020003a0 URL: https://esrin-data-input.s3.eu-west-2.amazonaws.com/Vivid-X2/VX020003a0.zip\n",
      "VX0200039b URL: https://esrin-data-input.s3.eu-west-2.amazonaws.com/Vivid-X2/VX0200039b.zip\n",
      "VX02000399 URL: https://esrin-data-input.s3.eu-west-2.amazonaws.com/Vivid-X2/VX02000399.zip\n",
      "VX02000397 URL: https://esrin-data-input.s3.eu-west-2.amazonaws.com/Vivid-X2/VX02000397.zip\n",
      "VX02000398 URL: https://esrin-data-input.s3.eu-west-2.amazonaws.com/Vivid-X2/VX02000398.zip\n"
     ]
    }
   ],
   "source": [
    "json_data = json.loads(response.text)\n",
    "\n",
    "for feature in json_data['features']:\n",
    "    print(\"{0} URL: {1}\".format(feature['properties']['productIdentifier'], feature['properties']['platformUrl']))"
   ]
  },
  {
   "cell_type": "markdown",
   "metadata": {},
   "source": [
    "## 3.Run the jobs and get the output products"
   ]
  },
  {
   "cell_type": "markdown",
   "metadata": {},
   "source": [
    "#### 3.1 Prepare the job"
   ]
  },
  {
   "cell_type": "markdown",
   "metadata": {},
   "source": [
    "There are 2 completed jobs already on the platform we can take as an example.\n",
    "\n",
    "JOB 962 with input file: https://esrin-data-input.s3.eu-west-2.amazonaws.com/Vivid-X2/VX020003ad.zip\n",
    "\n",
    "\n",
    "JOB 963 with input file: https://esrin-data-input.s3.eu-west-2.amazonaws.com/Vivid-X2/VX02000186.zip"
   ]
  },
  {
   "cell_type": "code",
   "execution_count": 5,
   "metadata": {},
   "outputs": [
    {
     "data": {
      "text/plain": [
       "201"
      ]
     },
     "execution_count": 5,
     "metadata": {},
     "output_type": "execute_result"
    }
   ],
   "source": [
    "headers={'Accept':'application/hal+json', 'Content-Type':'application/hal+json'}\n",
    "raw_data='{\"service\":\"https://vantage.earthi.world/secure/api/v2.0/services/20\",\"inputs\":{\"VideoFile\":[\"https://esrin-data-input.s3.eu-west-2.amazonaws.com/Vivid-X2/VX020003ad.zip\"]},\"label\":\"forestMask1\",\"parent\":null}'\n",
    "# Comment the following to avoid launching a job \n",
    "response = requests.post(endpoint + '/jobConfigs/', auth=(user,api), data=raw_data,headers=headers)\n",
    "response.status_code"
   ]
  },
  {
   "cell_type": "code",
   "execution_count": 6,
   "metadata": {},
   "outputs": [
    {
     "data": {
      "text/plain": [
       "{'id': 517,\n",
       " 'inputs': {'VideoFile': ['https://esrin-data-input.s3.eu-west-2.amazonaws.com/Vivid-X2/VX020003ad.zip']},\n",
       " 'label': 'forestMask1',\n",
       " 'systematicParameter': None,\n",
       " 'tileBasedJobOrdering': None,\n",
       " '_embedded': {'owner': {'role': 'CONTENT_AUTHORITY',\n",
       "   'name': 'demo.jhub',\n",
       "   'id': 50,\n",
       "   '_links': {'self': {'href': 'https://vantage.earthi.world/secure/api/v2.0/users/50{?projection}',\n",
       "     'templated': True}}},\n",
       "  'service': {'owner': {'role': 'ADMIN',\n",
       "    'name': 'xenofon.karagiannis',\n",
       "    'id': 24,\n",
       "    '_links': {'self': {'href': 'https://vantage.earthi.world/secure/api/v2.0/users/24{?projection}',\n",
       "      'templated': True}}},\n",
       "   'description': 'Produces a forest cover map for the first video frame.',\n",
       "   'status': 'AVAILABLE',\n",
       "   'costingExpression': {'type': None,\n",
       "    'associatedId': None,\n",
       "    'costExpression': '1',\n",
       "    'estimatedCostExpression': None},\n",
       "   'dockerTag': 'eovep/forestcover',\n",
       "   'access': {'published': True,\n",
       "    'publishRequested': False,\n",
       "    'currentLevel': 'SUPERUSER'},\n",
       "   'licence': 'OPEN',\n",
       "   'name': 'ForestCover',\n",
       "   'type': 'PROCESSOR',\n",
       "   'id': 20,\n",
       "   '_links': {'self': {'href': 'https://vantage.earthi.world/secure/api/v2.0/services/20{?projection}',\n",
       "     'templated': True},\n",
       "    'owner': {'href': 'https://vantage.earthi.world/secure/api/v2.0/services/20/owner'},\n",
       "    'contextFiles': {'href': 'https://vantage.earthi.world/secure/api/v2.0/services/20/contextFiles'}}}},\n",
       " '_links': {'self': {'href': 'https://vantage.earthi.world/secure/api/v2.0/jobConfigs/517'},\n",
       "  'jobConfig': {'href': 'https://vantage.earthi.world/secure/api/v2.0/jobConfigs/517'},\n",
       "  'service': {'href': 'https://vantage.earthi.world/secure/api/v2.0/jobConfigs/517/service'},\n",
       "  'owner': {'href': 'https://vantage.earthi.world/secure/api/v2.0/jobConfigs/517/owner'},\n",
       "  'parent': {'href': 'https://vantage.earthi.world/secure/api/v2.0/jobConfigs/517/parent'}}}"
      ]
     },
     "execution_count": 6,
     "metadata": {},
     "output_type": "execute_result"
    }
   ],
   "source": [
    "response.json()"
   ]
  },
  {
   "cell_type": "markdown",
   "metadata": {},
   "source": [
    "We get the job's configuration ID "
   ]
  },
  {
   "cell_type": "markdown",
   "metadata": {},
   "source": [
    "#### 3.2 Get the estimated cost for the job"
   ]
  },
  {
   "cell_type": "code",
   "execution_count": 7,
   "metadata": {},
   "outputs": [],
   "source": [
    "config_id_1 = '517'"
   ]
  },
  {
   "cell_type": "code",
   "execution_count": 8,
   "metadata": {},
   "outputs": [
    {
     "data": {
      "text/plain": [
       "200"
      ]
     },
     "execution_count": 8,
     "metadata": {},
     "output_type": "execute_result"
    }
   ],
   "source": [
    "response = requests.get(endpoint + '/estimateCost' + '/jobConfig/' + config_id_1, auth=(user,api))\n",
    "response.status_code"
   ]
  },
  {
   "cell_type": "code",
   "execution_count": 9,
   "metadata": {},
   "outputs": [
    {
     "data": {
      "text/plain": [
       "{'estimatedCost': 1, 'recurrence': 'HOURLY', 'currentWalletBalance': 117}"
      ]
     },
     "execution_count": 9,
     "metadata": {},
     "output_type": "execute_result"
    }
   ],
   "source": [
    "response.json()"
   ]
  },
  {
   "cell_type": "markdown",
   "metadata": {},
   "source": [
    "#### 3.3 Launch the job"
   ]
  },
  {
   "cell_type": "code",
   "execution_count": 10,
   "metadata": {},
   "outputs": [],
   "source": [
    "config_id1 = '517'"
   ]
  },
  {
   "cell_type": "code",
   "execution_count": 11,
   "metadata": {},
   "outputs": [
    {
     "data": {
      "text/plain": [
       "202"
      ]
     },
     "execution_count": 11,
     "metadata": {},
     "output_type": "execute_result"
    }
   ],
   "source": [
    "# Commented to avoid launching a job \n",
    "response = requests.post(endpoint + '/jobConfigs/' + config_id_1 + '/launch', auth=(user,api))\n",
    "response.status_code"
   ]
  },
  {
   "cell_type": "code",
   "execution_count": 12,
   "metadata": {},
   "outputs": [
    {
     "data": {
      "text/plain": [
       "{'content': {'id': 979,\n",
       "  'extId': '4f4b8e62-6377-4ffd-9304-5d510e545908',\n",
       "  'startTime': None,\n",
       "  'endTime': None,\n",
       "  'status': 'PENDING',\n",
       "  'phase': 'CREATED',\n",
       "  'workerId': None,\n",
       "  'stage': None,\n",
       "  'guiUrl': None,\n",
       "  'guiEndpoint': None,\n",
       "  'queuePosition': -1,\n",
       "  'outputs': None,\n",
       "  'parent': False,\n",
       "  'costQuotation': {'cost': 1, 'recurrence': 'HOURLY'},\n",
       "  'inputTile': None,\n",
       "  'inputDate': None},\n",
       " '_links': {'self': {'href': 'https://vantage.earthi.world/secure/api/v2.0/jobs/979'},\n",
       "  'job': {'href': 'https://vantage.earthi.world/secure/api/v2.0/jobs/979{?projection}',\n",
       "   'templated': True},\n",
       "  'logs': {'href': 'https://vantage.earthi.world/secure/api/v2.0/jobs/979/logs'},\n",
       "  'cancel': {'href': 'https://vantage.earthi.world/secure/api/v2.0/jobs/979/cancel'}}}"
      ]
     },
     "execution_count": 12,
     "metadata": {},
     "output_type": "execute_result"
    }
   ],
   "source": [
    "# Commented to avoid launching a job \n",
    "response.json()"
   ]
  },
  {
   "cell_type": "markdown",
   "metadata": {},
   "source": [
    "The response shows the Job's ID"
   ]
  },
  {
   "cell_type": "code",
   "execution_count": 13,
   "metadata": {},
   "outputs": [],
   "source": [
    "job_id_1='979'"
   ]
  },
  {
   "cell_type": "markdown",
   "metadata": {},
   "source": [
    "#### 3.4 Launch the second job"
   ]
  },
  {
   "cell_type": "code",
   "execution_count": 14,
   "metadata": {},
   "outputs": [
    {
     "data": {
      "text/plain": [
       "201"
      ]
     },
     "execution_count": 14,
     "metadata": {},
     "output_type": "execute_result"
    }
   ],
   "source": [
    "headers={'Accept':'application/hal+json', 'Content-Type':'application/hal+json'}\n",
    "raw_data='{\"service\":\"https://vantage.earthi.world/secure/api/v2.0/services/20\",\"inputs\":{\"VideoFile\":[\"https://esrin-data-input.s3.eu-west-2.amazonaws.com/Vivid-X2/VX02000186.zip\"]},\"label\":\"forestMask2\",\"parent\":null}'\n",
    "# Comment the following to avoid launching a job \n",
    "response = requests.post(endpoint + '/jobConfigs/', auth=(user,api), data=raw_data,headers=headers)\n",
    "response.status_code\n"
   ]
  },
  {
   "cell_type": "code",
   "execution_count": 15,
   "metadata": {},
   "outputs": [
    {
     "data": {
      "text/plain": [
       "{'id': 518,\n",
       " 'inputs': {'VideoFile': ['https://esrin-data-input.s3.eu-west-2.amazonaws.com/Vivid-X2/VX02000186.zip']},\n",
       " 'label': 'forestMask2',\n",
       " 'systematicParameter': None,\n",
       " 'tileBasedJobOrdering': None,\n",
       " '_embedded': {'owner': {'role': 'CONTENT_AUTHORITY',\n",
       "   'name': 'demo.jhub',\n",
       "   'id': 50,\n",
       "   '_links': {'self': {'href': 'https://vantage.earthi.world/secure/api/v2.0/users/50{?projection}',\n",
       "     'templated': True}}},\n",
       "  'service': {'owner': {'role': 'ADMIN',\n",
       "    'name': 'xenofon.karagiannis',\n",
       "    'id': 24,\n",
       "    '_links': {'self': {'href': 'https://vantage.earthi.world/secure/api/v2.0/users/24{?projection}',\n",
       "      'templated': True}}},\n",
       "   'description': 'Produces a forest cover map for the first video frame.',\n",
       "   'status': 'AVAILABLE',\n",
       "   'costingExpression': {'type': None,\n",
       "    'associatedId': None,\n",
       "    'costExpression': '1',\n",
       "    'estimatedCostExpression': None},\n",
       "   'dockerTag': 'eovep/forestcover',\n",
       "   'access': {'published': True,\n",
       "    'publishRequested': False,\n",
       "    'currentLevel': 'SUPERUSER'},\n",
       "   'licence': 'OPEN',\n",
       "   'name': 'ForestCover',\n",
       "   'type': 'PROCESSOR',\n",
       "   'id': 20,\n",
       "   '_links': {'self': {'href': 'https://vantage.earthi.world/secure/api/v2.0/services/20{?projection}',\n",
       "     'templated': True},\n",
       "    'owner': {'href': 'https://vantage.earthi.world/secure/api/v2.0/services/20/owner'},\n",
       "    'contextFiles': {'href': 'https://vantage.earthi.world/secure/api/v2.0/services/20/contextFiles'}}}},\n",
       " '_links': {'self': {'href': 'https://vantage.earthi.world/secure/api/v2.0/jobConfigs/518'},\n",
       "  'jobConfig': {'href': 'https://vantage.earthi.world/secure/api/v2.0/jobConfigs/518'},\n",
       "  'service': {'href': 'https://vantage.earthi.world/secure/api/v2.0/jobConfigs/518/service'},\n",
       "  'owner': {'href': 'https://vantage.earthi.world/secure/api/v2.0/jobConfigs/518/owner'},\n",
       "  'parent': {'href': 'https://vantage.earthi.world/secure/api/v2.0/jobConfigs/518/parent'}}}"
      ]
     },
     "execution_count": 15,
     "metadata": {},
     "output_type": "execute_result"
    }
   ],
   "source": [
    "response.json()"
   ]
  },
  {
   "cell_type": "code",
   "execution_count": 16,
   "metadata": {},
   "outputs": [],
   "source": [
    "config_id_2 = '518'"
   ]
  },
  {
   "cell_type": "code",
   "execution_count": 17,
   "metadata": {},
   "outputs": [
    {
     "data": {
      "text/plain": [
       "200"
      ]
     },
     "execution_count": 17,
     "metadata": {},
     "output_type": "execute_result"
    }
   ],
   "source": [
    "response = requests.get(endpoint + '/estimateCost' + '/jobConfig/' + config_id_2, auth=(user,api))\n",
    "response.status_code"
   ]
  },
  {
   "cell_type": "code",
   "execution_count": 18,
   "metadata": {},
   "outputs": [
    {
     "data": {
      "text/plain": [
       "{'estimatedCost': 1, 'recurrence': 'HOURLY', 'currentWalletBalance': 116}"
      ]
     },
     "execution_count": 18,
     "metadata": {},
     "output_type": "execute_result"
    }
   ],
   "source": [
    "response.json()"
   ]
  },
  {
   "cell_type": "code",
   "execution_count": 19,
   "metadata": {},
   "outputs": [
    {
     "data": {
      "text/plain": [
       "202"
      ]
     },
     "execution_count": 19,
     "metadata": {},
     "output_type": "execute_result"
    }
   ],
   "source": [
    "# Commented to avoid launching a job \n",
    "response = requests.post(endpoint + '/jobConfigs/' + config_id_2 + '/launch', auth=(user,api))\n",
    "response.status_code"
   ]
  },
  {
   "cell_type": "code",
   "execution_count": 20,
   "metadata": {},
   "outputs": [
    {
     "data": {
      "text/plain": [
       "{'content': {'id': 980,\n",
       "  'extId': '5f2fd9cb-a034-46a8-816d-501388f0177c',\n",
       "  'startTime': None,\n",
       "  'endTime': None,\n",
       "  'status': 'PENDING',\n",
       "  'phase': 'CREATED',\n",
       "  'workerId': None,\n",
       "  'stage': None,\n",
       "  'guiUrl': None,\n",
       "  'guiEndpoint': None,\n",
       "  'queuePosition': -1,\n",
       "  'outputs': None,\n",
       "  'parent': False,\n",
       "  'costQuotation': {'cost': 1, 'recurrence': 'HOURLY'},\n",
       "  'inputTile': None,\n",
       "  'inputDate': None},\n",
       " '_links': {'self': {'href': 'https://vantage.earthi.world/secure/api/v2.0/jobs/980'},\n",
       "  'job': {'href': 'https://vantage.earthi.world/secure/api/v2.0/jobs/980{?projection}',\n",
       "   'templated': True},\n",
       "  'logs': {'href': 'https://vantage.earthi.world/secure/api/v2.0/jobs/980/logs'},\n",
       "  'cancel': {'href': 'https://vantage.earthi.world/secure/api/v2.0/jobs/980/cancel'}}}"
      ]
     },
     "execution_count": 20,
     "metadata": {},
     "output_type": "execute_result"
    }
   ],
   "source": [
    "# Commented to avoid launching a job \n",
    "response.json()"
   ]
  },
  {
   "cell_type": "code",
   "execution_count": 21,
   "metadata": {},
   "outputs": [],
   "source": [
    "job_id_2='980'"
   ]
  },
  {
   "cell_type": "markdown",
   "metadata": {},
   "source": [
    "#### 3.5 Filter the jobs by user's ID"
   ]
  },
  {
   "cell_type": "code",
   "execution_count": 100,
   "metadata": {},
   "outputs": [
    {
     "data": {
      "text/plain": [
       "200"
      ]
     },
     "execution_count": 100,
     "metadata": {},
     "output_type": "execute_result"
    }
   ],
   "source": [
    "query = { 'sort':'id,DESC','owner':'https://vantage.earthi.world/secure/api/v2.0/users/50'}\n",
    "response = requests.get(endpoint + '/jobs/search/parametricFind', auth=(user,api), params=(query))\n",
    "response.status_code"
   ]
  },
  {
   "cell_type": "code",
   "execution_count": 101,
   "metadata": {},
   "outputs": [
    {
     "data": {
      "text/plain": [
       "{'_embedded': {'jobs': [{'owner': {'role': 'CONTENT_AUTHORITY',\n",
       "     'name': 'demo.jhub',\n",
       "     'id': 50,\n",
       "     '_links': {'self': {'href': 'https://vantage.earthi.world/secure/api/v2.0/users/50{?projection}',\n",
       "       'templated': True}}},\n",
       "    'serviceName': 'ForestCover',\n",
       "    'endTime': '2021-07-16T14:20:35.432',\n",
       "    'startTime': '2021-07-16T14:20:08.139',\n",
       "    'guiUrl': None,\n",
       "    'queuePosition': -1,\n",
       "    'parent': False,\n",
       "    'status': 'ERROR',\n",
       "    'extId': '553e9944-c152-4242-9052-150e9cb94c1e',\n",
       "    'access': {'published': False,\n",
       "     'publishRequested': False,\n",
       "     'currentLevel': 'SUPERUSER'},\n",
       "    'systematicParameter': None,\n",
       "    'stage': 'Step 2 of 3: Processing',\n",
       "    'id': 969,\n",
       "    '_links': {'self': {'href': 'https://vantage.earthi.world/secure/api/v2.0/jobs/969'},\n",
       "     'job': {'href': 'https://vantage.earthi.world/secure/api/v2.0/jobs/969{?projection}',\n",
       "      'templated': True},\n",
       "     'logs': {'href': 'https://vantage.earthi.world/secure/api/v2.0/jobs/969/logs'},\n",
       "     'subJobs': {'href': 'https://vantage.earthi.world/secure/api/v2.0/jobs/969/subJobs'},\n",
       "     'jobProcessings': {'href': 'https://vantage.earthi.world/secure/api/v2.0/jobs/969/jobProcessings'},\n",
       "     'outputFiles': {'href': 'https://vantage.earthi.world/secure/api/v2.0/jobs/969/outputFiles'},\n",
       "     'config': {'href': 'https://vantage.earthi.world/secure/api/v2.0/jobs/969/config'},\n",
       "     'owner': {'href': 'https://vantage.earthi.world/secure/api/v2.0/jobs/969/owner'},\n",
       "     'parentJob': {'href': 'https://vantage.earthi.world/secure/api/v2.0/jobs/969/parentJob'}}},\n",
       "   {'owner': {'role': 'CONTENT_AUTHORITY',\n",
       "     'name': 'demo.jhub',\n",
       "     'id': 50,\n",
       "     '_links': {'self': {'href': 'https://vantage.earthi.world/secure/api/v2.0/users/50{?projection}',\n",
       "       'templated': True}}},\n",
       "    'serviceName': 'ForestCover',\n",
       "    'endTime': '2021-07-16T14:23:46.533',\n",
       "    'startTime': '2021-07-16T14:11:06.269',\n",
       "    'guiUrl': None,\n",
       "    'queuePosition': -1,\n",
       "    'parent': False,\n",
       "    'status': 'ERROR',\n",
       "    'extId': '193caff9-4834-45a6-a360-0725778fe064',\n",
       "    'access': {'published': False,\n",
       "     'publishRequested': False,\n",
       "     'currentLevel': 'SUPERUSER'},\n",
       "    'systematicParameter': None,\n",
       "    'stage': 'Step 2 of 3: Processing',\n",
       "    'id': 968,\n",
       "    '_links': {'self': {'href': 'https://vantage.earthi.world/secure/api/v2.0/jobs/968'},\n",
       "     'job': {'href': 'https://vantage.earthi.world/secure/api/v2.0/jobs/968{?projection}',\n",
       "      'templated': True},\n",
       "     'logs': {'href': 'https://vantage.earthi.world/secure/api/v2.0/jobs/968/logs'},\n",
       "     'subJobs': {'href': 'https://vantage.earthi.world/secure/api/v2.0/jobs/968/subJobs'},\n",
       "     'jobProcessings': {'href': 'https://vantage.earthi.world/secure/api/v2.0/jobs/968/jobProcessings'},\n",
       "     'outputFiles': {'href': 'https://vantage.earthi.world/secure/api/v2.0/jobs/968/outputFiles'},\n",
       "     'config': {'href': 'https://vantage.earthi.world/secure/api/v2.0/jobs/968/config'},\n",
       "     'owner': {'href': 'https://vantage.earthi.world/secure/api/v2.0/jobs/968/owner'},\n",
       "     'parentJob': {'href': 'https://vantage.earthi.world/secure/api/v2.0/jobs/968/parentJob'}}},\n",
       "   {'owner': {'role': 'CONTENT_AUTHORITY',\n",
       "     'name': 'demo.jhub',\n",
       "     'id': 50,\n",
       "     '_links': {'self': {'href': 'https://vantage.earthi.world/secure/api/v2.0/users/50{?projection}',\n",
       "       'templated': True}}},\n",
       "    'serviceName': 'SymmetricDifference',\n",
       "    'endTime': '2021-07-16T10:25:31.138',\n",
       "    'startTime': '2021-07-16T10:24:40.169',\n",
       "    'guiUrl': None,\n",
       "    'queuePosition': -1,\n",
       "    'parent': False,\n",
       "    'status': 'COMPLETED',\n",
       "    'extId': '3cc369a2-a12f-40bf-937c-f49eaeb0141b',\n",
       "    'access': {'published': False,\n",
       "     'publishRequested': False,\n",
       "     'currentLevel': 'SUPERUSER'},\n",
       "    'systematicParameter': None,\n",
       "    'stage': 'Step 3 of 3: Output-List',\n",
       "    'id': 966,\n",
       "    '_links': {'self': {'href': 'https://vantage.earthi.world/secure/api/v2.0/jobs/966'},\n",
       "     'job': {'href': 'https://vantage.earthi.world/secure/api/v2.0/jobs/966{?projection}',\n",
       "      'templated': True},\n",
       "     'logs': {'href': 'https://vantage.earthi.world/secure/api/v2.0/jobs/966/logs'},\n",
       "     'subJobs': {'href': 'https://vantage.earthi.world/secure/api/v2.0/jobs/966/subJobs'},\n",
       "     'jobProcessings': {'href': 'https://vantage.earthi.world/secure/api/v2.0/jobs/966/jobProcessings'},\n",
       "     'outputFiles': {'href': 'https://vantage.earthi.world/secure/api/v2.0/jobs/966/outputFiles'},\n",
       "     'config': {'href': 'https://vantage.earthi.world/secure/api/v2.0/jobs/966/config'},\n",
       "     'owner': {'href': 'https://vantage.earthi.world/secure/api/v2.0/jobs/966/owner'},\n",
       "     'parentJob': {'href': 'https://vantage.earthi.world/secure/api/v2.0/jobs/966/parentJob'}}},\n",
       "   {'owner': {'role': 'CONTENT_AUTHORITY',\n",
       "     'name': 'demo.jhub',\n",
       "     'id': 50,\n",
       "     '_links': {'self': {'href': 'https://vantage.earthi.world/secure/api/v2.0/users/50{?projection}',\n",
       "       'templated': True}}},\n",
       "    'serviceName': 'ForestCover',\n",
       "    'endTime': '2021-07-16T09:58:44.889',\n",
       "    'startTime': '2021-07-16T09:41:56.26',\n",
       "    'guiUrl': None,\n",
       "    'queuePosition': -1,\n",
       "    'parent': False,\n",
       "    'status': 'COMPLETED',\n",
       "    'extId': 'c57c503a-1b43-4fe9-bece-845840eab0fd',\n",
       "    'access': {'published': False,\n",
       "     'publishRequested': False,\n",
       "     'currentLevel': 'SUPERUSER'},\n",
       "    'systematicParameter': None,\n",
       "    'stage': 'Step 3 of 3: Output-List',\n",
       "    'id': 963,\n",
       "    '_links': {'self': {'href': 'https://vantage.earthi.world/secure/api/v2.0/jobs/963'},\n",
       "     'job': {'href': 'https://vantage.earthi.world/secure/api/v2.0/jobs/963{?projection}',\n",
       "      'templated': True},\n",
       "     'logs': {'href': 'https://vantage.earthi.world/secure/api/v2.0/jobs/963/logs'},\n",
       "     'subJobs': {'href': 'https://vantage.earthi.world/secure/api/v2.0/jobs/963/subJobs'},\n",
       "     'jobProcessings': {'href': 'https://vantage.earthi.world/secure/api/v2.0/jobs/963/jobProcessings'},\n",
       "     'outputFiles': {'href': 'https://vantage.earthi.world/secure/api/v2.0/jobs/963/outputFiles'},\n",
       "     'config': {'href': 'https://vantage.earthi.world/secure/api/v2.0/jobs/963/config'},\n",
       "     'owner': {'href': 'https://vantage.earthi.world/secure/api/v2.0/jobs/963/owner'},\n",
       "     'parentJob': {'href': 'https://vantage.earthi.world/secure/api/v2.0/jobs/963/parentJob'}}},\n",
       "   {'owner': {'role': 'CONTENT_AUTHORITY',\n",
       "     'name': 'demo.jhub',\n",
       "     'id': 50,\n",
       "     '_links': {'self': {'href': 'https://vantage.earthi.world/secure/api/v2.0/users/50{?projection}',\n",
       "       'templated': True}}},\n",
       "    'serviceName': 'ForestCover',\n",
       "    'endTime': '2021-07-16T09:58:03.788',\n",
       "    'startTime': '2021-07-16T09:39:40.877',\n",
       "    'guiUrl': None,\n",
       "    'queuePosition': -1,\n",
       "    'parent': False,\n",
       "    'status': 'COMPLETED',\n",
       "    'extId': '2aabb4d6-144c-404f-b67b-d8886c943d32',\n",
       "    'access': {'published': False,\n",
       "     'publishRequested': False,\n",
       "     'currentLevel': 'SUPERUSER'},\n",
       "    'systematicParameter': None,\n",
       "    'stage': 'Step 3 of 3: Output-List',\n",
       "    'id': 962,\n",
       "    '_links': {'self': {'href': 'https://vantage.earthi.world/secure/api/v2.0/jobs/962'},\n",
       "     'job': {'href': 'https://vantage.earthi.world/secure/api/v2.0/jobs/962{?projection}',\n",
       "      'templated': True},\n",
       "     'logs': {'href': 'https://vantage.earthi.world/secure/api/v2.0/jobs/962/logs'},\n",
       "     'subJobs': {'href': 'https://vantage.earthi.world/secure/api/v2.0/jobs/962/subJobs'},\n",
       "     'jobProcessings': {'href': 'https://vantage.earthi.world/secure/api/v2.0/jobs/962/jobProcessings'},\n",
       "     'outputFiles': {'href': 'https://vantage.earthi.world/secure/api/v2.0/jobs/962/outputFiles'},\n",
       "     'config': {'href': 'https://vantage.earthi.world/secure/api/v2.0/jobs/962/config'},\n",
       "     'owner': {'href': 'https://vantage.earthi.world/secure/api/v2.0/jobs/962/owner'},\n",
       "     'parentJob': {'href': 'https://vantage.earthi.world/secure/api/v2.0/jobs/962/parentJob'}}},\n",
       "   {'owner': {'role': 'CONTENT_AUTHORITY',\n",
       "     'name': 'demo.jhub',\n",
       "     'id': 50,\n",
       "     '_links': {'self': {'href': 'https://vantage.earthi.world/secure/api/v2.0/users/50{?projection}',\n",
       "       'templated': True}}},\n",
       "    'serviceName': 'ForestCover',\n",
       "    'endTime': '2021-07-16T08:07:59.622',\n",
       "    'startTime': '2021-07-16T07:52:08.723',\n",
       "    'guiUrl': None,\n",
       "    'queuePosition': -1,\n",
       "    'parent': False,\n",
       "    'status': 'COMPLETED',\n",
       "    'extId': '6ad1d114-78ec-4c24-b59e-8c508a0c4ca1',\n",
       "    'access': {'published': False,\n",
       "     'publishRequested': False,\n",
       "     'currentLevel': 'SUPERUSER'},\n",
       "    'systematicParameter': None,\n",
       "    'stage': 'Step 3 of 3: Output-List',\n",
       "    'id': 960,\n",
       "    '_links': {'self': {'href': 'https://vantage.earthi.world/secure/api/v2.0/jobs/960'},\n",
       "     'job': {'href': 'https://vantage.earthi.world/secure/api/v2.0/jobs/960{?projection}',\n",
       "      'templated': True},\n",
       "     'logs': {'href': 'https://vantage.earthi.world/secure/api/v2.0/jobs/960/logs'},\n",
       "     'subJobs': {'href': 'https://vantage.earthi.world/secure/api/v2.0/jobs/960/subJobs'},\n",
       "     'jobProcessings': {'href': 'https://vantage.earthi.world/secure/api/v2.0/jobs/960/jobProcessings'},\n",
       "     'outputFiles': {'href': 'https://vantage.earthi.world/secure/api/v2.0/jobs/960/outputFiles'},\n",
       "     'config': {'href': 'https://vantage.earthi.world/secure/api/v2.0/jobs/960/config'},\n",
       "     'owner': {'href': 'https://vantage.earthi.world/secure/api/v2.0/jobs/960/owner'},\n",
       "     'parentJob': {'href': 'https://vantage.earthi.world/secure/api/v2.0/jobs/960/parentJob'}}},\n",
       "   {'owner': {'role': 'CONTENT_AUTHORITY',\n",
       "     'name': 'demo.jhub',\n",
       "     'id': 50,\n",
       "     '_links': {'self': {'href': 'https://vantage.earthi.world/secure/api/v2.0/users/50{?projection}',\n",
       "       'templated': True}}},\n",
       "    'serviceName': 'ForestCover',\n",
       "    'endTime': '2021-07-16T08:07:50.005',\n",
       "    'startTime': '2021-07-16T07:51:48.61',\n",
       "    'guiUrl': None,\n",
       "    'queuePosition': -1,\n",
       "    'parent': False,\n",
       "    'status': 'COMPLETED',\n",
       "    'extId': '54153b0f-ab85-4008-9c80-f4e2db8e620c',\n",
       "    'access': {'published': False,\n",
       "     'publishRequested': False,\n",
       "     'currentLevel': 'SUPERUSER'},\n",
       "    'systematicParameter': None,\n",
       "    'stage': 'Step 3 of 3: Output-List',\n",
       "    'id': 959,\n",
       "    '_links': {'self': {'href': 'https://vantage.earthi.world/secure/api/v2.0/jobs/959'},\n",
       "     'job': {'href': 'https://vantage.earthi.world/secure/api/v2.0/jobs/959{?projection}',\n",
       "      'templated': True},\n",
       "     'logs': {'href': 'https://vantage.earthi.world/secure/api/v2.0/jobs/959/logs'},\n",
       "     'subJobs': {'href': 'https://vantage.earthi.world/secure/api/v2.0/jobs/959/subJobs'},\n",
       "     'jobProcessings': {'href': 'https://vantage.earthi.world/secure/api/v2.0/jobs/959/jobProcessings'},\n",
       "     'outputFiles': {'href': 'https://vantage.earthi.world/secure/api/v2.0/jobs/959/outputFiles'},\n",
       "     'config': {'href': 'https://vantage.earthi.world/secure/api/v2.0/jobs/959/config'},\n",
       "     'owner': {'href': 'https://vantage.earthi.world/secure/api/v2.0/jobs/959/owner'},\n",
       "     'parentJob': {'href': 'https://vantage.earthi.world/secure/api/v2.0/jobs/959/parentJob'}}},\n",
       "   {'owner': {'role': 'CONTENT_AUTHORITY',\n",
       "     'name': 'demo.jhub',\n",
       "     'id': 50,\n",
       "     '_links': {'self': {'href': 'https://vantage.earthi.world/secure/api/v2.0/users/50{?projection}',\n",
       "       'templated': True}}},\n",
       "    'serviceName': 'SymmetricDifference',\n",
       "    'endTime': '2021-07-08T15:30:25.502',\n",
       "    'startTime': '2021-07-08T15:27:47.112',\n",
       "    'guiUrl': None,\n",
       "    'queuePosition': -1,\n",
       "    'parent': False,\n",
       "    'status': 'ERROR',\n",
       "    'extId': 'c2af86eb-ea97-494c-9d91-d5dcc5e0c9a0',\n",
       "    'access': {'published': False,\n",
       "     'publishRequested': False,\n",
       "     'currentLevel': 'SUPERUSER'},\n",
       "    'systematicParameter': None,\n",
       "    'stage': 'Step 2 of 3: Processing',\n",
       "    'id': 871,\n",
       "    '_links': {'self': {'href': 'https://vantage.earthi.world/secure/api/v2.0/jobs/871'},\n",
       "     'job': {'href': 'https://vantage.earthi.world/secure/api/v2.0/jobs/871{?projection}',\n",
       "      'templated': True},\n",
       "     'logs': {'href': 'https://vantage.earthi.world/secure/api/v2.0/jobs/871/logs'},\n",
       "     'subJobs': {'href': 'https://vantage.earthi.world/secure/api/v2.0/jobs/871/subJobs'},\n",
       "     'jobProcessings': {'href': 'https://vantage.earthi.world/secure/api/v2.0/jobs/871/jobProcessings'},\n",
       "     'outputFiles': {'href': 'https://vantage.earthi.world/secure/api/v2.0/jobs/871/outputFiles'},\n",
       "     'config': {'href': 'https://vantage.earthi.world/secure/api/v2.0/jobs/871/config'},\n",
       "     'owner': {'href': 'https://vantage.earthi.world/secure/api/v2.0/jobs/871/owner'},\n",
       "     'parentJob': {'href': 'https://vantage.earthi.world/secure/api/v2.0/jobs/871/parentJob'}}},\n",
       "   {'owner': {'role': 'CONTENT_AUTHORITY',\n",
       "     'name': 'demo.jhub',\n",
       "     'id': 50,\n",
       "     '_links': {'self': {'href': 'https://vantage.earthi.world/secure/api/v2.0/users/50{?projection}',\n",
       "       'templated': True}}},\n",
       "    'serviceName': 'ForestCover',\n",
       "    'endTime': '2021-07-08T15:23:56.018',\n",
       "    'startTime': '2021-07-08T15:17:24.89',\n",
       "    'guiUrl': None,\n",
       "    'queuePosition': -1,\n",
       "    'parent': False,\n",
       "    'status': 'COMPLETED',\n",
       "    'extId': 'c26ee789-b30c-41f8-aa97-0a3613ae7988',\n",
       "    'access': {'published': False,\n",
       "     'publishRequested': False,\n",
       "     'currentLevel': 'SUPERUSER'},\n",
       "    'systematicParameter': None,\n",
       "    'stage': 'Step 3 of 3: Output-List',\n",
       "    'id': 869,\n",
       "    '_links': {'self': {'href': 'https://vantage.earthi.world/secure/api/v2.0/jobs/869'},\n",
       "     'job': {'href': 'https://vantage.earthi.world/secure/api/v2.0/jobs/869{?projection}',\n",
       "      'templated': True},\n",
       "     'logs': {'href': 'https://vantage.earthi.world/secure/api/v2.0/jobs/869/logs'},\n",
       "     'subJobs': {'href': 'https://vantage.earthi.world/secure/api/v2.0/jobs/869/subJobs'},\n",
       "     'jobProcessings': {'href': 'https://vantage.earthi.world/secure/api/v2.0/jobs/869/jobProcessings'},\n",
       "     'outputFiles': {'href': 'https://vantage.earthi.world/secure/api/v2.0/jobs/869/outputFiles'},\n",
       "     'config': {'href': 'https://vantage.earthi.world/secure/api/v2.0/jobs/869/config'},\n",
       "     'owner': {'href': 'https://vantage.earthi.world/secure/api/v2.0/jobs/869/owner'},\n",
       "     'parentJob': {'href': 'https://vantage.earthi.world/secure/api/v2.0/jobs/869/parentJob'}}},\n",
       "   {'owner': {'role': 'CONTENT_AUTHORITY',\n",
       "     'name': 'demo.jhub',\n",
       "     'id': 50,\n",
       "     '_links': {'self': {'href': 'https://vantage.earthi.world/secure/api/v2.0/users/50{?projection}',\n",
       "       'templated': True}}},\n",
       "    'serviceName': 'SymmetricDifference',\n",
       "    'endTime': '2021-07-08T14:54:49.803',\n",
       "    'startTime': '2021-07-08T14:53:46.87',\n",
       "    'guiUrl': None,\n",
       "    'queuePosition': -1,\n",
       "    'parent': False,\n",
       "    'status': 'ERROR',\n",
       "    'extId': '95493351-e761-4a46-8545-eba6772da7e2',\n",
       "    'access': {'published': False,\n",
       "     'publishRequested': False,\n",
       "     'currentLevel': 'SUPERUSER'},\n",
       "    'systematicParameter': None,\n",
       "    'stage': 'Step 2 of 3: Processing',\n",
       "    'id': 868,\n",
       "    '_links': {'self': {'href': 'https://vantage.earthi.world/secure/api/v2.0/jobs/868'},\n",
       "     'job': {'href': 'https://vantage.earthi.world/secure/api/v2.0/jobs/868{?projection}',\n",
       "      'templated': True},\n",
       "     'logs': {'href': 'https://vantage.earthi.world/secure/api/v2.0/jobs/868/logs'},\n",
       "     'subJobs': {'href': 'https://vantage.earthi.world/secure/api/v2.0/jobs/868/subJobs'},\n",
       "     'jobProcessings': {'href': 'https://vantage.earthi.world/secure/api/v2.0/jobs/868/jobProcessings'},\n",
       "     'outputFiles': {'href': 'https://vantage.earthi.world/secure/api/v2.0/jobs/868/outputFiles'},\n",
       "     'config': {'href': 'https://vantage.earthi.world/secure/api/v2.0/jobs/868/config'},\n",
       "     'owner': {'href': 'https://vantage.earthi.world/secure/api/v2.0/jobs/868/owner'},\n",
       "     'parentJob': {'href': 'https://vantage.earthi.world/secure/api/v2.0/jobs/868/parentJob'}}},\n",
       "   {'owner': {'role': 'CONTENT_AUTHORITY',\n",
       "     'name': 'demo.jhub',\n",
       "     'id': 50,\n",
       "     '_links': {'self': {'href': 'https://vantage.earthi.world/secure/api/v2.0/users/50{?projection}',\n",
       "       'templated': True}}},\n",
       "    'serviceName': 'ForestCover',\n",
       "    'endTime': '2021-07-08T13:10:36.949',\n",
       "    'startTime': '2021-07-08T12:36:32.068',\n",
       "    'guiUrl': None,\n",
       "    'queuePosition': -1,\n",
       "    'parent': False,\n",
       "    'status': 'COMPLETED',\n",
       "    'extId': 'b2261493-76cd-4e49-a38c-1cd590bc4196',\n",
       "    'access': {'published': False,\n",
       "     'publishRequested': False,\n",
       "     'currentLevel': 'SUPERUSER'},\n",
       "    'systematicParameter': None,\n",
       "    'stage': 'Step 3 of 3: Output-List',\n",
       "    'id': 863,\n",
       "    '_links': {'self': {'href': 'https://vantage.earthi.world/secure/api/v2.0/jobs/863'},\n",
       "     'job': {'href': 'https://vantage.earthi.world/secure/api/v2.0/jobs/863{?projection}',\n",
       "      'templated': True},\n",
       "     'logs': {'href': 'https://vantage.earthi.world/secure/api/v2.0/jobs/863/logs'},\n",
       "     'subJobs': {'href': 'https://vantage.earthi.world/secure/api/v2.0/jobs/863/subJobs'},\n",
       "     'jobProcessings': {'href': 'https://vantage.earthi.world/secure/api/v2.0/jobs/863/jobProcessings'},\n",
       "     'outputFiles': {'href': 'https://vantage.earthi.world/secure/api/v2.0/jobs/863/outputFiles'},\n",
       "     'config': {'href': 'https://vantage.earthi.world/secure/api/v2.0/jobs/863/config'},\n",
       "     'owner': {'href': 'https://vantage.earthi.world/secure/api/v2.0/jobs/863/owner'},\n",
       "     'parentJob': {'href': 'https://vantage.earthi.world/secure/api/v2.0/jobs/863/parentJob'}}},\n",
       "   {'owner': {'role': 'CONTENT_AUTHORITY',\n",
       "     'name': 'demo.jhub',\n",
       "     'id': 50,\n",
       "     '_links': {'self': {'href': 'https://vantage.earthi.world/secure/api/v2.0/users/50{?projection}',\n",
       "       'templated': True}}},\n",
       "    'serviceName': 'ForestCover',\n",
       "    'endTime': '2021-07-08T10:22:10.667',\n",
       "    'startTime': '2021-07-08T10:11:32.274',\n",
       "    'guiUrl': None,\n",
       "    'queuePosition': -1,\n",
       "    'parent': False,\n",
       "    'status': 'COMPLETED',\n",
       "    'extId': '558e426c-6f39-4cc3-84ec-ecdc69f5b64f',\n",
       "    'access': {'published': False,\n",
       "     'publishRequested': False,\n",
       "     'currentLevel': 'SUPERUSER'},\n",
       "    'systematicParameter': None,\n",
       "    'stage': 'Step 3 of 3: Output-List',\n",
       "    'id': 860,\n",
       "    '_links': {'self': {'href': 'https://vantage.earthi.world/secure/api/v2.0/jobs/860'},\n",
       "     'job': {'href': 'https://vantage.earthi.world/secure/api/v2.0/jobs/860{?projection}',\n",
       "      'templated': True},\n",
       "     'logs': {'href': 'https://vantage.earthi.world/secure/api/v2.0/jobs/860/logs'},\n",
       "     'subJobs': {'href': 'https://vantage.earthi.world/secure/api/v2.0/jobs/860/subJobs'},\n",
       "     'jobProcessings': {'href': 'https://vantage.earthi.world/secure/api/v2.0/jobs/860/jobProcessings'},\n",
       "     'outputFiles': {'href': 'https://vantage.earthi.world/secure/api/v2.0/jobs/860/outputFiles'},\n",
       "     'config': {'href': 'https://vantage.earthi.world/secure/api/v2.0/jobs/860/config'},\n",
       "     'owner': {'href': 'https://vantage.earthi.world/secure/api/v2.0/jobs/860/owner'},\n",
       "     'parentJob': {'href': 'https://vantage.earthi.world/secure/api/v2.0/jobs/860/parentJob'}}},\n",
       "   {'owner': {'role': 'CONTENT_AUTHORITY',\n",
       "     'name': 'demo.jhub',\n",
       "     'id': 50,\n",
       "     '_links': {'self': {'href': 'https://vantage.earthi.world/secure/api/v2.0/users/50{?projection}',\n",
       "       'templated': True}}},\n",
       "    'serviceName': 'Vividx2VesselsDetection',\n",
       "    'endTime': '2021-06-10T14:19:43.36',\n",
       "    'startTime': '2021-06-10T13:57:32.99',\n",
       "    'guiUrl': None,\n",
       "    'queuePosition': -1,\n",
       "    'parent': False,\n",
       "    'status': 'COMPLETED',\n",
       "    'extId': '889e0b9e-76e1-4ec4-83a8-fbb77c204ef7',\n",
       "    'access': {'published': False,\n",
       "     'publishRequested': False,\n",
       "     'currentLevel': 'SUPERUSER'},\n",
       "    'systematicParameter': None,\n",
       "    'stage': 'Step 3 of 3: Output-List',\n",
       "    'id': 770,\n",
       "    '_links': {'self': {'href': 'https://vantage.earthi.world/secure/api/v2.0/jobs/770'},\n",
       "     'job': {'href': 'https://vantage.earthi.world/secure/api/v2.0/jobs/770{?projection}',\n",
       "      'templated': True},\n",
       "     'logs': {'href': 'https://vantage.earthi.world/secure/api/v2.0/jobs/770/logs'},\n",
       "     'subJobs': {'href': 'https://vantage.earthi.world/secure/api/v2.0/jobs/770/subJobs'},\n",
       "     'jobProcessings': {'href': 'https://vantage.earthi.world/secure/api/v2.0/jobs/770/jobProcessings'},\n",
       "     'outputFiles': {'href': 'https://vantage.earthi.world/secure/api/v2.0/jobs/770/outputFiles'},\n",
       "     'config': {'href': 'https://vantage.earthi.world/secure/api/v2.0/jobs/770/config'},\n",
       "     'owner': {'href': 'https://vantage.earthi.world/secure/api/v2.0/jobs/770/owner'},\n",
       "     'parentJob': {'href': 'https://vantage.earthi.world/secure/api/v2.0/jobs/770/parentJob'}}},\n",
       "   {'owner': {'role': 'CONTENT_AUTHORITY',\n",
       "     'name': 'demo.jhub',\n",
       "     'id': 50,\n",
       "     '_links': {'self': {'href': 'https://vantage.earthi.world/secure/api/v2.0/users/50{?projection}',\n",
       "       'templated': True}}},\n",
       "    'serviceName': 'Vividx2VesselsDetection',\n",
       "    'endTime': '2021-06-10T13:52:05.651',\n",
       "    'startTime': '2021-06-10T13:48:51.143',\n",
       "    'guiUrl': None,\n",
       "    'queuePosition': -1,\n",
       "    'parent': False,\n",
       "    'status': 'ERROR',\n",
       "    'extId': '611b07b0-1f4c-4818-8096-8be85de9a19c',\n",
       "    'access': {'published': False,\n",
       "     'publishRequested': False,\n",
       "     'currentLevel': 'SUPERUSER'},\n",
       "    'systematicParameter': None,\n",
       "    'stage': 'Step 2 of 3: Processing',\n",
       "    'id': 769,\n",
       "    '_links': {'self': {'href': 'https://vantage.earthi.world/secure/api/v2.0/jobs/769'},\n",
       "     'job': {'href': 'https://vantage.earthi.world/secure/api/v2.0/jobs/769{?projection}',\n",
       "      'templated': True},\n",
       "     'logs': {'href': 'https://vantage.earthi.world/secure/api/v2.0/jobs/769/logs'},\n",
       "     'subJobs': {'href': 'https://vantage.earthi.world/secure/api/v2.0/jobs/769/subJobs'},\n",
       "     'jobProcessings': {'href': 'https://vantage.earthi.world/secure/api/v2.0/jobs/769/jobProcessings'},\n",
       "     'outputFiles': {'href': 'https://vantage.earthi.world/secure/api/v2.0/jobs/769/outputFiles'},\n",
       "     'config': {'href': 'https://vantage.earthi.world/secure/api/v2.0/jobs/769/config'},\n",
       "     'owner': {'href': 'https://vantage.earthi.world/secure/api/v2.0/jobs/769/owner'},\n",
       "     'parentJob': {'href': 'https://vantage.earthi.world/secure/api/v2.0/jobs/769/parentJob'}}},\n",
       "   {'owner': {'role': 'CONTENT_AUTHORITY',\n",
       "     'name': 'demo.jhub',\n",
       "     'id': 50,\n",
       "     '_links': {'self': {'href': 'https://vantage.earthi.world/secure/api/v2.0/users/50{?projection}',\n",
       "       'templated': True}}},\n",
       "    'serviceName': 'FastEcho',\n",
       "    'endTime': '2021-06-08T15:45:06.881',\n",
       "    'startTime': '2021-06-08T15:44:21.402',\n",
       "    'guiUrl': None,\n",
       "    'queuePosition': -1,\n",
       "    'parent': False,\n",
       "    'status': 'COMPLETED',\n",
       "    'extId': '201c1850-d97c-46f5-8f6c-f6a936b35388',\n",
       "    'access': {'published': False,\n",
       "     'publishRequested': False,\n",
       "     'currentLevel': 'SUPERUSER'},\n",
       "    'systematicParameter': None,\n",
       "    'stage': 'Step 3 of 3: Output-List',\n",
       "    'id': 768,\n",
       "    '_links': {'self': {'href': 'https://vantage.earthi.world/secure/api/v2.0/jobs/768'},\n",
       "     'job': {'href': 'https://vantage.earthi.world/secure/api/v2.0/jobs/768{?projection}',\n",
       "      'templated': True},\n",
       "     'logs': {'href': 'https://vantage.earthi.world/secure/api/v2.0/jobs/768/logs'},\n",
       "     'subJobs': {'href': 'https://vantage.earthi.world/secure/api/v2.0/jobs/768/subJobs'},\n",
       "     'jobProcessings': {'href': 'https://vantage.earthi.world/secure/api/v2.0/jobs/768/jobProcessings'},\n",
       "     'outputFiles': {'href': 'https://vantage.earthi.world/secure/api/v2.0/jobs/768/outputFiles'},\n",
       "     'config': {'href': 'https://vantage.earthi.world/secure/api/v2.0/jobs/768/config'},\n",
       "     'owner': {'href': 'https://vantage.earthi.world/secure/api/v2.0/jobs/768/owner'},\n",
       "     'parentJob': {'href': 'https://vantage.earthi.world/secure/api/v2.0/jobs/768/parentJob'}}}]},\n",
       " '_links': {'self': {'href': 'https://vantage.earthi.world/secure/api/v2.0/jobs/search/parametricFind?owner=https%3A%2F%2Fvantage.earthi.world%2Fsecure%2Fapi%2Fv2.0%2Fusers%2F50&page=0&size=20&sort=id,desc'}},\n",
       " 'page': {'size': 20, 'totalElements': 15, 'totalPages': 1, 'number': 0}}"
      ]
     },
     "execution_count": 101,
     "metadata": {},
     "output_type": "execute_result"
    }
   ],
   "source": [
    "response.json()"
   ]
  },
  {
   "cell_type": "markdown",
   "metadata": {},
   "source": [
    "#### 3.6 Get the jobs information"
   ]
  },
  {
   "cell_type": "markdown",
   "metadata": {},
   "source": [
    "Reference jobs are 979 and 980"
   ]
  },
  {
   "cell_type": "code",
   "execution_count": 22,
   "metadata": {},
   "outputs": [],
   "source": [
    "job_id_1='979'"
   ]
  },
  {
   "cell_type": "code",
   "execution_count": 103,
   "metadata": {},
   "outputs": [
    {
     "data": {
      "text/plain": [
       "200"
      ]
     },
     "execution_count": 103,
     "metadata": {},
     "output_type": "execute_result"
    }
   ],
   "source": [
    "response = requests.get(endpoint + '/jobs/' + job_id_1, auth=(user,api))\n",
    "response.status_code"
   ]
  },
  {
   "cell_type": "code",
   "execution_count": 104,
   "metadata": {},
   "outputs": [
    {
     "data": {
      "text/plain": [
       "{'id': 962,\n",
       " 'extId': '2aabb4d6-144c-404f-b67b-d8886c943d32',\n",
       " 'startTime': '2021-07-16T09:39:40.877',\n",
       " 'endTime': '2021-07-16T09:58:03.788',\n",
       " 'status': 'COMPLETED',\n",
       " 'phase': 'OUTPUT_LIST',\n",
       " 'workerId': 'LOCAL1',\n",
       " 'stage': 'Step 3 of 3: Output-List',\n",
       " 'guiUrl': None,\n",
       " 'guiEndpoint': None,\n",
       " 'queuePosition': -1,\n",
       " 'outputs': {'output': ['eovep://outputProduct/2aabb4d6-144c-404f-b67b-d8886c943d32/output/VX020003ad.tif']},\n",
       " 'parent': False,\n",
       " 'costQuotation': {'cost': 1, 'recurrence': 'HOURLY'},\n",
       " 'inputTile': None,\n",
       " 'inputDate': None,\n",
       " '_embedded': {'owner': {'role': 'CONTENT_AUTHORITY',\n",
       "   'name': 'demo.jhub',\n",
       "   'id': 50,\n",
       "   '_links': {'self': {'href': 'https://vantage.earthi.world/secure/api/v2.0/users/50{?projection}',\n",
       "     'templated': True}}},\n",
       "  'outputFiles': [{'owner': {'role': 'CONTENT_AUTHORITY',\n",
       "     'name': 'demo.jhub',\n",
       "     'id': 50,\n",
       "     '_links': {'self': {'href': 'https://vantage.earthi.world/secure/api/v2.0/users/50{?projection}',\n",
       "       'templated': True}}},\n",
       "    'restoId': '711867a3-901c-5267-9d1b-fbb1e3cfc362',\n",
       "    'filename': '2aabb4d6-144c-404f-b67b-d8886c943d32/output/VX020003ad.tif',\n",
       "    'access': {'published': False,\n",
       "     'publishRequested': False,\n",
       "     'currentLevel': 'SUPERUSER'},\n",
       "    'type': 'OUTPUT_PRODUCT',\n",
       "    'id': 2489,\n",
       "    '_links': {'self': {'href': 'https://vantage.earthi.world/secure/api/v2.0/platformFiles/2489{?projection}',\n",
       "      'templated': True},\n",
       "     'owner': {'href': 'https://vantage.earthi.world/secure/api/v2.0/platformFiles/2489/owner'},\n",
       "     'jobs': {'href': 'https://vantage.earthi.world/secure/api/v2.0/platformFiles/2489/jobs'},\n",
       "     'collection': {'href': 'https://vantage.earthi.world/secure/api/v2.0/platformFiles/2489/collection'},\n",
       "     'download': {'href': 'https://vantage.earthi.world/secure/api/v2.0/platformFiles/2489{?projection}',\n",
       "      'templated': True}}}]},\n",
       " '_links': {'self': {'href': 'https://vantage.earthi.world/secure/api/v2.0/jobs/962'},\n",
       "  'job': {'href': 'https://vantage.earthi.world/secure/api/v2.0/jobs/962{?projection}',\n",
       "   'templated': True},\n",
       "  'logs': {'href': 'https://vantage.earthi.world/secure/api/v2.0/jobs/962/logs'},\n",
       "  'output-output': {'href': 'https://vantage.earthi.world/secure/api/v2.0/platformFiles/2489'},\n",
       "  'subJobs': {'href': 'https://vantage.earthi.world/secure/api/v2.0/jobs/962/subJobs'},\n",
       "  'jobProcessings': {'href': 'https://vantage.earthi.world/secure/api/v2.0/jobs/962/jobProcessings'},\n",
       "  'outputFiles': {'href': 'https://vantage.earthi.world/secure/api/v2.0/jobs/962/outputFiles'},\n",
       "  'config': {'href': 'https://vantage.earthi.world/secure/api/v2.0/jobs/962/config'},\n",
       "  'owner': {'href': 'https://vantage.earthi.world/secure/api/v2.0/jobs/962/owner'},\n",
       "  'parentJob': {'href': 'https://vantage.earthi.world/secure/api/v2.0/jobs/962/parentJob'}}}"
      ]
     },
     "execution_count": 104,
     "metadata": {},
     "output_type": "execute_result"
    }
   ],
   "source": [
    "response.json()"
   ]
  },
  {
   "cell_type": "markdown",
   "metadata": {},
   "source": [
    "Get the second job information"
   ]
  },
  {
   "cell_type": "code",
   "execution_count": 23,
   "metadata": {},
   "outputs": [],
   "source": [
    "job_id_2='980'"
   ]
  },
  {
   "cell_type": "code",
   "execution_count": 106,
   "metadata": {},
   "outputs": [
    {
     "data": {
      "text/plain": [
       "200"
      ]
     },
     "execution_count": 106,
     "metadata": {},
     "output_type": "execute_result"
    }
   ],
   "source": [
    "response = requests.get(endpoint + '/jobs/' + job_id_2, auth=(user,api))\n",
    "response.status_code"
   ]
  },
  {
   "cell_type": "code",
   "execution_count": 107,
   "metadata": {},
   "outputs": [
    {
     "data": {
      "text/plain": [
       "{'id': 963,\n",
       " 'extId': 'c57c503a-1b43-4fe9-bece-845840eab0fd',\n",
       " 'startTime': '2021-07-16T09:41:56.26',\n",
       " 'endTime': '2021-07-16T09:58:44.889',\n",
       " 'status': 'COMPLETED',\n",
       " 'phase': 'OUTPUT_LIST',\n",
       " 'workerId': 'LOCAL1',\n",
       " 'stage': 'Step 3 of 3: Output-List',\n",
       " 'guiUrl': None,\n",
       " 'guiEndpoint': None,\n",
       " 'queuePosition': -1,\n",
       " 'outputs': {'output': ['eovep://outputProduct/c57c503a-1b43-4fe9-bece-845840eab0fd/output/VX02000186.tif']},\n",
       " 'parent': False,\n",
       " 'costQuotation': {'cost': 1, 'recurrence': 'HOURLY'},\n",
       " 'inputTile': None,\n",
       " 'inputDate': None,\n",
       " '_embedded': {'owner': {'role': 'CONTENT_AUTHORITY',\n",
       "   'name': 'demo.jhub',\n",
       "   'id': 50,\n",
       "   '_links': {'self': {'href': 'https://vantage.earthi.world/secure/api/v2.0/users/50{?projection}',\n",
       "     'templated': True}}},\n",
       "  'outputFiles': [{'owner': {'role': 'CONTENT_AUTHORITY',\n",
       "     'name': 'demo.jhub',\n",
       "     'id': 50,\n",
       "     '_links': {'self': {'href': 'https://vantage.earthi.world/secure/api/v2.0/users/50{?projection}',\n",
       "       'templated': True}}},\n",
       "    'restoId': 'f14046c7-b018-5cc1-aee1-4fa5e52f9044',\n",
       "    'filename': 'c57c503a-1b43-4fe9-bece-845840eab0fd/output/VX02000186.tif',\n",
       "    'access': {'published': False,\n",
       "     'publishRequested': False,\n",
       "     'currentLevel': 'SUPERUSER'},\n",
       "    'type': 'OUTPUT_PRODUCT',\n",
       "    'id': 2490,\n",
       "    '_links': {'self': {'href': 'https://vantage.earthi.world/secure/api/v2.0/platformFiles/2490{?projection}',\n",
       "      'templated': True},\n",
       "     'owner': {'href': 'https://vantage.earthi.world/secure/api/v2.0/platformFiles/2490/owner'},\n",
       "     'jobs': {'href': 'https://vantage.earthi.world/secure/api/v2.0/platformFiles/2490/jobs'},\n",
       "     'collection': {'href': 'https://vantage.earthi.world/secure/api/v2.0/platformFiles/2490/collection'},\n",
       "     'download': {'href': 'https://vantage.earthi.world/secure/api/v2.0/platformFiles/2490{?projection}',\n",
       "      'templated': True}}}]},\n",
       " '_links': {'self': {'href': 'https://vantage.earthi.world/secure/api/v2.0/jobs/963'},\n",
       "  'job': {'href': 'https://vantage.earthi.world/secure/api/v2.0/jobs/963{?projection}',\n",
       "   'templated': True},\n",
       "  'logs': {'href': 'https://vantage.earthi.world/secure/api/v2.0/jobs/963/logs'},\n",
       "  'output-output': {'href': 'https://vantage.earthi.world/secure/api/v2.0/platformFiles/2490'},\n",
       "  'subJobs': {'href': 'https://vantage.earthi.world/secure/api/v2.0/jobs/963/subJobs'},\n",
       "  'jobProcessings': {'href': 'https://vantage.earthi.world/secure/api/v2.0/jobs/963/jobProcessings'},\n",
       "  'outputFiles': {'href': 'https://vantage.earthi.world/secure/api/v2.0/jobs/963/outputFiles'},\n",
       "  'config': {'href': 'https://vantage.earthi.world/secure/api/v2.0/jobs/963/config'},\n",
       "  'owner': {'href': 'https://vantage.earthi.world/secure/api/v2.0/jobs/963/owner'},\n",
       "  'parentJob': {'href': 'https://vantage.earthi.world/secure/api/v2.0/jobs/963/parentJob'}}}"
      ]
     },
     "execution_count": 107,
     "metadata": {},
     "output_type": "execute_result"
    }
   ],
   "source": [
    "response.json()"
   ]
  },
  {
   "cell_type": "markdown",
   "metadata": {},
   "source": [
    "#### 3.7 [OPTIONAL]  Retrieve the logs from the jobs"
   ]
  },
  {
   "cell_type": "code",
   "execution_count": 24,
   "metadata": {},
   "outputs": [],
   "source": [
    "job_id_1='979'\n",
    "job_id_2='980'\n"
   ]
  },
  {
   "cell_type": "code",
   "execution_count": 109,
   "metadata": {},
   "outputs": [
    {
     "data": {
      "text/plain": [
       "200"
      ]
     },
     "execution_count": 109,
     "metadata": {},
     "output_type": "execute_result"
    }
   ],
   "source": [
    "response = requests.get(endpoint + '/jobs/' + job_id_1 + '/logs', auth=(user,api))\n",
    "response.status_code"
   ]
  },
  {
   "cell_type": "code",
   "execution_count": 110,
   "metadata": {},
   "outputs": [
    {
     "data": {
      "text/plain": [
       "[{'timestamp': '2021-07-16T09:41:48.687953795+00:00',\n",
       "  'message': '+++ readlink -f /home/worker/processor/workflow.sh\\n'},\n",
       " {'timestamp': '2021-07-16T09:41:48.690127974+00:00',\n",
       "  'message': '++ dirname /home/worker/processor/workflow.sh\\n'},\n",
       " {'timestamp': '2021-07-16T09:41:48.692116461+00:00',\n",
       "  'message': '+ WORKFLOW=/home/worker/processor\\n'},\n",
       " {'timestamp': '2021-07-16T09:41:48.692131016+00:00',\n",
       "  'message': '+ WORKER_DIR=/home/worker\\n'},\n",
       " {'timestamp': '2021-07-16T09:41:48.692135446+00:00',\n",
       "  'message': '+ IN_DIR=/home/worker/workDir/inDir\\n'},\n",
       " {'timestamp': '2021-07-16T09:41:48.692139253+00:00',\n",
       "  'message': '+ OUT_DIR=/home/worker/workDir/outDir\\n'},\n",
       " {'timestamp': '2021-07-16T09:41:48.692142757+00:00',\n",
       "  'message': '+ WPS_PROPS=/home/worker/workDir/WPS-INPUT.properties\\n'},\n",
       " {'timestamp': '2021-07-16T09:41:48.692146305+00:00',\n",
       "  'message': '+ PROC_DIR=/home/worker/procDir\\n'},\n",
       " {'timestamp': '2021-07-16T09:41:48.692505870+00:00',\n",
       "  'message': '++ date --utc +%Y%m%d_%H%M%SZ\\n'},\n",
       " {'timestamp': '2021-07-16T09:41:48.695544701+00:00',\n",
       "  'message': '+ TIMESTAMP=20210716_094148Z\\n'},\n",
       " {'timestamp': '2021-07-16T09:41:48.695564662+00:00',\n",
       "  'message': '+ source /home/worker/workDir/WPS-INPUT.properties\\n'},\n",
       " {'timestamp': '2021-07-16T09:41:48.695569485+00:00',\n",
       "  'message': '++ VideoFile=https://esrin-data-input.s3.eu-west-2.amazonaws.com/Vivid-X2/VX020003ad.zip\\n'},\n",
       " {'timestamp': '2021-07-16T09:41:48.695574633+00:00',\n",
       "  'message': '+ mkdir -p /home/worker/workDir/outDir/output\\n'},\n",
       " {'timestamp': '2021-07-16T09:41:48.695945842+00:00',\n",
       "  'message': '++ basename https://esrin-data-input.s3.eu-west-2.amazonaws.com/Vivid-X2/VX020003ad.zip\\n'},\n",
       " {'timestamp': '2021-07-16T09:41:48.696947259+00:00',\n",
       "  'message': '+ FILENAME=VX020003ad.zip\\n'},\n",
       " {'timestamp': '2021-07-16T09:41:48.696957642+00:00',\n",
       "  'message': '+ ls /home/worker/workDir/inDir/VideoFile\\n'},\n",
       " {'timestamp': '2021-07-16T09:41:48.698660036+00:00',\n",
       "  'message': 'VX020003ad.mp4\\n'},\n",
       " {'timestamp': '2021-07-16T09:41:48.698676030+00:00',\n",
       "  'message': 'VX020003ad_AcqMD.xml\\n'},\n",
       " {'timestamp': '2021-07-16T09:41:48.698680912+00:00',\n",
       "  'message': 'VX020003ad_Browse.mp4\\n'},\n",
       " {'timestamp': '2021-07-16T09:41:48.698683609+00:00',\n",
       "  'message': 'VX020003ad_Catalogue.xml\\n'},\n",
       " {'timestamp': '2021-07-16T09:41:48.698686012+00:00',\n",
       "  'message': 'VX020003ad_Thumb.jpg\\n'},\n",
       " {'timestamp': '2021-07-16T09:41:48.698688350+00:00',\n",
       "  'message': 'VX020003ad_VidMD.xml\\n'},\n",
       " {'timestamp': '2021-07-16T09:41:48.698691439+00:00',\n",
       "  'message': 'VX020003ad_geometry.xml\\n'},\n",
       " {'timestamp': '2021-07-16T09:41:48.698693961+00:00', 'message': 'Vivid-X2\\n'},\n",
       " {'timestamp': '2021-07-16T09:41:48.698710576+00:00',\n",
       "  'message': '+ ls /home/worker/workDir/inDir/VideoFile/Vivid-X2\\n'},\n",
       " {'timestamp': '2021-07-16T09:41:48.700210298+00:00',\n",
       "  'message': '+ cd /home/worker/processor/\\n'},\n",
       " {'timestamp': '2021-07-16T09:41:48.700223188+00:00', 'message': '+ ls\\n'},\n",
       " {'timestamp': '2021-07-16T09:41:48.701875786+00:00',\n",
       "  'message': 'Dockerfile\\n'},\n",
       " {'timestamp': '2021-07-16T09:41:48.701886067+00:00',\n",
       "  'message': 'README.md\\n'},\n",
       " {'timestamp': '2021-07-16T09:41:48.701888862+00:00',\n",
       "  'message': 'config.json\\n'},\n",
       " {'timestamp': '2021-07-16T09:41:48.701891038+00:00', 'message': 'data.py\\n'},\n",
       " {'timestamp': '2021-07-16T09:41:48.701893143+00:00',\n",
       "  'message': 'data_explore.py\\n'},\n",
       " {'timestamp': '2021-07-16T09:41:48.701895337+00:00',\n",
       "  'message': 'experiments\\n'},\n",
       " {'timestamp': '2021-07-16T09:41:48.701897373+00:00',\n",
       "  'message': 'inference.py\\n'},\n",
       " {'timestamp': '2021-07-16T09:41:48.701899431+00:00',\n",
       "  'message': 'inference_config.json\\n'},\n",
       " {'timestamp': '2021-07-16T09:41:48.701901448+00:00',\n",
       "  'message': 'inference_dev.py\\n'},\n",
       " {'timestamp': '2021-07-16T09:41:48.701903390+00:00', 'message': 'losses\\n'},\n",
       " {'timestamp': '2021-07-16T09:41:48.701905408+00:00', 'message': 'output\\n'},\n",
       " {'timestamp': '2021-07-16T09:41:48.701907430+00:00',\n",
       "  'message': 'requirements.txt\\n'},\n",
       " {'timestamp': '2021-07-16T09:41:48.701909367+00:00',\n",
       "  'message': 'trainer.py\\n'},\n",
       " {'timestamp': '2021-07-16T09:41:48.701911293+00:00', 'message': 'utils.py\\n'},\n",
       " {'timestamp': '2021-07-16T09:41:48.701913283+00:00',\n",
       "  'message': 'workflow.sh\\n'},\n",
       " {'timestamp': '2021-07-16T09:41:48.701915356+00:00',\n",
       "  'message': 'workflow_repo.sh\\n'},\n",
       " {'timestamp': '2021-07-16T09:41:48.702194470+00:00',\n",
       "  'message': '+ python inference.py --input_video /home/worker/workDir/inDir/VideoFile/\\n'},\n",
       " {'timestamp': '2021-07-16T09:41:54.927867977+00:00',\n",
       "  'message': '/usr/local/lib/python3.9/site-packages/torch/cuda/__init__.py:52: UserWarning: CUDA initialization: Found no NVIDIA driver on your system. Please check that you have an NVIDIA GPU and installed a driver from http://www.nvidia.com/Download/index.aspx (Triggered internally at  /pytorch/c10/cuda/CUDAFunctions.cpp:100.)\\n'},\n",
       " {'timestamp': '2021-07-16T09:41:54.927904205+00:00',\n",
       "  'message': '  return torch._C._cuda_getDeviceCount() > 0\\n'},\n",
       " {'timestamp': '2021-07-16T09:53:11.352907064+00:00',\n",
       "  'message': '\\r  0%|          | 0/361 [00:00<?, ?it/s]\\r  0%|          | 1/361 [00:01<10:58,  1.83s/it]\\r  1%|          | 2/361 [00:03<09:23,  1.57s/it]\\r  1%|          | 3/361 [00:04<09:14,  1.55s/it]\\r  1%|          | 4/361 [00:06<09:00,  1.51s/it]\\r  1%|▏         | 5/361 [00:07<08:38,  1.46s/it]\\r  2%|▏         | 6/361 [00:08<08:30,  1.44s/it]\\r  2%|▏         | 7/361 [00:10<08:46,  1.49s/it]\\r  2%|▏         | 8/361 [00:12<10:18,  1.75s/it]\\r  2%|▏         | 9/361 [00:15<11:07,  1.90s/it]\\r  3%|▎         | 10/361 [00:17<12:05,  2.07s/it]\\r  3%|▎         | 11/361 [00:19<12:14,  2.10s/it]\\r  3%|▎         | 12/361 [00:22<12:46,  2.20s/it]\\r  4%|▎         | 13/361 [00:24<13:10,  2.27s/it]\\r  4%|▍         | 14/361 [00:26<13:16,  2.29s/it]\\r  4%|▍         | 15/361 [00:29<13:27,  2.33s/it]\\r  4%|▍         | 16/361 [00:31<13:17,  2.31s/it]\\r  5%|▍         | 17/361 [00:34<13:50,  2.41s/it]\\r  5%|▍         | 18/361 [00:36<13:43,  2.40s/it]\\r  5%|▌         | 19/361 [00:38<13:21,  2.34s/it]\\r  6%|▌         | 20/361 [00:40<12:59,  2.29s/it]\\r  6%|▌         | 21/361 [00:42<12:09,  2.15s/it]\\r  6%|▌         | 22/361 [00:44<11:37,  2.06s/it]\\r  6%|▋         | 23/361 [00:46<11:54,  2.12s/it]\\r  7%|▋         | 24/361 [00:49<13:21,  2.38s/it]\\r  7%|▋         | 25/361 [00:52<13:03,  2.33s/it]\\r  7%|▋         | 26/361 [00:54<13:05,  2.34s/it]\\r  7%|▋         | 27/361 [00:56<13:09,  2.36s/it]\\r  8%|▊         | 28/361 [00:59<13:05,  2.36s/it]\\r  8%|▊         | 29/361 [01:01<13:17,  2.40s/it]\\r  8%|▊         | 30/361 [01:04<13:12,  2.39s/it]\\r  9%|▊         | 31/361 [01:06<13:21,  2.43s/it]\\r  9%|▉         | 32/361 [01:09<13:23,  2.44s/it]\\r  9%|▉         | 33/361 [01:11<13:25,  2.45s/it]\\r  9%|▉         | 34/361 [01:14<13:21,  2.45s/it]\\r 10%|▉         | 35/361 [01:16<13:21,  2.46s/it]\\r 10%|▉         | 36/361 [01:18<13:13,  2.44s/it]\\r 10%|█         | 37/361 [01:21<13:10,  2.44s/it]\\r 11%|█         | 38/361 [01:23<13:02,  2.42s/it]\\r 11%|█         | 39/361 [01:26<13:02,  2.43s/it]\\r 11%|█         | 40/361 [01:28<13:01,  2.44s/it]\\r 11%|█▏        | 41/361 [01:31<12:57,  2.43s/it]\\r 12%|█▏        | 42/361 [01:33<12:58,  2.44s/it]\\r 12%|█▏        | 43/361 [01:35<12:50,  2.42s/it]\\r 12%|█▏        | 44/361 [01:38<12:47,  2.42s/it]\\r 12%|█▏        | 45/361 [01:40<12:43,  2.42s/it]\\r 13%|█▎        | 46/361 [01:43<12:43,  2.42s/it]\\r 13%|█▎        | 47/361 [01:45<12:35,  2.41s/it]\\r 13%|█▎        | 48/361 [01:47<12:31,  2.40s/it]\\r 14%|█▎        | 49/361 [01:50<12:21,  2.38s/it]\\r 14%|█▍        | 50/361 [01:52<12:28,  2.41s/it]\\r 14%|█▍        | 51/361 [01:55<12:25,  2.40s/it]\\r 14%|█▍        | 52/361 [01:57<12:18,  2.39s/it]\\r 15%|█▍        | 53/361 [01:59<12:24,  2.42s/it]\\r 15%|█▍        | 54/361 [02:02<12:08,  2.37s/it]\\r 15%|█▌        | 55/361 [02:04<12:11,  2.39s/it]\\r 16%|█▌        | 56/361 [02:07<12:14,  2.41s/it]\\r 16%|█▌        | 57/361 [02:09<12:17,  2.43s/it]\\r 16%|█▌        | 58/361 [02:11<12:13,  2.42s/it]\\r 16%|█▋        | 59/361 [02:14<12:06,  2.41s/it]\\r 17%|█▋        | 60/361 [02:16<12:06,  2.41s/it]\\r 17%|█▋        | 61/361 [02:19<12:01,  2.41s/it]\\r 17%|█▋        | 62/361 [02:21<12:05,  2.43s/it]\\r 17%|█▋        | 63/361 [02:24<12:05,  2.44s/it]\\r 18%|█▊        | 64/361 [02:26<12:05,  2.44s/it]\\r 18%|█▊        | 65/361 [02:29<12:07,  2.46s/it]\\r 18%|█▊        | 66/361 [02:31<12:04,  2.45s/it]\\r 19%|█▊        | 67/361 [02:33<12:04,  2.46s/it]\\r 19%|█▉        | 68/361 [02:36<12:07,  2.48s/it]\\r 19%|█▉        | 69/361 [02:39<12:08,  2.49s/it]\\r 19%|█▉        | 70/361 [02:41<12:01,  2.48s/it]\\r 20%|█▉        | 71/361 [02:43<11:57,  2.48s/it]\\r 20%|█▉        | 72/361 [02:46<11:49,  2.45s/it]\\r 20%|██        | 73/361 [02:48<11:47,  2.46s/it]\\r 20%|██        | 74/361 [02:51<11:44,  2.45s/it]\\r 21%|██        | 75/361 [02:53<11:40,  2.45s/it]\\r 21%|██        | 76/361 [02:56<11:36,  2.44s/it]\\r 21%|██▏       | 77/361 [02:58<11:41,  2.47s/it]\\r 22%|██▏       | 78/361 [03:01<11:45,  2.49s/it]\\r 22%|██▏       | 79/361 [03:03<11:36,  2.47s/it]\\r 22%|██▏       | 80/361 [03:06<11:36,  2.48s/it]\\r 22%|██▏       | 81/361 [03:08<11:42,  2.51s/it]\\r 23%|██▎       | 82/361 [03:11<11:35,  2.49s/it]\\r 23%|██▎       | 83/361 [03:13<11:36,  2.50s/it]\\r 23%|██▎       | 84/361 [03:16<11:29,  2.49s/it]\\r 24%|██▎       | 85/361 [03:18<11:29,  2.50s/it]\\r 24%|██▍       | 86/361 [03:21<11:16,  2.46s/it]\\r 24%|██▍       | 87/361 [03:23<11:02,  2.42s/it]\\r 24%|██▍       | 88/361 [03:25<10:51,  2.39s/it]\\r 25%|██▍       | 89/361 [03:28<10:50,  2.39s/it]\\r 25%|██▍       | 90/361 [03:30<10:54,  2.42s/it]\\r 25%|██▌       | 91/361 [03:32<10:51,  2.41s/it]\\r 25%|██▌       | 92/361 [03:35<10:29,  2.34s/it]\\r 26%|██▌       | 93/361 [03:37<10:20,  2.32s/it]\\r 26%|██▌       | 94/361 [03:39<10:20,  2.32s/it]\\r 26%|██▋       | 95/361 [03:41<10:14,  2.31s/it]\\r 27%|██▋       | 96/361 [03:44<10:07,  2.29s/it]\\r 27%|██▋       | 97/361 [03:46<10:08,  2.30s/it]\\r 27%|██▋       | 98/361 [03:48<10:05,  2.30s/it]\\r 27%|██▋       | 99/361 [03:51<10:00,  2.29s/it]\\r 28%|██▊       | 100/361 [03:53<09:56,  2.28s/it]\\r 28%|██▊       | 101/361 [03:55<09:51,  2.27s/it]\\r 28%|██▊       | 102/361 [03:57<09:47,  2.27s/it]\\r 29%|██▊       | 103/361 [04:00<09:45,  2.27s/it]\\r 29%|██▉       | 104/361 [04:02<09:44,  2.27s/it]\\r 29%|██▉       | 105/361 [04:04<09:38,  2.26s/it]\\r 29%|██▉       | 106/361 [04:06<09:35,  2.26s/it]\\r 30%|██▉       | 107/361 [04:09<09:32,  2.25s/it]\\r 30%|██▉       | 108/361 [04:11<09:29,  2.25s/it]\\r 30%|███       | 109/361 [04:13<09:31,  2.27s/it]\\r 30%|███       | 110/361 [04:15<09:23,  2.25s/it]\\r 31%|███       | 111/361 [04:18<09:23,  2.26s/it]\\r 31%|███       | 112/361 [04:20<09:18,  2.24s/it]\\r 31%|███▏      | 113/361 [04:22<09:13,  2.23s/it]\\r 32%|███▏      | 114/361 [04:24<09:09,  2.23s/it]\\r 32%|███▏      | 115/361 [04:27<09:06,  2.22s/it]\\r 32%|███▏      | 116/361 [04:29<09:04,  2.22s/it]\\r 32%|███▏      | 117/361 [04:31<09:08,  2.25s/it]\\r 33%|███▎      | 118/361 [04:33<09:05,  2.24s/it]\\r 33%|███▎      | 119/361 [04:35<08:57,  2.22s/it]\\r 33%|███▎      | 120/361 [04:38<08:56,  2.22s/it]\\r 34%|███▎      | 121/361 [04:40<08:57,  2.24s/it]\\r 34%|███▍      | 122/361 [04:42<08:51,  2.23s/it]\\r 34%|███▍      | 123/361 [04:44<08:53,  2.24s/it]\\r 34%|███▍      | 124/361 [04:47<09:02,  2.29s/it]\\r 35%|███▍      | 125/361 [04:49<09:08,  2.32s/it]\\r 35%|███▍      | 126/361 [04:52<09:13,  2.36s/it]\\r 35%|███▌      | 127/361 [04:54<09:11,  2.36s/it]\\r 35%|███▌      | 128/361 [04:56<09:10,  2.36s/it]\\r 36%|███▌      | 129/361 [04:59<09:06,  2.35s/it]\\r 36%|███▌      | 130/361 [05:01<09:00,  2.34s/it]\\r 36%|███▋      | 131/361 [05:03<08:57,  2.34s/it]\\r 37%|███▋      | 132/361 [05:06<08:55,  2.34s/it]\\r 37%|███▋      | 133/361 [05:08<08:51,  2.33s/it]\\r 37%|███▋      | 134/361 [05:10<08:52,  2.35s/it]\\r 37%|███▋      | 135/361 [05:13<08:45,  2.32s/it]\\r 38%|███▊      | 136/361 [05:15<08:36,  2.30s/it]\\r 38%|███▊      | 137/361 [05:17<08:33,  2.29s/it]\\r 38%|███▊      | 138/361 [05:20<08:36,  2.32s/it]\\r 39%|███▊      | 139/361 [05:22<08:39,  2.34s/it]\\r 39%|███▉      | 140/361 [05:24<08:39,  2.35s/it]\\r 39%|███▉      | 141/361 [05:27<08:34,  2.34s/it]\\r 39%|███▉      | 142/361 [05:29<08:24,  2.30s/it]\\r 40%|███▉      | 143/361 [05:31<08:18,  2.29s/it]\\r 40%|███▉      | 144/361 [05:33<08:19,  2.30s/it]\\r 40%|████      | 145/361 [05:36<08:18,  2.31s/it]\\r 40%|████      | 146/361 [05:38<08:15,  2.30s/it]\\r 41%|████      | 147/361 [05:40<08:18,  2.33s/it]\\r 41%|████      | 148/361 [05:43<08:23,  2.36s/it]\\r 41%|████▏     | 149/361 [05:45<08:21,  2.36s/it]\\r 42%|████▏     | 150/361 [05:48<08:16,  2.35s/it]\\r 42%|████▏     | 151/361 [05:50<08:15,  2.36s/it]\\r 42%|████▏     | 152/361 [05:52<08:13,  2.36s/it]\\r 42%|████▏     | 153/361 [05:55<08:12,  2.37s/it]\\r 43%|████▎     | 154/361 [05:57<08:08,  2.36s/it]\\r 43%|████▎     | 155/361 [05:59<08:09,  2.37s/it]\\r 43%|████▎     | 156/361 [06:02<08:10,  2.39s/it]\\r 43%|████▎     | 157/361 [06:04<08:07,  2.39s/it]\\r 44%|████▍     | 158/361 [06:07<08:04,  2.38s/it]\\r 44%|████▍     | 159/361 [06:09<08:08,  2.42s/it]\\r 44%|████▍     | 160/361 [06:12<08:07,  2.43s/it]\\r 45%|████▍     | 161/361 [06:14<08:00,  2.40s/it]\\r 45%|████▍     | 162/361 [06:16<07:54,  2.39s/it]\\r 45%|████▌     | 163/361 [06:19<07:56,  2.40s/it]\\r 45%|████▌     | 164/361 [06:21<07:52,  2.40s/it]\\r 46%|████▌     | 165/361 [06:24<07:58,  2.44s/it]\\r 46%|████▌     | 166/361 [06:26<07:54,  2.43s/it]\\r 46%|████▋     | 167/361 [06:29<07:51,  2.43s/it]\\r 47%|████▋     | 168/361 [06:31<07:43,  2.40s/it]\\r 47%|████▋     | 169/361 [06:33<07:33,  2.36s/it]\\r 47%|████▋     | 170/361 [06:35<07:28,  2.35s/it]\\r 47%|████▋     | 171/361 [06:38<07:22,  2.33s/it]\\r 48%|████▊     | 172/361 [06:40<07:23,  2.35s/it]\\r 48%|████▊     | 173/361 [06:42<07:20,  2.34s/it]\\r 48%|████▊     | 174/361 [06:45<07:20,  2.36s/it]\\r 48%|████▊     | 175/361 [06:47<07:19,  2.36s/it]\\r 49%|████▉     | 176/361 [06:50<07:19,  2.38s/it]\\r 49%|████▉     | 177/361 [06:52<07:20,  2.39s/it]\\r 49%|████▉     | 178/361 [06:54<07:14,  2.37s/it]\\r 50%|████▉     | 179/361 [06:57<07:11,  2.37s/it]\\r 50%|████▉     | 180/361 [06:59<07:11,  2.39s/it]\\r 50%|█████     | 181/361 [07:02<07:09,  2.39s/it]\\r 50%|█████     | 182/361 [07:04<07:06,  2.39s/it]\\r 51%|█████     | 183/361 [07:06<07:06,  2.40s/it]\\r 51%|█████     | 184/361 [07:09<07:03,  2.39s/it]\\r 51%|█████     | 185/361 [07:11<07:04,  2.41s/it]\\r 52%|█████▏    | 186/361 [07:14<06:58,  2.39s/it]\\r 52%|█████▏    | 187/361 [07:16<07:06,  2.45s/it]\\r 52%|█████▏    | 188/361 [07:19<07:04,  2.45s/it]\\r 52%|█████▏    | 189/361 [07:21<07:04,  2.47s/it]\\r 53%|█████▎    | 190/361 [07:24<06:59,  2.45s/it]\\r 53%|█████▎    | 191/361 [07:26<06:52,  2.43s/it]\\r 53%|█████▎    | 192/361 [07:29<07:00,  2.49s/it]\\r 53%|█████▎    | 193/361 [07:31<07:00,  2.50s/it]\\r 54%|█████▎    | 194/361 [07:34<06:58,  2.50s/it]\\r 54%|█████▍    | 195/361 [07:36<07:01,  2.54s/it]\\r 54%|█████▍    | 196/361 [07:39<06:50,  2.49s/it]\\r 55%|█████▍    | 197/361 [07:41<06:48,  2.49s/it]\\r 55%|█████▍    | 198/361 [07:44<06:46,  2.50s/it]\\r 55%|█████▌    | 199/361 [07:46<06:48,  2.52s/it]\\r 55%|█████▌    | 200/361 [07:49<06:50,  2.55s/it]\\r 56%|█████▌    | 201/361 [07:52<06:58,  2.61s/it]\\r 56%|█████▌    | 202/361 [07:54<06:53,  2.60s/it]\\r 56%|█████▌    | 203/361 [07:56<06:40,  2.54s/it]\\r 57%|█████▋    | 204/361 [07:59<06:29,  2.48s/it]\\r 57%|█████▋    | 205/361 [08:01<06:23,  2.46s/it]\\r 57%|█████▋    | 206/361 [08:04<06:14,  2.42s/it]\\r 57%|█████▋    | 207/361 [08:06<06:07,  2.38s/it]\\r 58%|█████▊    | 208/361 [08:08<06:10,  2.42s/it]\\r 58%|█████▊    | 209/361 [08:11<06:02,  2.38s/it]\\r 58%|█████▊    | 210/361 [08:13<05:59,  2.38s/it]\\r 58%|█████▊    | 211/361 [08:15<05:53,  2.35s/it]\\r 59%|█████▊    | 212/361 [08:17<05:41,  2.29s/it]\\r 59%|█████▉    | 213/361 [08:20<05:37,  2.28s/it]\\r 59%|█████▉    | 214/361 [08:22<05:35,  2.28s/it]\\r 60%|█████▉    | 215/361 [08:24<05:34,  2.29s/it]\\r 60%|█████▉    | 216/361 [08:27<05:39,  2.34s/it]\\r 60%|██████    | 217/361 [08:29<05:35,  2.33s/it]\\r 60%|██████    | 218/361 [08:31<05:28,  2.30s/it]\\r 61%|██████    | 219/361 [08:34<05:26,  2.30s/it]\\r 61%|██████    | 220/361 [08:36<05:21,  2.28s/it]\\r 61%|██████    | 221/361 [08:38<05:17,  2.27s/it]\\r 61%|██████▏   | 222/361 [08:40<05:13,  2.26s/it]\\r 62%|██████▏   | 223/361 [08:43<05:13,  2.28s/it]\\r 62%|██████▏   | 224/361 [08:45<05:14,  2.29s/it]\\r 62%|██████▏   | 225/361 [08:48<05:20,  2.35s/it]\\r 63%|██████▎   | 226/361 [08:50<05:18,  2.36s/it]\\r 63%|██████▎   | 227/361 [08:52<05:16,  2.36s/it]\\r 63%|██████▎   | 228/361 [08:55<05:10,  2.33s/it]\\r 63%|██████▎   | 229/361 [08:57<05:03,  2.30s/it]\\r 64%|██████▎   | 230/361 [08:59<04:59,  2.29s/it]\\r 64%|██████▍   | 231/361 [09:01<04:59,  2.31s/it]\\r 64%|██████▍   | 232/361 [09:04<05:11,  2.41s/it]\\r 65%|██████▍   | 233/361 [09:06<05:02,  2.36s/it]\\r 65%|██████▍   | 234/361 [09:09<04:57,  2.34s/it]\\r 65%|██████▌   | 235/361 [09:11<04:56,  2.35s/it]\\r 65%|██████▌   | 236/361 [09:13<04:56,  2.37s/it]\\r 66%|██████▌   | 237/361 [09:16<04:54,  2.37s/it]\\r 66%|██████▌   | 238/361 [09:18<04:52,  2.38s/it]\\r 66%|██████▌   | 239/361 [09:20<04:48,  2.37s/it]\\r 66%|██████▋   | 240/361 [09:23<04:50,  2.40s/it]\\r 67%|██████▋   | 241/361 [09:25<04:45,  2.38s/it]\\r 67%|██████▋   | 242/361 [09:28<04:39,  2.35s/it]\\r 67%|██████▋   | 243/361 [09:30<04:38,  2.36s/it]\\r 68%|██████▊   | 244/361 [09:32<04:35,  2.35s/it]\\r 68%|██████▊   | 245/361 [09:35<04:36,  2.38s/it]\\r 68%|██████▊   | 246/361 [09:37<04:33,  2.38s/it]\\r 68%|██████▊   | 247/361 [09:39<04:31,  2.38s/it]\\r 69%|██████▊   | 248/361 [09:42<04:31,  2.40s/it]\\r 69%|██████▉   | 249/361 [09:44<04:30,  2.41s/it]\\r 69%|██████▉   | 250/361 [09:47<04:27,  2.41s/it]\\r 70%|██████▉   | 251/361 [09:49<04:27,  2.43s/it]\\r 70%|██████▉   | 252/361 [09:52<04:26,  2.45s/it]\\r 70%|███████   | 253/361 [09:54<04:24,  2.45s/it]\\r 70%|███████   | 254/361 [09:57<04:22,  2.46s/it]\\r 71%|███████   | 255/361 [09:59<04:21,  2.47s/it]\\r 71%|███████   | 256/361 [10:02<04:22,  2.50s/it]\\r 71%|███████   | 257/361 [10:04<04:24,  2.55s/it]\\r 71%|███████▏  | 258/361 [10:07<04:27,  2.59s/it]\\r 72%|███████▏  | 259/361 [10:09<04:18,  2.53s/it]\\r 72%|███████▏  | 260/361 [10:12<04:12,  2.50s/it]\\r 72%|███████▏  | 261/361 [10:14<04:05,  2.46s/it]\\r 73%|███████▎  | 262/361 [10:17<04:01,  2.44s/it]\\r 73%|███████▎  | 263/361 [10:19<03:56,  2.41s/it]\\r 73%|███████▎  | 264/361 [10:21<03:52,  2.40s/it]\\r 73%|███████▎  | 265/361 [10:24<03:52,  2.42s/it]\\r 74%|███████▎  | 266/361 [10:26<03:51,  2.43s/it]\\r 74%|███████▍  | 267/361 [10:29<03:50,  2.45s/it]\\r 74%|███████▍  | 268/361 [10:31<03:48,  2.45s/it]\\r 75%|███████▍  | 269/361 [10:34<03:50,  2.51s/it]\\r 75%|███████▍  | 270/361 [10:36<03:44,  2.47s/it]\\r 75%|███████▌  | 271/361 [10:39<03:40,  2.45s/it]\\r 75%|███████▌  | 272/361 [10:41<03:36,  2.43s/it]\\r 76%|███████▌  | 273/361 [10:44<03:38,  2.48s/it]\\r 76%|███████▌  | 274/361 [10:46<03:40,  2.53s/it]\\r 76%|███████▌  | 275/361 [10:49<03:41,  2.58s/it]\\r 76%|███████▋  | 276/361 [10:52<03:42,  2.62s/it]\\r 77%|███████▋  | 277/361 [10:55<04:02,  2.89s/it]\\r 77%|███████▋  | 278/361 [11:00<04:57,  3.58s/it]\\r 77%|███████▋  | 279/361 [11:06<05:31,  4.04s/it]\\r 78%|███████▊  | 280/361 [11:09<05:24,  4.01s/it]\\r 78%|███████▊  | 281/361 [11:13<05:15,  3'},\n",
       " {'timestamp': '2021-07-16T09:53:11.352907064+00:00',\n",
       "  'message': '.94s/it]\\r 78%|███████▊  | 282/361 [11:17<04:58,  3.78s/it]\\r 78%|███████▊  | 283/361 [11:20<04:38,  3.56s/it]\\r 79%|███████▊  | 284/361 [11:23<04:38,  3.61s/it]\\r 79%|███████▉  | 285/361 [11:27<04:26,  3.51s/it]\\r 79%|███████▉  | 286/361 [11:30<04:15,  3.41s/it]\\r 80%|███████▉  | 287/361 [11:33<04:07,  3.35s/it]\\r 80%|███████▉  | 288/361 [11:37<04:08,  3.40s/it]\\r 80%|████████  | 289/361 [11:40<04:00,  3.34s/it]\\r 80%|████████  | 290/361 [11:43<03:57,  3.34s/it]\\r 81%|████████  | 291/361 [11:46<03:48,  3.27s/it]\\r 81%|████████  | 292/361 [11:49<03:41,  3.21s/it]\\r 81%|████████  | 293/361 [11:52<03:34,  3.16s/it]\\r 81%|████████▏ | 294/361 [11:55<03:29,  3.13s/it]\\r 82%|████████▏ | 295/361 [11:59<03:27,  3.15s/it]\\r 82%|████████▏ | 296/361 [12:02<03:30,  3.25s/it]\\r 82%|████████▏ | 297/361 [12:05<03:19,  3.12s/it]\\r 83%|████████▎ | 298/361 [12:08<03:09,  3.01s/it]\\r 83%|████████▎ | 299/361 [12:11<03:16,  3.17s/it]\\r 83%|████████▎ | 300/361 [12:15<03:16,  3.23s/it]\\r 83%|████████▎ | 301/361 [12:18<03:19,  3.33s/it]\\r 84%|████████▎ | 302/361 [12:21<03:16,  3.34s/it]\\r 84%|████████▍ | 303/361 [12:25<03:10,  3.29s/it]\\r 84%|████████▍ | 304/361 [12:28<03:07,  3.30s/it]\\r 84%|████████▍ | 305/361 [12:31<03:01,  3.23s/it]\\r 85%|████████▍ | 306/361 [12:34<02:51,  3.12s/it]\\r 85%|████████▌ | 307/361 [12:37<02:45,  3.06s/it]\\r 85%|████████▌ | 308/361 [12:40<02:40,  3.02s/it]\\r 86%|████████▌ | 309/361 [12:43<02:38,  3.05s/it]\\r 86%|████████▌ | 310/361 [12:46<02:36,  3.07s/it]\\r 86%|████████▌ | 311/361 [12:49<02:34,  3.10s/it]\\r 86%|████████▋ | 312/361 [12:52<02:34,  3.15s/it]\\r 87%|████████▋ | 313/361 [12:55<02:28,  3.09s/it]\\r 87%|████████▋ | 314/361 [12:58<02:24,  3.08s/it]\\r 87%|████████▋ | 315/361 [13:01<02:21,  3.08s/it]\\r 88%|████████▊ | 316/361 [13:05<02:20,  3.13s/it]\\r 88%|████████▊ | 317/361 [13:08<02:21,  3.22s/it]\\r 88%|████████▊ | 318/361 [13:12<02:21,  3.30s/it]\\r 88%|████████▊ | 319/361 [13:15<02:19,  3.32s/it]\\r 89%|████████▊ | 320/361 [13:18<02:11,  3.22s/it]\\r 89%|████████▉ | 321/361 [13:21<02:05,  3.14s/it]\\r 89%|████████▉ | 322/361 [13:24<02:02,  3.13s/it]\\r 89%|████████▉ | 323/361 [13:28<02:03,  3.24s/it]\\r 90%|████████▉ | 324/361 [13:31<02:01,  3.28s/it]\\r 90%|█████████ | 325/361 [13:34<01:55,  3.22s/it]\\r 90%|█████████ | 326/361 [13:38<01:57,  3.36s/it]\\r 91%|█████████ | 327/361 [13:41<01:48,  3.20s/it]\\r 91%|█████████ | 328/361 [13:43<01:41,  3.08s/it]\\r 91%|█████████ | 329/361 [13:47<01:43,  3.23s/it]\\r 91%|█████████▏| 330/361 [13:51<01:44,  3.37s/it]\\r 92%|█████████▏| 331/361 [13:54<01:40,  3.34s/it]\\r 92%|█████████▏| 332/361 [13:57<01:36,  3.32s/it]\\r 92%|█████████▏| 333/361 [14:00<01:30,  3.23s/it]\\r 93%|█████████▎| 334/361 [14:03<01:25,  3.15s/it]\\r 93%|█████████▎| 335/361 [14:06<01:18,  3.03s/it]\\r 93%|█████████▎| 336/361 [14:09<01:16,  3.04s/it]\\r 93%|█████████▎| 337/361 [14:12<01:14,  3.08s/it]\\r 94%|█████████▎| 338/361 [14:15<01:07,  2.96s/it]\\r 94%|█████████▍| 339/361 [14:19<01:11,  3.24s/it]\\r 94%|█████████▍| 340/361 [14:22<01:10,  3.34s/it]\\r 94%|█████████▍| 341/361 [14:26<01:08,  3.40s/it]\\r 95%|█████████▍| 342/361 [14:29<01:05,  3.47s/it]\\r 95%|█████████▌| 343/361 [14:33<01:02,  3.49s/it]\\r 95%|█████████▌| 344/361 [14:36<00:58,  3.46s/it]\\r 96%|█████████▌| 345/361 [14:39<00:52,  3.30s/it]\\r 96%|█████████▌| 346/361 [14:42<00:48,  3.26s/it]\\r 96%|█████████▌| 347/361 [14:45<00:44,  3.18s/it]\\r 96%|█████████▋| 348/361 [14:48<00:39,  3.02s/it]\\r 97%|█████████▋| 349/361 [14:51<00:34,  2.88s/it]\\r 97%|█████████▋| 350/361 [14:54<00:33,  3.01s/it]\\r 97%|█████████▋| 351/361 [14:59<00:36,  3.66s/it]\\r 98%|█████████▊| 352/361 [15:04<00:36,  4.01s/it]\\r 98%|█████████▊| 353/361 [15:09<00:33,  4.21s/it]\\r 98%|█████████▊| 354/361 [15:14<00:31,  4.55s/it]\\r 98%|█████████▊| 355/361 [15:19<00:28,  4.81s/it]\\r 99%|█████████▊| 356/361 [15:25<00:25,  5.02s/it]\\r 99%|█████████▉| 357/361 [15:30<00:20,  5.17s/it]\\r 99%|█████████▉| 358/361 [15:35<00:14,  4.99s/it]\\r 99%|█████████▉| 359/361 [15:39<00:09,  4.68s/it]\\r100%|█████████▉| 360/361 [15:43<00:04,  4.49s/it]\\r100%|██████████| 361/361 [15:47<00:00,  4.21s/it]\\r100%|██████████| 361/361 [15:47<00:00,  2.62s/it]\\n'},\n",
       " {'timestamp': '2021-07-16T09:57:46.190906345+00:00',\n",
       "  'message': '/usr/local/lib/python3.9/site-packages/rasterio/__init__.py:220: NotGeoreferencedWarning: Dataset has no geotransform, gcps, or rpcs. The identity matrix be returned.\\n'},\n",
       " {'timestamp': '2021-07-16T09:57:46.190934528+00:00',\n",
       "  'message': '  s = DatasetReader(path, driver=driver, sharing=sharing, **kwargs)\\n'},\n",
       " {'timestamp': '2021-07-16T09:57:46.754567539+00:00',\n",
       "  'message': 'Input image is splitted into 361 overlapping patches.\\n'},\n",
       " {'timestamp': '2021-07-16T09:57:47.262850953+00:00',\n",
       "  'message': '+ ls /home/worker/workDir/outDir/output\\n'},\n",
       " {'timestamp': '2021-07-16T09:57:47.276833980+00:00',\n",
       "  'message': 'VX020003ad.tif\\n'}]"
      ]
     },
     "execution_count": 110,
     "metadata": {},
     "output_type": "execute_result"
    }
   ],
   "source": [
    "response.json()"
   ]
  },
  {
   "cell_type": "markdown",
   "metadata": {},
   "source": [
    "And for the second job"
   ]
  },
  {
   "cell_type": "code",
   "execution_count": null,
   "metadata": {},
   "outputs": [],
   "source": [
    "response = requests.get(endpoint + '/jobs/' + job_id_2 + '/logs', auth=(user,api))\n",
    "response.status_code"
   ]
  },
  {
   "cell_type": "code",
   "execution_count": null,
   "metadata": {},
   "outputs": [],
   "source": [
    "response.json()"
   ]
  },
  {
   "cell_type": "markdown",
   "metadata": {},
   "source": [
    "#### 3.8 Get the list of the job's output files"
   ]
  },
  {
   "cell_type": "code",
   "execution_count": 25,
   "metadata": {},
   "outputs": [],
   "source": [
    "job_id_1='979'\n",
    "job_id_2='980'"
   ]
  },
  {
   "cell_type": "code",
   "execution_count": 26,
   "metadata": {},
   "outputs": [
    {
     "data": {
      "text/plain": [
       "200"
      ]
     },
     "execution_count": 26,
     "metadata": {},
     "output_type": "execute_result"
    }
   ],
   "source": [
    "response = requests.get(endpoint + '/jobs/' + job_id_1 + '/outputFiles?projection=detailedPlatformFile', auth=(user,api))\n",
    "response.status_code"
   ]
  },
  {
   "cell_type": "markdown",
   "metadata": {},
   "source": [
    "Get the URI of the product"
   ]
  },
  {
   "cell_type": "code",
   "execution_count": 27,
   "metadata": {},
   "outputs": [
    {
     "data": {
      "text/plain": [
       "{'_embedded': {'platformFiles': [{'owner': {'role': 'CONTENT_AUTHORITY',\n",
       "     'name': 'demo.jhub',\n",
       "     'id': 50,\n",
       "     '_links': {'self': {'href': 'https://vantage.earthi.world/secure/api/v2.0/users/50{?projection}',\n",
       "       'templated': True}}},\n",
       "    'restoId': '54ce3b04-5dc3-5e4d-9e5b-f9edaf2fb5dc',\n",
       "    'filename': '4f4b8e62-6377-4ffd-9304-5d510e545908/output/output.zip',\n",
       "    'metadata': {'type': 'Feature',\n",
       "     'properties': {'collection': 'eovepOutputs',\n",
       "      'license': {'licenseId': 'unlicensed',\n",
       "       'hasToBeSigned': 'never',\n",
       "       'grantedCountries': None,\n",
       "       'grantedOrganizationCountries': None,\n",
       "       'grantedFlags': None,\n",
       "       'viewService': 'public',\n",
       "       'signatureQuota': -1,\n",
       "       'description': {'shortName': 'No license'}},\n",
       "      'productIdentifier': '4f4b8e62-6377-4ffd-9304-5d510e545908_output/output.zip',\n",
       "      'parentIdentifier': None,\n",
       "      'title': '4f4b8e62-6377-4ffd-9304-5d510e545908_output/output.zip',\n",
       "      'description': None,\n",
       "      'organisationName': None,\n",
       "      'startDate': 'Z',\n",
       "      'completionDate': 'Z',\n",
       "      'productType': None,\n",
       "      'processingLevel': None,\n",
       "      'platform': None,\n",
       "      'instrument': None,\n",
       "      'resolution': 0,\n",
       "      'sensorMode': None,\n",
       "      'orbitNumber': 0,\n",
       "      'quicklook': None,\n",
       "      'thumbnail': None,\n",
       "      'updated': '2021-07-19T08:41:00.284291Z',\n",
       "      'published': '2021-07-19T08:41:00.284291Z',\n",
       "      'snowCover': 0,\n",
       "      'cloudCover': 0,\n",
       "      'keywords': [],\n",
       "      'centroid': {'type': 'Point', 'coordinates': [0, 0]},\n",
       "      'platformFileType': 'OUTPUT_PRODUCT',\n",
       "      'services': {'download': {'url': 'http://eovep-resto/resto/collections/eovepOutputs/54ce3b04-5dc3-5e4d-9e5b-f9edaf2fb5dc/download',\n",
       "        'mimeType': 'application/unknown',\n",
       "        'size': 726996,\n",
       "        'checksum': 'sha256=93218afd535741b627e22b0816569a869aa83e931653fbd99e84141656bb1391'}},\n",
       "      'links': [{'rel': 'self',\n",
       "        'type': 'application/json',\n",
       "        'title': 'GeoJSON link for 54ce3b04-5dc3-5e4d-9e5b-f9edaf2fb5dc',\n",
       "        'href': 'http://eovep-resto/resto/collections/eovepOutputs/54ce3b04-5dc3-5e4d-9e5b-f9edaf2fb5dc.json?&lang=en'}]},\n",
       "     'geometry': {'type': 'Point', 'coordinates': [0.0, 0.0]},\n",
       "     'id': '54ce3b04-5dc3-5e4d-9e5b-f9edaf2fb5dc'},\n",
       "    'uri': 'eovep://outputProduct/4f4b8e62-6377-4ffd-9304-5d510e545908/output/output.zip',\n",
       "    'access': {'published': False,\n",
       "     'publishRequested': False,\n",
       "     'currentLevel': 'SUPERUSER'},\n",
       "    'type': 'OUTPUT_PRODUCT',\n",
       "    'id': 2498,\n",
       "    '_links': {'self': {'href': 'https://vantage.earthi.world/secure/api/v2.0/platformFiles/2498'},\n",
       "     'file': {'href': 'https://vantage.earthi.world/secure/api/v2.0/platformFiles/2498{?projection}',\n",
       "      'templated': True},\n",
       "     'download': {'href': 'https://vantage.earthi.world/secure/api/v2.0/platformFiles/2498/dl'},\n",
       "     'platform': {'href': 'eovep://outputProduct/4f4b8e62-6377-4ffd-9304-5d510e545908/output/output.zip'},\n",
       "     'owner': {'href': 'https://vantage.earthi.world/secure/api/v2.0/platformFiles/2498/owner'},\n",
       "     'jobs': {'href': 'https://vantage.earthi.world/secure/api/v2.0/platformFiles/2498/jobs'},\n",
       "     'collection': {'href': 'https://vantage.earthi.world/secure/api/v2.0/platformFiles/2498/collection'}}}]},\n",
       " '_links': {'self': {'href': 'https://vantage.earthi.world/secure/api/v2.0/jobs/979/outputFiles?projection=detailedPlatformFile'}}}"
      ]
     },
     "execution_count": 27,
     "metadata": {},
     "output_type": "execute_result"
    }
   ],
   "source": [
    "response.json()"
   ]
  },
  {
   "cell_type": "markdown",
   "metadata": {},
   "source": [
    "URI Job1 : eovep://outputProduct/4f4b8e62-6377-4ffd-9304-5d510e545908/output/output.zip"
   ]
  },
  {
   "cell_type": "markdown",
   "metadata": {},
   "source": [
    "And for the second job"
   ]
  },
  {
   "cell_type": "code",
   "execution_count": 30,
   "metadata": {},
   "outputs": [
    {
     "data": {
      "text/plain": [
       "200"
      ]
     },
     "execution_count": 30,
     "metadata": {},
     "output_type": "execute_result"
    }
   ],
   "source": [
    "response = requests.get(endpoint + '/jobs/' + job_id_2 + '/outputFiles?projection=detailedPlatformFile', auth=(user,api))\n",
    "response.status_code"
   ]
  },
  {
   "cell_type": "code",
   "execution_count": 31,
   "metadata": {},
   "outputs": [
    {
     "data": {
      "text/plain": [
       "{'_embedded': {'platformFiles': [{'owner': {'role': 'CONTENT_AUTHORITY',\n",
       "     'name': 'demo.jhub',\n",
       "     'id': 50,\n",
       "     '_links': {'self': {'href': 'https://vantage.earthi.world/secure/api/v2.0/users/50{?projection}',\n",
       "       'templated': True}}},\n",
       "    'restoId': '2f993756-5e09-5bf0-a731-49f12eff4735',\n",
       "    'filename': '5f2fd9cb-a034-46a8-816d-501388f0177c/output/output.zip',\n",
       "    'metadata': {'type': 'Feature',\n",
       "     'properties': {'collection': 'eovepOutputs',\n",
       "      'license': {'licenseId': 'unlicensed',\n",
       "       'hasToBeSigned': 'never',\n",
       "       'grantedCountries': None,\n",
       "       'grantedOrganizationCountries': None,\n",
       "       'grantedFlags': None,\n",
       "       'viewService': 'public',\n",
       "       'signatureQuota': -1,\n",
       "       'description': {'shortName': 'No license'}},\n",
       "      'productIdentifier': '5f2fd9cb-a034-46a8-816d-501388f0177c_output/output.zip',\n",
       "      'parentIdentifier': None,\n",
       "      'title': '5f2fd9cb-a034-46a8-816d-501388f0177c_output/output.zip',\n",
       "      'description': None,\n",
       "      'organisationName': None,\n",
       "      'startDate': 'Z',\n",
       "      'completionDate': 'Z',\n",
       "      'productType': None,\n",
       "      'processingLevel': None,\n",
       "      'platform': None,\n",
       "      'instrument': None,\n",
       "      'resolution': 0,\n",
       "      'sensorMode': None,\n",
       "      'orbitNumber': 0,\n",
       "      'quicklook': None,\n",
       "      'thumbnail': None,\n",
       "      'updated': '2021-07-19T08:42:13.734746Z',\n",
       "      'published': '2021-07-19T08:42:13.734746Z',\n",
       "      'snowCover': 0,\n",
       "      'cloudCover': 0,\n",
       "      'keywords': [],\n",
       "      'centroid': {'type': 'Point', 'coordinates': [0, 0]},\n",
       "      'platformFileType': 'OUTPUT_PRODUCT',\n",
       "      'services': {'download': {'url': 'http://eovep-resto/resto/collections/eovepOutputs/2f993756-5e09-5bf0-a731-49f12eff4735/download',\n",
       "        'mimeType': 'application/unknown',\n",
       "        'size': 824341,\n",
       "        'checksum': 'sha256=72922560f649c16df23b63cb41f7f5f18ba752bd024fd1b561173dca396f86ac'}},\n",
       "      'links': [{'rel': 'self',\n",
       "        'type': 'application/json',\n",
       "        'title': 'GeoJSON link for 2f993756-5e09-5bf0-a731-49f12eff4735',\n",
       "        'href': 'http://eovep-resto/resto/collections/eovepOutputs/2f993756-5e09-5bf0-a731-49f12eff4735.json?&lang=en'}]},\n",
       "     'geometry': {'type': 'Point', 'coordinates': [0.0, 0.0]},\n",
       "     'id': '2f993756-5e09-5bf0-a731-49f12eff4735'},\n",
       "    'uri': 'eovep://outputProduct/5f2fd9cb-a034-46a8-816d-501388f0177c/output/output.zip',\n",
       "    'access': {'published': False,\n",
       "     'publishRequested': False,\n",
       "     'currentLevel': 'SUPERUSER'},\n",
       "    'type': 'OUTPUT_PRODUCT',\n",
       "    'id': 2499,\n",
       "    '_links': {'self': {'href': 'https://vantage.earthi.world/secure/api/v2.0/platformFiles/2499'},\n",
       "     'file': {'href': 'https://vantage.earthi.world/secure/api/v2.0/platformFiles/2499{?projection}',\n",
       "      'templated': True},\n",
       "     'download': {'href': 'https://vantage.earthi.world/secure/api/v2.0/platformFiles/2499/dl'},\n",
       "     'platform': {'href': 'eovep://outputProduct/5f2fd9cb-a034-46a8-816d-501388f0177c/output/output.zip'},\n",
       "     'owner': {'href': 'https://vantage.earthi.world/secure/api/v2.0/platformFiles/2499/owner'},\n",
       "     'jobs': {'href': 'https://vantage.earthi.world/secure/api/v2.0/platformFiles/2499/jobs'},\n",
       "     'collection': {'href': 'https://vantage.earthi.world/secure/api/v2.0/platformFiles/2499/collection'}}}]},\n",
       " '_links': {'self': {'href': 'https://vantage.earthi.world/secure/api/v2.0/jobs/980/outputFiles?projection=detailedPlatformFile'}}}"
      ]
     },
     "execution_count": 31,
     "metadata": {},
     "output_type": "execute_result"
    }
   ],
   "source": [
    "response.json()"
   ]
  },
  {
   "cell_type": "markdown",
   "metadata": {},
   "source": [
    "URI Job2 : eovep://outputProduct/5f2fd9cb-a034-46a8-816d-501388f0177c/output/output.zip"
   ]
  },
  {
   "cell_type": "markdown",
   "metadata": {},
   "source": [
    "#### 3.9 Show the details of one product"
   ]
  },
  {
   "cell_type": "code",
   "execution_count": 32,
   "metadata": {},
   "outputs": [],
   "source": [
    "job_id_1='979'\n",
    "job_id_2='980'\n",
    "out_1='2498'\n",
    "out_2='2499'"
   ]
  },
  {
   "cell_type": "code",
   "execution_count": 33,
   "metadata": {},
   "outputs": [
    {
     "data": {
      "text/plain": [
       "200"
      ]
     },
     "execution_count": 33,
     "metadata": {},
     "output_type": "execute_result"
    }
   ],
   "source": [
    "response = requests.get(endpoint + '/jobs/' + job_id_1 + '/outputFiles/' + out_1, auth=(user,api))\n",
    "response.status_code"
   ]
  },
  {
   "cell_type": "code",
   "execution_count": 34,
   "metadata": {},
   "outputs": [
    {
     "data": {
      "text/plain": [
       "{'owner': {'role': 'CONTENT_AUTHORITY',\n",
       "  'name': 'demo.jhub',\n",
       "  'id': 50,\n",
       "  '_links': {'self': {'href': 'https://vantage.earthi.world/secure/api/v2.0/users/50{?projection}',\n",
       "    'templated': True}}},\n",
       " 'restoId': '54ce3b04-5dc3-5e4d-9e5b-f9edaf2fb5dc',\n",
       " 'filename': '4f4b8e62-6377-4ffd-9304-5d510e545908/output/output.zip',\n",
       " 'access': {'published': False,\n",
       "  'publishRequested': False,\n",
       "  'currentLevel': 'SUPERUSER'},\n",
       " 'type': 'OUTPUT_PRODUCT',\n",
       " 'id': 2498,\n",
       " '_links': {'self': {'href': 'https://vantage.earthi.world/secure/api/v2.0/platformFiles/2498'},\n",
       "  'file': {'href': 'https://vantage.earthi.world/secure/api/v2.0/platformFiles/2498{?projection}',\n",
       "   'templated': True},\n",
       "  'download': {'href': 'https://vantage.earthi.world/secure/api/v2.0/platformFiles/2498/dl'},\n",
       "  'owner': {'href': 'https://vantage.earthi.world/secure/api/v2.0/platformFiles/2498/owner'},\n",
       "  'jobs': {'href': 'https://vantage.earthi.world/secure/api/v2.0/platformFiles/2498/jobs'},\n",
       "  'collection': {'href': 'https://vantage.earthi.world/secure/api/v2.0/platformFiles/2498/collection'}}}"
      ]
     },
     "execution_count": 34,
     "metadata": {},
     "output_type": "execute_result"
    }
   ],
   "source": [
    "response.json()"
   ]
  },
  {
   "cell_type": "markdown",
   "metadata": {},
   "source": [
    "And for the second output"
   ]
  },
  {
   "cell_type": "code",
   "execution_count": 35,
   "metadata": {},
   "outputs": [
    {
     "data": {
      "text/plain": [
       "200"
      ]
     },
     "execution_count": 35,
     "metadata": {},
     "output_type": "execute_result"
    }
   ],
   "source": [
    "response = requests.get(endpoint + '/jobs/' + job_id_2 + '/outputFiles/' + out_2, auth=(user,api))\n",
    "response.status_code"
   ]
  },
  {
   "cell_type": "code",
   "execution_count": 36,
   "metadata": {},
   "outputs": [
    {
     "data": {
      "text/plain": [
       "{'owner': {'role': 'CONTENT_AUTHORITY',\n",
       "  'name': 'demo.jhub',\n",
       "  'id': 50,\n",
       "  '_links': {'self': {'href': 'https://vantage.earthi.world/secure/api/v2.0/users/50{?projection}',\n",
       "    'templated': True}}},\n",
       " 'restoId': '2f993756-5e09-5bf0-a731-49f12eff4735',\n",
       " 'filename': '5f2fd9cb-a034-46a8-816d-501388f0177c/output/output.zip',\n",
       " 'access': {'published': False,\n",
       "  'publishRequested': False,\n",
       "  'currentLevel': 'SUPERUSER'},\n",
       " 'type': 'OUTPUT_PRODUCT',\n",
       " 'id': 2499,\n",
       " '_links': {'self': {'href': 'https://vantage.earthi.world/secure/api/v2.0/platformFiles/2499'},\n",
       "  'file': {'href': 'https://vantage.earthi.world/secure/api/v2.0/platformFiles/2499{?projection}',\n",
       "   'templated': True},\n",
       "  'download': {'href': 'https://vantage.earthi.world/secure/api/v2.0/platformFiles/2499/dl'},\n",
       "  'owner': {'href': 'https://vantage.earthi.world/secure/api/v2.0/platformFiles/2499/owner'},\n",
       "  'jobs': {'href': 'https://vantage.earthi.world/secure/api/v2.0/platformFiles/2499/jobs'},\n",
       "  'collection': {'href': 'https://vantage.earthi.world/secure/api/v2.0/platformFiles/2499/collection'}}}"
      ]
     },
     "execution_count": 36,
     "metadata": {},
     "output_type": "execute_result"
    }
   ],
   "source": [
    "response.json()"
   ]
  },
  {
   "cell_type": "markdown",
   "metadata": {},
   "source": [
    "## 4. Run the second service using the output files of the previous jobs"
   ]
  },
  {
   "cell_type": "markdown",
   "metadata": {},
   "source": [
    "#### 4.1 Get the second service information"
   ]
  },
  {
   "cell_type": "code",
   "execution_count": 119,
   "metadata": {},
   "outputs": [
    {
     "data": {
      "text/plain": [
       "200"
      ]
     },
     "execution_count": 119,
     "metadata": {},
     "output_type": "execute_result"
    }
   ],
   "source": [
    "query = { 'sort':'type,name','filter':'symmetric'}\n",
    "response = requests.get(endpoint + '/services/search/findByFilterOnly', auth=(user,api), params=(query))\n",
    "response.status_code"
   ]
  },
  {
   "cell_type": "code",
   "execution_count": 120,
   "metadata": {},
   "outputs": [
    {
     "name": "stdout",
     "output_type": "stream",
     "text": [
      "Name: SymmetricDifference\n",
      "Description: Calculates the difference (change) between two (georeferenced) binary masks (values 0,1)\n",
      "ID: 21\n",
      "\n"
     ]
    }
   ],
   "source": [
    "json_data = json.loads(response.text)\n",
    "for service in json_data['_embedded']['services']:\n",
    "    print(\"Name: {0}\\nDescription: {1}\\nID: {2}\\n\".format(service['name'], service['description'], service['id']))"
   ]
  },
  {
   "cell_type": "code",
   "execution_count": 37,
   "metadata": {},
   "outputs": [],
   "source": [
    "service_id='21'"
   ]
  },
  {
   "cell_type": "code",
   "execution_count": 38,
   "metadata": {},
   "outputs": [
    {
     "data": {
      "text/plain": [
       "200"
      ]
     },
     "execution_count": 38,
     "metadata": {},
     "output_type": "execute_result"
    }
   ],
   "source": [
    "response = requests.get(endpoint + '/services/' + service_id, auth=(user,api))\n",
    "response.status_code"
   ]
  },
  {
   "cell_type": "code",
   "execution_count": 39,
   "metadata": {},
   "outputs": [
    {
     "data": {
      "text/plain": [
       "{'id': 21,\n",
       " 'name': 'SymmetricDifference',\n",
       " 'description': 'Calculates the difference (change) between two (georeferenced) binary masks (values 0,1)',\n",
       " 'type': 'PROCESSOR',\n",
       " 'dockerTag': 'eovep/symmetricdifference',\n",
       " 'stripProxyPath': True,\n",
       " 'licence': 'OPEN',\n",
       " 'status': 'AVAILABLE',\n",
       " 'serviceDescriptor': {'id': 'SymmetricDifference',\n",
       "  'title': 'SymmetricDifference',\n",
       "  'description': 'Calculates the difference (change) between two (georeferenced) binary masks (values 0,1)',\n",
       "  'version': '0.1',\n",
       "  'storeSupported': False,\n",
       "  'statusSupported': False,\n",
       "  'serviceType': 'Java',\n",
       "  'serviceProvider': 'SymmetricDifference',\n",
       "  'dataInputs': [{'id': 'ref_mask_path',\n",
       "    'title': 'ref_mask_path',\n",
       "    'description': 'Reference binary mask (geoTiff)',\n",
       "    'minOccurs': 0,\n",
       "    'maxOccurs': 0,\n",
       "    'data': 'LITERAL',\n",
       "    'defaultAttrs': {'dataType': 'string'},\n",
       "    'supportedAttrs': None},\n",
       "   {'id': 'target_mask_path',\n",
       "    'title': 'target_mask_path',\n",
       "    'description': 'Target binary mask (geoTiff)',\n",
       "    'minOccurs': 0,\n",
       "    'maxOccurs': 0,\n",
       "    'data': 'LITERAL',\n",
       "    'defaultAttrs': {'dataType': 'string'},\n",
       "    'supportedAttrs': None}],\n",
       "  'dataOutputs': [{'id': 'output',\n",
       "    'title': 'output',\n",
       "    'description': 'Output files (negative/positive changes)',\n",
       "    'minOccurs': 0,\n",
       "    'maxOccurs': 0,\n",
       "    'data': 'LITERAL',\n",
       "    'defaultAttrs': {'dataType': 'string'},\n",
       "    'supportedAttrs': None,\n",
       "    'platformMetadata': {'format': 'OTHER'}}],\n",
       "  'metadata': None},\n",
       " 'serviceFilesUri': None,\n",
       " 'additionalMounts': {},\n",
       " 'dockerBuildInfo': {'lastBuiltFingerprint': 'a07a2a40c02e7f72f4ad691c8519a80c',\n",
       "  'errorMessage': '',\n",
       "  'dockerBuildStatus': 'COMPLETED'},\n",
       " 'requiredResources': None,\n",
       " 'externalServiceUri': None,\n",
       " 'port': '8080/tcp',\n",
       " 'dataSourceName': 'PLATFORM_SERVICE_SymmetricDifference',\n",
       " '_embedded': {'owner': {'role': 'ADMIN',\n",
       "   'name': 'xenofon.karagiannis',\n",
       "   'id': 24,\n",
       "   '_links': {'self': {'href': 'https://vantage.earthi.world/secure/api/v2.0/users/24{?projection}',\n",
       "     'templated': True}}},\n",
       "  'contextFiles': [{'service': {'owner': {'role': 'ADMIN',\n",
       "      'name': 'xenofon.karagiannis',\n",
       "      'id': 24,\n",
       "      '_links': {'self': {'href': 'https://vantage.earthi.world/secure/api/v2.0/users/24{?projection}',\n",
       "        'templated': True}}},\n",
       "     'description': 'Calculates the difference (change) between two (georeferenced) binary masks (values 0,1)',\n",
       "     'status': 'AVAILABLE',\n",
       "     'costingExpression': {'type': None,\n",
       "      'associatedId': None,\n",
       "      'costExpression': '1',\n",
       "      'estimatedCostExpression': None},\n",
       "     'dockerTag': 'eovep/symmetricdifference',\n",
       "     'access': {'published': True,\n",
       "      'publishRequested': False,\n",
       "      'currentLevel': 'SUPERUSER'},\n",
       "     'licence': 'OPEN',\n",
       "     'name': 'SymmetricDifference',\n",
       "     'type': 'PROCESSOR',\n",
       "     'id': 21,\n",
       "     '_links': {'self': {'href': 'https://vantage.earthi.world/secure/api/v2.0/services/21{?projection}',\n",
       "       'templated': True},\n",
       "      'owner': {'href': 'https://vantage.earthi.world/secure/api/v2.0/services/21/owner'},\n",
       "      'contextFiles': {'href': 'https://vantage.earthi.world/secure/api/v2.0/services/21/contextFiles'}}},\n",
       "    'filename': 'symmetric_difference.py',\n",
       "    'executable': False,\n",
       "    'id': 88,\n",
       "    '_links': {'self': {'href': 'https://vantage.earthi.world/secure/api/v2.0/serviceFiles/88{?projection}',\n",
       "      'templated': True},\n",
       "     'service': {'href': 'https://vantage.earthi.world/secure/api/v2.0/serviceFiles/88/service'}}},\n",
       "   {'service': {'owner': {'role': 'ADMIN',\n",
       "      'name': 'xenofon.karagiannis',\n",
       "      'id': 24,\n",
       "      '_links': {'self': {'href': 'https://vantage.earthi.world/secure/api/v2.0/users/24{?projection}',\n",
       "        'templated': True}}},\n",
       "     'description': 'Calculates the difference (change) between two (georeferenced) binary masks (values 0,1)',\n",
       "     'status': 'AVAILABLE',\n",
       "     'costingExpression': {'type': None,\n",
       "      'associatedId': None,\n",
       "      'costExpression': '1',\n",
       "      'estimatedCostExpression': None},\n",
       "     'dockerTag': 'eovep/symmetricdifference',\n",
       "     'access': {'published': True,\n",
       "      'publishRequested': False,\n",
       "      'currentLevel': 'SUPERUSER'},\n",
       "     'licence': 'OPEN',\n",
       "     'name': 'SymmetricDifference',\n",
       "     'type': 'PROCESSOR',\n",
       "     'id': 21,\n",
       "     '_links': {'self': {'href': 'https://vantage.earthi.world/secure/api/v2.0/services/21{?projection}',\n",
       "       'templated': True},\n",
       "      'owner': {'href': 'https://vantage.earthi.world/secure/api/v2.0/services/21/owner'},\n",
       "      'contextFiles': {'href': 'https://vantage.earthi.world/secure/api/v2.0/services/21/contextFiles'}}},\n",
       "    'filename': 'Dockerfile',\n",
       "    'executable': False,\n",
       "    'id': 85,\n",
       "    '_links': {'self': {'href': 'https://vantage.earthi.world/secure/api/v2.0/serviceFiles/85{?projection}',\n",
       "      'templated': True},\n",
       "     'service': {'href': 'https://vantage.earthi.world/secure/api/v2.0/serviceFiles/85/service'}}},\n",
       "   {'service': {'owner': {'role': 'ADMIN',\n",
       "      'name': 'xenofon.karagiannis',\n",
       "      'id': 24,\n",
       "      '_links': {'self': {'href': 'https://vantage.earthi.world/secure/api/v2.0/users/24{?projection}',\n",
       "        'templated': True}}},\n",
       "     'description': 'Calculates the difference (change) between two (georeferenced) binary masks (values 0,1)',\n",
       "     'status': 'AVAILABLE',\n",
       "     'costingExpression': {'type': None,\n",
       "      'associatedId': None,\n",
       "      'costExpression': '1',\n",
       "      'estimatedCostExpression': None},\n",
       "     'dockerTag': 'eovep/symmetricdifference',\n",
       "     'access': {'published': True,\n",
       "      'publishRequested': False,\n",
       "      'currentLevel': 'SUPERUSER'},\n",
       "     'licence': 'OPEN',\n",
       "     'name': 'SymmetricDifference',\n",
       "     'type': 'PROCESSOR',\n",
       "     'id': 21,\n",
       "     '_links': {'self': {'href': 'https://vantage.earthi.world/secure/api/v2.0/services/21{?projection}',\n",
       "       'templated': True},\n",
       "      'owner': {'href': 'https://vantage.earthi.world/secure/api/v2.0/services/21/owner'},\n",
       "      'contextFiles': {'href': 'https://vantage.earthi.world/secure/api/v2.0/services/21/contextFiles'}}},\n",
       "    'filename': 'workflow.sh',\n",
       "    'executable': True,\n",
       "    'id': 89,\n",
       "    '_links': {'self': {'href': 'https://vantage.earthi.world/secure/api/v2.0/serviceFiles/89{?projection}',\n",
       "      'templated': True},\n",
       "     'service': {'href': 'https://vantage.earthi.world/secure/api/v2.0/serviceFiles/89/service'}}},\n",
       "   {'service': {'owner': {'role': 'ADMIN',\n",
       "      'name': 'xenofon.karagiannis',\n",
       "      'id': 24,\n",
       "      '_links': {'self': {'href': 'https://vantage.earthi.world/secure/api/v2.0/users/24{?projection}',\n",
       "        'templated': True}}},\n",
       "     'description': 'Calculates the difference (change) between two (georeferenced) binary masks (values 0,1)',\n",
       "     'status': 'AVAILABLE',\n",
       "     'costingExpression': {'type': None,\n",
       "      'associatedId': None,\n",
       "      'costExpression': '1',\n",
       "      'estimatedCostExpression': None},\n",
       "     'dockerTag': 'eovep/symmetricdifference',\n",
       "     'access': {'published': True,\n",
       "      'publishRequested': False,\n",
       "      'currentLevel': 'SUPERUSER'},\n",
       "     'licence': 'OPEN',\n",
       "     'name': 'SymmetricDifference',\n",
       "     'type': 'PROCESSOR',\n",
       "     'id': 21,\n",
       "     '_links': {'self': {'href': 'https://vantage.earthi.world/secure/api/v2.0/services/21{?projection}',\n",
       "       'templated': True},\n",
       "      'owner': {'href': 'https://vantage.earthi.world/secure/api/v2.0/services/21/owner'},\n",
       "      'contextFiles': {'href': 'https://vantage.earthi.world/secure/api/v2.0/services/21/contextFiles'}}},\n",
       "    'filename': 'requirements.txt',\n",
       "    'executable': False,\n",
       "    'id': 86,\n",
       "    '_links': {'self': {'href': 'https://vantage.earthi.world/secure/api/v2.0/serviceFiles/86{?projection}',\n",
       "      'templated': True},\n",
       "     'service': {'href': 'https://vantage.earthi.world/secure/api/v2.0/serviceFiles/86/service'}}}]},\n",
       " '_links': {'self': {'href': 'https://vantage.earthi.world/secure/api/v2.0/services/21'},\n",
       "  'service': {'href': 'https://vantage.earthi.world/secure/api/v2.0/services/21{?projection}',\n",
       "   'templated': True},\n",
       "  'owner': {'href': 'https://vantage.earthi.world/secure/api/v2.0/services/21/owner'},\n",
       "  'contextFiles': {'href': 'https://vantage.earthi.world/secure/api/v2.0/services/21/contextFiles'}}}"
      ]
     },
     "execution_count": 39,
     "metadata": {},
     "output_type": "execute_result"
    }
   ],
   "source": [
    "response.json()"
   ]
  },
  {
   "cell_type": "markdown",
   "metadata": {},
   "source": [
    "#### 4.2 Prepare the second service"
   ]
  },
  {
   "cell_type": "markdown",
   "metadata": {},
   "source": [
    "URI output file of first job:\n",
    "eovep://outputProduct/4f4b8e62-6377-4ffd-9304-5d510e545908/output/output.zip\n",
    "\n",
    "URI output file of second job:\n",
    "eovep://outputProduct/5f2fd9cb-a034-46a8-816d-501388f0177c/output/output.zip"
   ]
  },
  {
   "cell_type": "code",
   "execution_count": 40,
   "metadata": {},
   "outputs": [
    {
     "data": {
      "text/plain": [
       "201"
      ]
     },
     "execution_count": 40,
     "metadata": {},
     "output_type": "execute_result"
    }
   ],
   "source": [
    "headers={'Accept':'application/hal+json', 'Content-Type':'application/hal+json'}\n",
    "raw_data='{\"service\":\"https://vantage.earthi.world/secure/api/v2.0/services/21\",\"inputs\":{\"ref_mask_path\":[\"eovep://outputProduct/4f4b8e62-6377-4ffd-9304-5d510e545908/output/output.zip\"],\"target_mask_path\":[\"eovep://outputProduct/5f2fd9cb-a034-46a8-816d-501388f0177c/output/output.zip\"]},\"label\":\"SymmetricDifferenceWorkflow\",\"parent\":null}'\n",
    "# Comment the following to avoid launching a job \n",
    "response = requests.post(endpoint + '/jobConfigs/', auth=(user,api), data=raw_data,headers=headers)\n",
    "response.status_code\n",
    "\n"
   ]
  },
  {
   "cell_type": "code",
   "execution_count": 41,
   "metadata": {},
   "outputs": [
    {
     "data": {
      "text/plain": [
       "{'id': 527,\n",
       " 'inputs': {'ref_mask_path': ['eovep://outputProduct/4f4b8e62-6377-4ffd-9304-5d510e545908/output/output.zip'],\n",
       "  'target_mask_path': ['eovep://outputProduct/5f2fd9cb-a034-46a8-816d-501388f0177c/output/output.zip']},\n",
       " 'label': 'SymmetricDifferenceWorkflow',\n",
       " 'systematicParameter': None,\n",
       " 'tileBasedJobOrdering': None,\n",
       " '_embedded': {'owner': {'role': 'CONTENT_AUTHORITY',\n",
       "   'name': 'demo.jhub',\n",
       "   'id': 50,\n",
       "   '_links': {'self': {'href': 'https://vantage.earthi.world/secure/api/v2.0/users/50{?projection}',\n",
       "     'templated': True}}},\n",
       "  'service': {'owner': {'role': 'ADMIN',\n",
       "    'name': 'xenofon.karagiannis',\n",
       "    'id': 24,\n",
       "    '_links': {'self': {'href': 'https://vantage.earthi.world/secure/api/v2.0/users/24{?projection}',\n",
       "      'templated': True}}},\n",
       "   'description': 'Calculates the difference (change) between two (georeferenced) binary masks (values 0,1)',\n",
       "   'status': 'AVAILABLE',\n",
       "   'costingExpression': {'type': None,\n",
       "    'associatedId': None,\n",
       "    'costExpression': '1',\n",
       "    'estimatedCostExpression': None},\n",
       "   'dockerTag': 'eovep/symmetricdifference',\n",
       "   'access': {'published': True,\n",
       "    'publishRequested': False,\n",
       "    'currentLevel': 'SUPERUSER'},\n",
       "   'licence': 'OPEN',\n",
       "   'name': 'SymmetricDifference',\n",
       "   'type': 'PROCESSOR',\n",
       "   'id': 21,\n",
       "   '_links': {'self': {'href': 'https://vantage.earthi.world/secure/api/v2.0/services/21{?projection}',\n",
       "     'templated': True},\n",
       "    'owner': {'href': 'https://vantage.earthi.world/secure/api/v2.0/services/21/owner'},\n",
       "    'contextFiles': {'href': 'https://vantage.earthi.world/secure/api/v2.0/services/21/contextFiles'}}}},\n",
       " '_links': {'self': {'href': 'https://vantage.earthi.world/secure/api/v2.0/jobConfigs/527'},\n",
       "  'jobConfig': {'href': 'https://vantage.earthi.world/secure/api/v2.0/jobConfigs/527'},\n",
       "  'service': {'href': 'https://vantage.earthi.world/secure/api/v2.0/jobConfigs/527/service'},\n",
       "  'owner': {'href': 'https://vantage.earthi.world/secure/api/v2.0/jobConfigs/527/owner'},\n",
       "  'parent': {'href': 'https://vantage.earthi.world/secure/api/v2.0/jobConfigs/527/parent'}}}"
      ]
     },
     "execution_count": 41,
     "metadata": {},
     "output_type": "execute_result"
    }
   ],
   "source": [
    "response.json()"
   ]
  },
  {
   "cell_type": "markdown",
   "metadata": {},
   "source": [
    "Get the job's configuration ID"
   ]
  },
  {
   "cell_type": "markdown",
   "metadata": {},
   "source": [
    "#### 4.3 Get the estimated cost for the job"
   ]
  },
  {
   "cell_type": "code",
   "execution_count": 124,
   "metadata": {},
   "outputs": [],
   "source": [
    "config_id = '520'"
   ]
  },
  {
   "cell_type": "code",
   "execution_count": 125,
   "metadata": {},
   "outputs": [
    {
     "data": {
      "text/plain": [
       "200"
      ]
     },
     "execution_count": 125,
     "metadata": {},
     "output_type": "execute_result"
    }
   ],
   "source": [
    "response = requests.get(endpoint + '/estimateCost' + '/jobConfig/' + config_id, auth=(user,api))\n",
    "response.status_code"
   ]
  },
  {
   "cell_type": "code",
   "execution_count": 126,
   "metadata": {},
   "outputs": [
    {
     "data": {
      "text/plain": [
       "{'estimatedCost': 1, 'recurrence': 'HOURLY', 'currentWalletBalance': 18}"
      ]
     },
     "execution_count": 126,
     "metadata": {},
     "output_type": "execute_result"
    }
   ],
   "source": [
    "response.json()"
   ]
  },
  {
   "cell_type": "markdown",
   "metadata": {},
   "source": [
    "#### 4.4 Launch the job"
   ]
  },
  {
   "cell_type": "markdown",
   "metadata": {},
   "source": [
    "There is one job completed on the platform already which can be taken as an example\n",
    "\n",
    "JOB: 966"
   ]
  },
  {
   "cell_type": "code",
   "execution_count": 42,
   "metadata": {},
   "outputs": [],
   "source": [
    "config_id = '527'"
   ]
  },
  {
   "cell_type": "code",
   "execution_count": 43,
   "metadata": {},
   "outputs": [
    {
     "data": {
      "text/plain": [
       "202"
      ]
     },
     "execution_count": 43,
     "metadata": {},
     "output_type": "execute_result"
    }
   ],
   "source": [
    "# Commented to avoid launching a job \n",
    "response = requests.post(endpoint + '/jobConfigs/' + config_id + '/launch', auth=(user,api))\n",
    "response.status_code"
   ]
  },
  {
   "cell_type": "code",
   "execution_count": 44,
   "metadata": {},
   "outputs": [
    {
     "data": {
      "text/plain": [
       "{'content': {'id': 982,\n",
       "  'extId': '74f3eff7-1c4c-41da-af71-ff1255b21650',\n",
       "  'startTime': None,\n",
       "  'endTime': None,\n",
       "  'status': 'PENDING',\n",
       "  'phase': 'CREATED',\n",
       "  'workerId': None,\n",
       "  'stage': None,\n",
       "  'guiUrl': None,\n",
       "  'guiEndpoint': None,\n",
       "  'queuePosition': -1,\n",
       "  'outputs': None,\n",
       "  'parent': False,\n",
       "  'costQuotation': {'cost': 1, 'recurrence': 'HOURLY'},\n",
       "  'inputTile': None,\n",
       "  'inputDate': None},\n",
       " '_links': {'self': {'href': 'https://vantage.earthi.world/secure/api/v2.0/jobs/982'},\n",
       "  'job': {'href': 'https://vantage.earthi.world/secure/api/v2.0/jobs/982{?projection}',\n",
       "   'templated': True},\n",
       "  'logs': {'href': 'https://vantage.earthi.world/secure/api/v2.0/jobs/982/logs'},\n",
       "  'cancel': {'href': 'https://vantage.earthi.world/secure/api/v2.0/jobs/982/cancel'}}}"
      ]
     },
     "execution_count": 44,
     "metadata": {},
     "output_type": "execute_result"
    }
   ],
   "source": [
    "response.json()"
   ]
  },
  {
   "cell_type": "markdown",
   "metadata": {},
   "source": [
    "#### 4.5 Get the job logs"
   ]
  },
  {
   "cell_type": "code",
   "execution_count": 45,
   "metadata": {},
   "outputs": [],
   "source": [
    "job_id='982'"
   ]
  },
  {
   "cell_type": "code",
   "execution_count": 46,
   "metadata": {},
   "outputs": [
    {
     "data": {
      "text/plain": [
       "200"
      ]
     },
     "execution_count": 46,
     "metadata": {},
     "output_type": "execute_result"
    }
   ],
   "source": [
    "response = requests.get(endpoint + '/jobs/' + job_id + '/logs', auth=(user,api))\n",
    "response.status_code"
   ]
  },
  {
   "cell_type": "code",
   "execution_count": 47,
   "metadata": {},
   "outputs": [
    {
     "data": {
      "text/plain": [
       "[{'timestamp': '2021-07-19T09:01:18.635535789+00:00',\n",
       "  'message': '+++ readlink -f /home/worker/processor/workflow.sh\\n'},\n",
       " {'timestamp': '2021-07-19T09:01:18.636364485+00:00',\n",
       "  'message': '++ dirname /home/worker/processor/workflow.sh\\n'},\n",
       " {'timestamp': '2021-07-19T09:01:18.638163634+00:00',\n",
       "  'message': '+ WORKFLOW=/home/worker/processor\\n'},\n",
       " {'timestamp': '2021-07-19T09:01:18.638536353+00:00',\n",
       "  'message': '+ WORKER_DIR=/home/worker\\n'},\n",
       " {'timestamp': '2021-07-19T09:01:18.638547273+00:00',\n",
       "  'message': '+ IN_DIR=/home/worker/workDir/inDir\\n'},\n",
       " {'timestamp': '2021-07-19T09:01:18.638551135+00:00',\n",
       "  'message': '+ OUT_DIR=/home/worker/workDir/outDir\\n'},\n",
       " {'timestamp': '2021-07-19T09:01:18.638554847+00:00',\n",
       "  'message': '+ WPS_PROPS=/home/worker/workDir/WPS-INPUT.properties\\n'},\n",
       " {'timestamp': '2021-07-19T09:01:18.638557841+00:00',\n",
       "  'message': '+ PROC_DIR=/home/worker/procDir\\n'},\n",
       " {'timestamp': '2021-07-19T09:01:18.638799140+00:00',\n",
       "  'message': '++ date --utc +%Y%m%d_%H%M%SZ\\n'},\n",
       " {'timestamp': '2021-07-19T09:01:18.640051564+00:00',\n",
       "  'message': '+ TIMESTAMP=20210719_090118Z\\n'},\n",
       " {'timestamp': '2021-07-19T09:01:18.640081445+00:00',\n",
       "  'message': '+ source /home/worker/workDir/WPS-INPUT.properties\\n'},\n",
       " {'timestamp': '2021-07-19T09:01:18.640225919+00:00',\n",
       "  'message': '++ ref_mask_path=eovep://outputProduct/4f4b8e62-6377-4ffd-9304-5d510e545908/output/output.zip\\n'},\n",
       " {'timestamp': '2021-07-19T09:01:18.640286459+00:00',\n",
       "  'message': '++ target_mask_path=eovep://outputProduct/5f2fd9cb-a034-46a8-816d-501388f0177c/output/output.zip\\n'},\n",
       " {'timestamp': '2021-07-19T09:01:18.640292633+00:00',\n",
       "  'message': '+ mkdir -p /home/worker/workDir/outDir/output\\n'},\n",
       " {'timestamp': '2021-07-19T09:01:18.641892827+00:00',\n",
       "  'message': '+ cd /home/worker/processor/\\n'},\n",
       " {'timestamp': '2021-07-19T09:01:18.641904679+00:00',\n",
       "  'message': '+ ls /home/worker/workDir/inDir/ref_mask_path\\n'},\n",
       " {'timestamp': '2021-07-19T09:01:18.645884996+00:00',\n",
       "  'message': 'VX020003ad.tif\\n'},\n",
       " {'timestamp': '2021-07-19T09:01:18.645903972+00:00',\n",
       "  'message': 'VX020003ad.xml\\n'},\n",
       " {'timestamp': '2021-07-19T09:01:18.646397869+00:00',\n",
       "  'message': '+ ls /home/worker/workDir/inDir/target_mask_path\\n'},\n",
       " {'timestamp': '2021-07-19T09:01:18.648460324+00:00',\n",
       "  'message': 'VX02000186.tif\\n'},\n",
       " {'timestamp': '2021-07-19T09:01:18.648472119+00:00',\n",
       "  'message': 'VX02000186.xml\\n'},\n",
       " {'timestamp': '2021-07-19T09:01:18.649271530+00:00',\n",
       "  'message': '+ python symmetric_difference.py --ref_mask_path /home/worker/workDir/inDir/ref_mask_path --target_mask_path /home/worker/workDir/inDir/target_mask_path\\n'},\n",
       " {'timestamp': '2021-07-19T09:01:20.969535884+00:00',\n",
       "  'message': \"/usr/local/lib/python3.9/site-packages/pyproj/crs/crs.py:68: FutureWarning: '+init=<authority>:<code>' syntax is deprecated. '<authority>:<code>' is the preferred initialization method. When making the change, be mindful of axis order changes: https://pyproj4.github.io/pyproj/stable/gotchas.html#axis-order-changes-in-proj-6\\n\"},\n",
       " {'timestamp': '2021-07-19T09:01:20.969576475+00:00',\n",
       "  'message': '  return _prepare_from_string(\" \".join(pjargs))\\n'},\n",
       " {'timestamp': '2021-07-19T09:01:22.454502578+00:00',\n",
       "  'message': \"/home/worker/processor/symmetric_difference.py:168: UserWarning: Geometry is in a geographic CRS. Results from 'area' are likely incorrect. Use 'GeoSeries.to_crs()' to re-project geometries to a projected CRS before this operation.\\n\"},\n",
       " {'timestamp': '2021-07-19T09:01:22.454535766+00:00', 'message': '\\n'},\n",
       " {'timestamp': '2021-07-19T09:01:22.454540958+00:00',\n",
       "  'message': '  pos_change_area = sum(pos_change_gdf.area) * res * res\\n'},\n",
       " {'timestamp': '2021-07-19T09:01:22.673363185+00:00',\n",
       "  'message': '3233 4476\\n'},\n",
       " {'timestamp': '2021-07-19T09:01:22.673401717+00:00',\n",
       "  'message': '5120 5120\\n'},\n",
       " {'timestamp': '2021-07-19T09:01:22.894342045+00:00',\n",
       "  'message': '+ ls /home/worker/workDir/outDir/output\\n'},\n",
       " {'timestamp': '2021-07-19T09:01:22.895559733+00:00',\n",
       "  'message': 'output.zip\\n'}]"
      ]
     },
     "execution_count": 47,
     "metadata": {},
     "output_type": "execute_result"
    }
   ],
   "source": [
    "response.json()"
   ]
  },
  {
   "cell_type": "markdown",
   "metadata": {},
   "source": [
    "## 5. Download the final product"
   ]
  },
  {
   "cell_type": "markdown",
   "metadata": {},
   "source": [
    "#### 5.1 Get the list of the job's output files"
   ]
  },
  {
   "cell_type": "code",
   "execution_count": 48,
   "metadata": {},
   "outputs": [],
   "source": [
    "job_id='982'"
   ]
  },
  {
   "cell_type": "code",
   "execution_count": 49,
   "metadata": {},
   "outputs": [
    {
     "data": {
      "text/plain": [
       "200"
      ]
     },
     "execution_count": 49,
     "metadata": {},
     "output_type": "execute_result"
    }
   ],
   "source": [
    "response = requests.get(endpoint + '/jobs/' + job_id + '/outputFiles', auth=(user,api))\n",
    "response.status_code"
   ]
  },
  {
   "cell_type": "code",
   "execution_count": 50,
   "metadata": {},
   "outputs": [
    {
     "data": {
      "text/plain": [
       "{'_embedded': {'platformFiles': [{'owner': {'role': 'CONTENT_AUTHORITY',\n",
       "     'name': 'demo.jhub',\n",
       "     'id': 50,\n",
       "     '_links': {'self': {'href': 'https://vantage.earthi.world/secure/api/v2.0/users/50{?projection}',\n",
       "       'templated': True}}},\n",
       "    'restoId': 'e0453096-32ad-5f24-9953-2247aa48c95c',\n",
       "    'filename': '74f3eff7-1c4c-41da-af71-ff1255b21650/output/output.zip',\n",
       "    'access': {'published': False,\n",
       "     'publishRequested': False,\n",
       "     'currentLevel': 'SUPERUSER'},\n",
       "    'type': 'OUTPUT_PRODUCT',\n",
       "    'id': 2501,\n",
       "    '_links': {'self': {'href': 'https://vantage.earthi.world/secure/api/v2.0/platformFiles/2501'},\n",
       "     'file': {'href': 'https://vantage.earthi.world/secure/api/v2.0/platformFiles/2501{?projection}',\n",
       "      'templated': True},\n",
       "     'download': {'href': 'https://vantage.earthi.world/secure/api/v2.0/platformFiles/2501/dl'},\n",
       "     'owner': {'href': 'https://vantage.earthi.world/secure/api/v2.0/platformFiles/2501/owner'},\n",
       "     'jobs': {'href': 'https://vantage.earthi.world/secure/api/v2.0/platformFiles/2501/jobs'},\n",
       "     'collection': {'href': 'https://vantage.earthi.world/secure/api/v2.0/platformFiles/2501/collection'}}}]},\n",
       " '_links': {'self': {'href': 'https://vantage.earthi.world/secure/api/v2.0/jobs/982/outputFiles'}}}"
      ]
     },
     "execution_count": 50,
     "metadata": {},
     "output_type": "execute_result"
    }
   ],
   "source": [
    "response.json()"
   ]
  },
  {
   "cell_type": "markdown",
   "metadata": {},
   "source": [
    "#### 5.2 Show the details of one product"
   ]
  },
  {
   "cell_type": "code",
   "execution_count": 51,
   "metadata": {},
   "outputs": [
    {
     "data": {
      "text/plain": [
       "200"
      ]
     },
     "execution_count": 51,
     "metadata": {},
     "output_type": "execute_result"
    }
   ],
   "source": [
    "output_file='2501'\n",
    "response = requests.get(endpoint + '/jobs/' + job_id + '/outputFiles/' + output_file, auth=(user,api))\n",
    "response.status_code"
   ]
  },
  {
   "cell_type": "code",
   "execution_count": 52,
   "metadata": {},
   "outputs": [
    {
     "data": {
      "text/plain": [
       "{'owner': {'role': 'CONTENT_AUTHORITY',\n",
       "  'name': 'demo.jhub',\n",
       "  'id': 50,\n",
       "  '_links': {'self': {'href': 'https://vantage.earthi.world/secure/api/v2.0/users/50{?projection}',\n",
       "    'templated': True}}},\n",
       " 'restoId': 'e0453096-32ad-5f24-9953-2247aa48c95c',\n",
       " 'filename': '74f3eff7-1c4c-41da-af71-ff1255b21650/output/output.zip',\n",
       " 'access': {'published': False,\n",
       "  'publishRequested': False,\n",
       "  'currentLevel': 'SUPERUSER'},\n",
       " 'type': 'OUTPUT_PRODUCT',\n",
       " 'id': 2501,\n",
       " '_links': {'self': {'href': 'https://vantage.earthi.world/secure/api/v2.0/platformFiles/2501'},\n",
       "  'file': {'href': 'https://vantage.earthi.world/secure/api/v2.0/platformFiles/2501{?projection}',\n",
       "   'templated': True},\n",
       "  'download': {'href': 'https://vantage.earthi.world/secure/api/v2.0/platformFiles/2501/dl'},\n",
       "  'owner': {'href': 'https://vantage.earthi.world/secure/api/v2.0/platformFiles/2501/owner'},\n",
       "  'jobs': {'href': 'https://vantage.earthi.world/secure/api/v2.0/platformFiles/2501/jobs'},\n",
       "  'collection': {'href': 'https://vantage.earthi.world/secure/api/v2.0/platformFiles/2501/collection'}}}"
      ]
     },
     "execution_count": 52,
     "metadata": {},
     "output_type": "execute_result"
    }
   ],
   "source": [
    "response.json()"
   ]
  },
  {
   "cell_type": "markdown",
   "metadata": {},
   "source": [
    "#### 5.3 Get the download cost estimation"
   ]
  },
  {
   "cell_type": "code",
   "execution_count": 53,
   "metadata": {},
   "outputs": [
    {
     "data": {
      "text/plain": [
       "200"
      ]
     },
     "execution_count": 53,
     "metadata": {},
     "output_type": "execute_result"
    }
   ],
   "source": [
    "output_file='2501'\n",
    "response = requests.get(endpoint + '/estimateCost/download/' + output_file, auth=(user,api))\n",
    "response.status_code"
   ]
  },
  {
   "cell_type": "code",
   "execution_count": 54,
   "metadata": {},
   "outputs": [
    {
     "data": {
      "text/plain": [
       "{'estimatedCost': 1, 'recurrence': 'ONE_OFF', 'currentWalletBalance': 112}"
      ]
     },
     "execution_count": 54,
     "metadata": {},
     "output_type": "execute_result"
    }
   ],
   "source": [
    "response.json()"
   ]
  },
  {
   "cell_type": "markdown",
   "metadata": {},
   "source": [
    "#### 5.4 Download the product"
   ]
  },
  {
   "cell_type": "code",
   "execution_count": 55,
   "metadata": {},
   "outputs": [
    {
     "data": {
      "text/plain": [
       "200"
      ]
     },
     "execution_count": 55,
     "metadata": {},
     "output_type": "execute_result"
    }
   ],
   "source": [
    "output_file='2501'\n",
    "response = requests.get(endpoint + '/platformFiles/' + output_file + '/dl', auth=(user,api))\n",
    "response.status_code"
   ]
  },
  {
   "cell_type": "code",
   "execution_count": 56,
   "metadata": {},
   "outputs": [
    {
     "data": {
      "text/plain": [
       "29157753"
      ]
     },
     "execution_count": 56,
     "metadata": {},
     "output_type": "execute_result"
    }
   ],
   "source": [
    "open('symmetricDifferenceOutput.zip', 'wb').write(response.content)"
   ]
  }
 ],
 "metadata": {
  "kernelspec": {
   "display_name": "Python 3",
   "language": "python",
   "name": "python3"
  },
  "language_info": {
   "codemirror_mode": {
    "name": "ipython",
    "version": 3
   },
   "file_extension": ".py",
   "mimetype": "text/x-python",
   "name": "python",
   "nbconvert_exporter": "python",
   "pygments_lexer": "ipython3",
   "version": "3.6.7"
  }
 },
 "nbformat": 4,
 "nbformat_minor": 2
}
