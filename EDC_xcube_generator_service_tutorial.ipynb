{
 "cells": [
  {
   "cell_type": "markdown",
   "id": "886e7a56-37e9-4082-b435-2215a3db5aae",
   "metadata": {
    "papermill": {
     "duration": 0.026791,
     "end_time": "2021-09-15T09:36:56.309788",
     "exception": false,
     "start_time": "2021-09-15T09:36:56.282997",
     "status": "completed"
    },
    "tags": []
   },
   "source": [
    "# Introduction on how to use xcube generator service\n",
    "## Brought to you by Brockmann Consult\n",
    "\n",
    "This notebook demonstrates how to generate data cubes in zarr format using different data stores offered within EDC. To run the notebook yourself, please make sure you have a xcube generator subscription (https://eurodatacube.com/marketplace/services/edc_xcube_generator). There is a free trial availabe, to get you started right away :) \n",
    "\n",
    "In this notebook you will learn how to\n",
    "\n",
    "-  setup your environment in order to be able to use the xcube generation service,\n",
    "-  request Sentinel Data,\n",
    "-  request data from selected Copernicus Service,\n",
    "-  request data from Copernicus Climate Data Store,\n",
    "-  request data from ESA Climate Change Initiative.\n",
    "\n"
   ]
  },
  {
   "cell_type": "markdown",
   "id": "5e6a17d2-3cb2-44b5-89e0-aaf9a1f367c9",
   "metadata": {},
   "source": [
    "## 0. REQUIRED STEPS"
   ]
  },
  {
   "cell_type": "markdown",
   "id": "dda43468-ec80-4770-8c22-e9fcd39c7d26",
   "metadata": {},
   "source": [
    "1.\tIn your jupyter hub click on \"New Launcher\" (button with a plus sign)\n",
    "2.\tSelect \"Terminal\"\n",
    "3.\tIn the Terminal, please execute (this will take a bit):  \n",
    "```\n",
    "mamba install -c conda-forge xcube=0.9.1 xcube-cci=0.9.2 xcube-cds=0.9.1 xcube-sh=0.9.2 -y\n",
    "```\n",
    "4.\tOnce it has finished downloading the new versions go to you NB\n",
    "5.\tPlease make sure, that you restart the kernel to make sure you will get the newly installed software (little circle arrow button)\n"
   ]
  },
  {
   "cell_type": "markdown",
   "id": "b8feb5f4-f14d-4f6a-87f9-fcff9284c964",
   "metadata": {
    "papermill": {
     "duration": 0.022223,
     "end_time": "2021-09-15T09:36:56.353373",
     "exception": false,
     "start_time": "2021-09-15T09:36:56.331150",
     "status": "completed"
    },
    "tags": []
   },
   "source": [
    "## 1. Load packages and environment variables, create service configuration"
   ]
  },
  {
   "cell_type": "code",
   "execution_count": null,
   "id": "175553b0-f492-4181-8259-351ed55f5f2c",
   "metadata": {},
   "outputs": [],
   "source": [
    "import getpass"
   ]
  },
  {
   "cell_type": "code",
   "execution_count": null,
   "id": "dceb18c7-1620-49b7-bedd-2c5440629f02",
   "metadata": {},
   "outputs": [],
   "source": [
    "clientID = getpass.getpass('XCUBE CLIENT ID: ')"
   ]
  },
  {
   "cell_type": "code",
   "execution_count": null,
   "id": "51ff8ff9-4700-4625-98c2-9bae308b07c9",
   "metadata": {},
   "outputs": [],
   "source": [
    "clientSecret = getpass.getpass('XCUBE CLIENT SECRET: ')"
   ]
  },
  {
   "cell_type": "code",
   "execution_count": null,
   "id": "24619265-9c28-42d4-8284-b2cd9a3046aa",
   "metadata": {},
   "outputs": [],
   "source": [
    "import os\n",
    "os.environ[\"XCUBE_GEN_AUTH_AUD\"] = \"https://xcube-gen.brockmann-consult.de/api/v2/\"\n",
    "os.environ[\"XCUBE_GEN_API_SERVER_PORT\"] = \"443\"\n",
    "os.environ[\"XCUBE_GEN_AUTH_DOMAIN\"] = \"https://xcube-users.brockmann-consult.de/api/v2\"\n",
    "os.environ[\"XCUBE_GEN_AUTH_CLIENT_ID\"] = clientID\n",
    "os.environ[\"XCUBE_GEN_AUTH_CLIENT_SECRET\"] = clientSecret\n",
    "os.environ[\"XCUBE_GEN_API_SERVER_URL\"] = \"https://xcube-gen.brockmann-consult.de\"\n",
    "\n",
    "os.environ[\"CATALOG_NAME\"] = \"eurodatacube\"\n",
    "os.environ[\"CATALOG_URL\"] = \"https://nbviewer.hub.eox.at/notebooks\"\n",
    "os.environ[\"EDC_PATH\"] = \"/home/jovyan/.shared/notebooks/eurodatacube\""
   ]
  },
  {
   "cell_type": "code",
   "execution_count": null,
   "id": "decc7894-c450-4931-8724-3540b37b0575",
   "metadata": {},
   "outputs": [],
   "source": [
    "from xcube.version import version"
   ]
  },
  {
   "cell_type": "code",
   "execution_count": null,
   "id": "803c78e7-960c-49c3-9962-c2cc1762b093",
   "metadata": {},
   "outputs": [],
   "source": [
    "version"
   ]
  },
  {
   "cell_type": "code",
   "execution_count": null,
   "id": "d0b57b19-ac46-4d62-9bc3-e632771255c3",
   "metadata": {
    "papermill": {
     "duration": 3.797893,
     "end_time": "2021-09-15T09:37:00.172460",
     "exception": false,
     "start_time": "2021-09-15T09:36:56.374567",
     "status": "completed"
    },
    "tags": []
   },
   "outputs": [],
   "source": [
    "from xcube.core.gen2 import InputConfig\n",
    "from xcube.core.gen2 import CubeConfig\n",
    "from xcube.core.gen2 import OutputConfig\n",
    "from xcube.core.gen2 import CubeGeneratorRequest\n",
    "from xcube.core.gen2 import CubeGenerator\n",
    "from xcube.core.gen2 import ServiceConfig\n",
    "\n",
    "# utilities\n",
    "import os\n",
    "import xcube\n",
    "import IPython.display\n",
    "import shapely.geometry\n",
    "%matplotlib inline"
   ]
  },
  {
   "cell_type": "code",
   "execution_count": null,
   "id": "ff099602-7c82-4efa-a0ca-019e017d55b2",
   "metadata": {
    "papermill": {
     "duration": 0.029865,
     "end_time": "2021-09-15T09:37:00.223963",
     "exception": false,
     "start_time": "2021-09-15T09:37:00.194098",
     "status": "completed"
    },
    "tags": []
   },
   "outputs": [],
   "source": [
    "from edc import setup_environment_variables\n",
    "setup_environment_variables()"
   ]
  },
  {
   "cell_type": "markdown",
   "id": "d29d0423-101c-49ea-a945-8560ef1ce4ea",
   "metadata": {
    "papermill": {
     "duration": 0.021724,
     "end_time": "2021-09-15T09:37:00.268495",
     "exception": false,
     "start_time": "2021-09-15T09:37:00.246771",
     "status": "completed"
    },
    "tags": []
   },
   "source": [
    "The manual creation of the service_config_json will not be required in future versions."
   ]
  },
  {
   "cell_type": "code",
   "execution_count": null,
   "id": "afbbfb3a",
   "metadata": {
    "papermill": {
     "duration": 0.030735,
     "end_time": "2021-09-15T09:37:00.321027",
     "exception": false,
     "start_time": "2021-09-15T09:37:00.290292",
     "status": "completed"
    },
    "tags": []
   },
   "outputs": [],
   "source": [
    "service_config_json = {\n",
    "  \"endpoint_url\": os.getenv(\"XCUBE_GEN_API_SERVER_URL\") + \"/api/v2\", \n",
    "  \"client_id\": os.getenv(\"XCUBE_GEN_AUTH_CLIENT_ID\"), \n",
    "  \"client_secret\": os.getenv(\"XCUBE_GEN_AUTH_CLIENT_SECRET\") \n",
    "}"
   ]
  },
  {
   "cell_type": "code",
   "execution_count": null,
   "id": "918f5d38",
   "metadata": {
    "papermill": {
     "duration": 0.027222,
     "end_time": "2021-09-15T09:37:00.370035",
     "exception": false,
     "start_time": "2021-09-15T09:37:00.342813",
     "status": "completed"
    },
    "tags": []
   },
   "outputs": [],
   "source": [
    "service_config = ServiceConfig.from_dict(service_config_json)"
   ]
  },
  {
   "cell_type": "markdown",
   "id": "25beea30-5515-471f-a9eb-0c1c0bdeae96",
   "metadata": {
    "papermill": {
     "duration": 0.026115,
     "end_time": "2021-09-15T09:37:00.417642",
     "exception": false,
     "start_time": "2021-09-15T09:37:00.391527",
     "status": "completed"
    },
    "tags": []
   },
   "source": [
    "## 2. Requesting Sentinel Data"
   ]
  },
  {
   "cell_type": "markdown",
   "id": "732ae632-5c21-4a01-ba0a-36ad936fdb72",
   "metadata": {
    "papermill": {
     "duration": 0.021795,
     "end_time": "2021-09-15T09:37:00.461187",
     "exception": false,
     "start_time": "2021-09-15T09:37:00.439392",
     "status": "completed"
    },
    "tags": []
   },
   "source": [
    "Before we start, the area of interest needs to be defined. Let's take a look at northern Germany:"
   ]
  },
  {
   "cell_type": "code",
   "execution_count": null,
   "id": "4ba8c114-1b18-43c6-bba5-eba72ddedc94",
   "metadata": {
    "papermill": {
     "duration": 0.026946,
     "end_time": "2021-09-15T09:37:00.510479",
     "exception": false,
     "start_time": "2021-09-15T09:37:00.483533",
     "status": "completed"
    },
    "tags": []
   },
   "outputs": [],
   "source": [
    "x1 = 7.  # degree\n",
    "y1 = 53  # degree\n",
    "x2 = 11  # degree\n",
    "y2 = 55  # degree\n",
    "\n",
    "bbox = x1, y1, x2, y2"
   ]
  },
  {
   "cell_type": "markdown",
   "id": "bd2dc5c1-1220-458c-aad0-49b65cdbbfee",
   "metadata": {
    "papermill": {
     "duration": 0.022174,
     "end_time": "2021-09-15T09:37:00.554737",
     "exception": false,
     "start_time": "2021-09-15T09:37:00.532563",
     "status": "completed"
    },
    "tags": []
   },
   "source": [
    "Let's check the region, to make sure it covers the expected area:"
   ]
  },
  {
   "cell_type": "code",
   "execution_count": null,
   "id": "c1bec9e7-4b6a-43d7-8737-4a757322e4bf",
   "metadata": {
    "papermill": {
     "duration": 0.031176,
     "end_time": "2021-09-15T09:37:00.607746",
     "exception": false,
     "start_time": "2021-09-15T09:37:00.576570",
     "status": "completed"
    },
    "tags": []
   },
   "outputs": [],
   "source": [
    "IPython.display.GeoJSON(shapely.geometry.box(*bbox).__geo_interface__)"
   ]
  },
  {
   "cell_type": "markdown",
   "id": "cb40d726-244d-4fb1-9f79-e77fdb26241c",
   "metadata": {
    "papermill": {
     "duration": 0.022336,
     "end_time": "2021-09-15T09:37:00.652208",
     "exception": false,
     "start_time": "2021-09-15T09:37:00.629872",
     "status": "completed"
    },
    "tags": []
   },
   "source": [
    "Please check the table for available Sentinel Data and if you would like to get more information about a particular sensor or band head over to the documentation of the data sets: https://docs.sentinel-hub.com/api/latest/data/\n",
    "\n",
    " | Dataset     | Variables               | Data ID |Store ID     | \n",
    "| -------- | -------- |----|----|\n",
    "| `Sentinel-1 GRD`       | `VV`, `VH`, `HV`, `HH` | `S1GRD`| `@sentinelhub_eu` |\n",
    "| `Sentinel-2 MSI L1C`   | `B01`, `B02`, `B03`, `B04`, `B05`, `B06`, `B07`, `B08`, `B8A`, `B09`, `B10`, `B11`, `B12` | `S2L1C`| `@sentinelhub_eu` |\n",
    "| `Sentinel-2 MSI L2A`   | `B01`, `B02`, `B03`, `B04`, `B05`, `B06`, `B07`, `B08`, `B8A`, `B09`, `B10`, `B11`, `B12` | `S2L2A`| `@sentinelhub_eu` |\n",
    "| `Sentinel-3 OCLI L1B`  | `B01`, `B02`, `B03`, `B04`, `B05`, `B06`, `B07`, `B08`, `B09`, `B10`, `B11`, `B12`, `B13`, `B14`, `B15`, `B16`, `B17`, `B18`, `B19`, `B20`, `B21` | `S3OLCI`| `@sentinelhub_creodias` |\n"
   ]
  },
  {
   "cell_type": "markdown",
   "id": "98b53ae2-5206-406d-8c48-3dd46cf9cd83",
   "metadata": {
    "papermill": {
     "duration": 0.022847,
     "end_time": "2021-09-15T09:37:00.697160",
     "exception": false,
     "start_time": "2021-09-15T09:37:00.674313",
     "status": "completed"
    },
    "tags": []
   },
   "source": [
    "In the following example we will request a cube for  `Sentinel-2 MSI L2A` with the `\"data_id\": \"S2L2A\"`.    \n",
    "  \n",
    "Now let's create a request for the xcube generator. JSON is used here, because it could be loaded in this form from a file as well.   \n",
    "\n",
    "A request consists of three parts: **input_config**, **cube_config** and **output_config**. \n",
    "\n",
    "**input_config**: Defines the source of input data as well as the particular dataset identifier `data_id`.   \n",
    "**cube_config**: This is where the cube is configured. Include all information like desired variables, bounding box `bbox` or time range.   \n",
    "**output_config**: Details of the target destination of the cube. The example configuration includes a public-read bucket which holds data for **4 days only**Requesting. If you use this configuration and you want to keep your data, please make sure to give a unique data_id for your cube name, because anybody can set the parameter \"replace\" to true and (accidentally) overwrite your cube within the eurodatacube-scratch bucket if it happens to have the exact same data_id! If you wish to save the data into your own bucket please use the following output_config:\n",
    "\n",
    "    \"output_config\": {\n",
    "    \"store_id\": \"s3\",\n",
    "    \"data_id\": \"name_your_cube.zarr\",\n",
    "    \"replace\": True,\n",
    "    \"store_params\": {\n",
    "      \"bucket_name\": \"name_of_your_aws_s3_bucket\", \n",
    "      \"aws_access_key_id\": \"AWS_ACCESS_KEY\",\n",
    "      \"aws_secret_access_key\": \"AWS_SECRET\"\n",
    "    }\n"
   ]
  },
  {
   "cell_type": "code",
   "execution_count": null,
   "id": "01fc57db-ea0b-4128-9b39-ff351bfd0cf3",
   "metadata": {},
   "outputs": [],
   "source": [
    "input_config = InputConfig(\n",
    "    store_id=\"@sentinelhub_eu\",\n",
    "    data_id=\"S2L2A\",\n",
    ")\n",
    "\n",
    "cube_config = CubeConfig(\n",
    "   variable_names=[\"B04\", \"B05\"],\n",
    "   tile_size=[512, 512],\n",
    "   spatial_res=0.001,           \n",
    "   bbox = bbox,      \n",
    "   time_range=[\"2021-03-01\", \"2021-03-06\"]\n",
    ")\n",
    "\n",
    "output_config = OutputConfig(\n",
    "    store_id=\"@eurodatacube_scratch\",\n",
    "    replace=True,\n",
    "    data_id=\"SH_demo_v9_AB.zarr\"\n",
    ")"
   ]
  },
  {
   "cell_type": "code",
   "execution_count": null,
   "id": "b6ed0263-825e-4e59-90c1-622b26f4ee84",
   "metadata": {},
   "outputs": [],
   "source": [
    "request = CubeGeneratorRequest(\n",
    "    input_config=input_config,\n",
    "    cube_config=cube_config,\n",
    "    output_config=output_config\n",
    ")"
   ]
  },
  {
   "cell_type": "code",
   "execution_count": null,
   "id": "dbd5eeaa-eecd-427e-b1a2-0ecfa6d7ec8a",
   "metadata": {},
   "outputs": [],
   "source": [
    "generator_service = CubeGenerator.new(service_config=service_config, verbosity=1)"
   ]
  },
  {
   "cell_type": "markdown",
   "id": "df4c15bd-9609-4949-ade5-4a2fe2cebc27",
   "metadata": {
    "papermill": {
     "duration": 0.026208,
     "end_time": "2021-09-15T09:37:00.910538",
     "exception": false,
     "start_time": "2021-09-15T09:37:00.884330",
     "status": "completed"
    },
    "tags": []
   },
   "source": [
    "To inspect the costs of the configured cube you can do it with the following lines. In the cube_info you will see, that the requested cube has an estimated cost of 384 processing units and the limit is set to 10000. The available processing units will depend on your subscription plan and whether you have already generated cubes or not. "
   ]
  },
  {
   "cell_type": "code",
   "execution_count": null,
   "id": "464185ce-18af-48e0-b657-8a3a0ef3f4af",
   "metadata": {},
   "outputs": [],
   "source": [
    "generator_service.get_cube_info(request)"
   ]
  },
  {
   "cell_type": "markdown",
   "id": "73e17d90-0874-4461-a6df-36819f45d099",
   "metadata": {
    "papermill": {
     "duration": 0.023958,
     "end_time": "2021-09-15T09:37:07.912235",
     "exception": false,
     "start_time": "2021-09-15T09:37:07.888277",
     "status": "completed"
    },
    "tags": []
   },
   "source": [
    "Let's go ahead, and generate the cube. Note that depending on the cube's size this may take up to several minutes. Once it is generated the `data_id` you assinged in the `output_config` of your request will be returned. In case the cube request is missing a `data_id` a generated name will be returned."
   ]
  },
  {
   "cell_type": "code",
   "execution_count": null,
   "id": "55cf960b-5d4b-435f-85b6-f9bdd8860570",
   "metadata": {
    "tags": []
   },
   "outputs": [],
   "source": [
    "from xcube.core.gen2 import CubeGeneratorError\n",
    "\n",
    "result = generator_service.generate_cube(request)"
   ]
  },
  {
   "cell_type": "code",
   "execution_count": null,
   "id": "33ee1ae0-d364-42b4-ab75-7ea1cd8d8160",
   "metadata": {},
   "outputs": [],
   "source": [
    "result.result.data_id"
   ]
  },
  {
   "cell_type": "markdown",
   "id": "1f99dda3-f2f7-4006-9421-64be6a7f4939",
   "metadata": {
    "papermill": {
     "duration": 0.025107,
     "end_time": "2021-09-15T09:38:00.227658",
     "exception": false,
     "start_time": "2021-09-15T09:38:00.202551",
     "status": "completed"
    },
    "tags": []
   },
   "source": [
    "To see, which cubes ar avaialable in a certain bucket, you can configure a store to show them. Here we use the eurodatacube-scratch bucket - so you will see all the cubes that have been placed in this bucket. **Keep in mind**: The content of eurodatacube-scratch is only available for **4 days** starting at the creation-moment! If you want to see the content of your own bucket, change the bucket name and in case it is not public-read you need to pass the credentials `client_kwargs = {\"aws_access_key_id\":\"ACCESS_ID\", \"aws_secret_access_key\":\"SECRET_KEY\"}`. In case you use your own private bucket you need to configure the new_data_store like this: `xcube_store = new_data_store(\"s3\", bucket_name=\"eurodatacube-scratch\", **client_kwargs)`"
   ]
  },
  {
   "cell_type": "code",
   "execution_count": null,
   "id": "218a0097-04f8-42bc-8946-91ef8657ca69",
   "metadata": {},
   "outputs": [],
   "source": [
    "#client_kwargs = {\"aws_access_key_id\":\"ACCESS_ID\", \"aws_secret_access_key\":\"SECRET_KEY\"}"
   ]
  },
  {
   "cell_type": "code",
   "execution_count": null,
   "id": "fe9380c9-82c6-4707-af77-73aa0483e8bd",
   "metadata": {},
   "outputs": [],
   "source": [
    "#xcube_store = new_data_store(\"s3\", bucket_name=\"YOUR-BUCKET-NAME\", **client_kwargs)"
   ]
  },
  {
   "cell_type": "code",
   "execution_count": null,
   "id": "d460c0ed-4434-48fd-8ed8-42f849800d4e",
   "metadata": {},
   "outputs": [],
   "source": [
    "from xcube.core.store import new_data_store\n",
    "xcube_store = new_data_store(\"s3\", root=\"eurodatacube-scratch\", storage_options=dict(anon=True))"
   ]
  },
  {
   "cell_type": "code",
   "execution_count": null,
   "id": "1703da74",
   "metadata": {
    "papermill": {
     "duration": 0.05741,
     "end_time": "2021-09-15T09:38:00.608027",
     "exception": false,
     "start_time": "2021-09-15T09:38:00.550617",
     "status": "completed"
    },
    "tags": []
   },
   "outputs": [],
   "source": [
    "dataset_id_list = list(xcube_store.get_data_ids())"
   ]
  },
  {
   "cell_type": "code",
   "execution_count": null,
   "id": "baf12155-4656-4ef1-a09f-55053b7a5e0e",
   "metadata": {
    "papermill": {
     "duration": 0.029286,
     "end_time": "2021-09-15T09:38:00.661183",
     "exception": false,
     "start_time": "2021-09-15T09:38:00.631897",
     "status": "completed"
    },
    "tags": []
   },
   "outputs": [],
   "source": [
    "dataset_id_list"
   ]
  },
  {
   "cell_type": "markdown",
   "id": "aa1a7282-3490-4d87-a689-a6ce3de3de5d",
   "metadata": {
    "papermill": {
     "duration": 0.024312,
     "end_time": "2021-09-15T09:38:00.709371",
     "exception": false,
     "start_time": "2021-09-15T09:38:00.685059",
     "status": "completed"
    },
    "tags": []
   },
   "source": [
    "Let's checkout the cube we just created:"
   ]
  },
  {
   "cell_type": "code",
   "execution_count": null,
   "id": "55c221ab",
   "metadata": {
    "papermill": {
     "duration": 0.979724,
     "end_time": "2021-09-15T09:38:01.712982",
     "exception": false,
     "start_time": "2021-09-15T09:38:00.733258",
     "status": "completed"
    },
    "tags": []
   },
   "outputs": [],
   "source": [
    "ds = xcube_store.open_data(\"SH_demo.zarr\")\n",
    "ds"
   ]
  },
  {
   "cell_type": "markdown",
   "id": "266116db-6cc6-4486-a771-184c9a02efd8",
   "metadata": {
    "papermill": {
     "duration": 0.026754,
     "end_time": "2021-09-15T09:38:01.771364",
     "exception": false,
     "start_time": "2021-09-15T09:38:01.744610",
     "status": "completed"
    },
    "tags": []
   },
   "source": [
    "Now, let's take a look at the plot of the data:"
   ]
  },
  {
   "cell_type": "code",
   "execution_count": null,
   "id": "55a0ba76",
   "metadata": {
    "papermill": {
     "duration": 7.676205,
     "end_time": "2021-09-15T09:38:09.473746",
     "exception": false,
     "start_time": "2021-09-15T09:38:01.797541",
     "status": "completed"
    },
    "tags": []
   },
   "outputs": [],
   "source": [
    "ds.B04.isel(time=2).plot(figsize=[12,12], vmax=1.0)"
   ]
  },
  {
   "cell_type": "code",
   "execution_count": null,
   "id": "c8f73968-38f2-49b6-8102-65b70e873543",
   "metadata": {},
   "outputs": [],
   "source": []
  }
 ],
 "metadata": {
  "kernelspec": {
   "display_name": "EDC 0.25.2 (Python3)",
   "language": "python",
   "name": "edc"
  },
  "language_info": {
   "codemirror_mode": {
    "name": "ipython",
    "version": 3
   },
   "file_extension": ".py",
   "mimetype": "text/x-python",
   "name": "python",
   "nbconvert_exporter": "python",
   "pygments_lexer": "ipython3",
   "version": "3.8.12"
  },
  "papermill": {
   "default_parameters": {},
   "duration": 407.075077,
   "end_time": "2021-09-15T09:43:42.230625",
   "environment_variables": {},
   "exception": null,
   "input_path": "/tmp/tmpwal_yn_3",
   "output_path": "/tmp/notebook_output.ipynb",
   "parameters": {},
   "start_time": "2021-09-15T09:36:55.155548",
   "version": "2.3.3"
  },
  "properties": {
   "authors": [],
   "description": "Generate cubes from different data stores offered by EDC.",
   "id": "01c63259-e678-427d-8f4a-6238219c0925",
   "license": null,
   "name": "Introduction on how to use xcube generator service",
   "requirements": [
    "eurodatacube-xcube-gen",
    "eoxhub",
    "eoxhub"
   ],
   "tags": [
    "Analysis-Ready Data",
    "Download Service",
    "Getting started",
    "EO Data",
    "Jupyter",
    "Sentinel Data",
    "xcube"
   ],
   "tosAgree": true,
   "type": "Jupyter Notebook",
   "version": "0.0.3"
  }
 },
 "nbformat": 4,
 "nbformat_minor": 5
}
